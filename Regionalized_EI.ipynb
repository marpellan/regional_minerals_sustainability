{
 "cells": [
  {
   "cell_type": "code",
   "execution_count": null,
   "id": "initial_id",
   "metadata": {
    "collapsed": true
   },
   "outputs": [],
   "source": [
    "import pandas as pd\n",
    "import numpy as np"
   ]
  },
  {
   "metadata": {
    "ExecuteTime": {
     "end_time": "2024-10-31T21:19:32.385310Z",
     "start_time": "2024-10-31T21:19:27.233384Z"
    }
   },
   "cell_type": "code",
   "source": [
    "# Brightway imports\n",
    "import bw2analyzer as ba\n",
    "import bw2calc as bc\n",
    "import bw2data as bd\n",
    "import bw2io as bi\n",
    "import brightway2 as bw\n",
    "from bw2data import parameters\n",
    "from sympy.physics.units import years"
   ],
   "id": "93a24e12179afff6",
   "outputs": [],
   "execution_count": 2
  },
  {
   "metadata": {},
   "cell_type": "code",
   "outputs": [],
   "execution_count": null,
   "source": [
    "name_of_your_project = ''\n",
    "ecoinvent_database_name = ''\n",
    "new_regionalized_ecoinvent_database_name = ''"
   ],
   "id": "137148886a38ccbb"
  },
  {
   "metadata": {},
   "cell_type": "code",
   "outputs": [],
   "execution_count": null,
   "source": [
    "BW_PROJECT = 'lib_rm' # insert your project name here\n",
    "bd.projects.set_current(BW_PROJECT)\n",
    "\n",
    "EI_DB = 'ecoinvent-3.10-cutoff' # name of ecoinvent database in your project\n",
    "REG_EI_DB = 'ecoinvent-3.10-cutoff_regionalized'"
   ],
   "id": "3c6b7a545ad5bd7d"
  },
  {
   "metadata": {},
   "cell_type": "code",
   "outputs": [],
   "execution_count": null,
   "source": "bw.projects.set_current(name_of_your_project)",
   "id": "1a5b72f751a3d6d8"
  },
  {
   "metadata": {
    "ExecuteTime": {
     "end_time": "2024-10-31T21:22:55.188931Z",
     "start_time": "2024-10-31T21:22:55.173637Z"
    }
   },
   "cell_type": "code",
   "source": [
    "impact_world_methods = [method for method in bd.methods if 'IMPACT World+ v2.0.1' in method[0]]\n",
    "impact_world_methods"
   ],
   "id": "e641131feb5f7643",
   "outputs": [
    {
     "data": {
      "text/plain": [
       "[('IMPACT World+ v2.0.1, footprint version',\n",
       "  'climate change',\n",
       "  'carbon footprint'),\n",
       " ('IMPACT World+ v2.0.1, footprint version',\n",
       "  'ecosystem quality',\n",
       "  'remaining ecosystem quality damage'),\n",
       " ('IMPACT World+ v2.0.1, footprint version',\n",
       "  'energy resources: non-renewable',\n",
       "  'fossil and nuclear energy use'),\n",
       " ('IMPACT World+ v2.0.1, footprint version',\n",
       "  'human health',\n",
       "  'remaining human health damage'),\n",
       " ('IMPACT World+ v2.0.1, footprint version',\n",
       "  'water use',\n",
       "  'water scarcity footprint')]"
      ]
     },
     "execution_count": 13,
     "metadata": {},
     "output_type": "execute_result"
    }
   ],
   "execution_count": 13
  },
  {
   "metadata": {},
   "cell_type": "markdown",
   "source": [
    "- 1 - Create biosphere3_regionalized in brightway2\n",
    "- 2 - Link ecoinvent to these new elementary flows\n",
    "- 3 - Make the regionalized IW+ version with brightway2"
   ],
   "id": "de0306402975df14"
  },
  {
   "metadata": {},
   "cell_type": "markdown",
   "source": "# 1 - Create a new biosphere3 for regionalized water flow ",
   "id": "79bee08eb47e59ca"
  },
  {
   "metadata": {},
   "cell_type": "code",
   "outputs": [],
   "execution_count": null,
   "source": "",
   "id": "6ceb71a13e40073c"
  },
  {
   "metadata": {},
   "cell_type": "markdown",
   "source": "# 2 - Link EI inventories to the regionalized water flows ",
   "id": "b22528cfb0a946d3"
  },
  {
   "metadata": {},
   "cell_type": "code",
   "outputs": [],
   "execution_count": null,
   "source": "",
   "id": "17fea0411c1e5768"
  },
  {
   "metadata": {},
   "cell_type": "markdown",
   "source": "# 3 - Link to IW+",
   "id": "964bab44fa08e3e8"
  },
  {
   "metadata": {},
   "cell_type": "code",
   "outputs": [],
   "execution_count": null,
   "source": "",
   "id": "24c2f6fe57d2621d"
  }
 ],
 "metadata": {
  "kernelspec": {
   "display_name": "Python 3",
   "language": "python",
   "name": "python3"
  },
  "language_info": {
   "codemirror_mode": {
    "name": "ipython",
    "version": 2
   },
   "file_extension": ".py",
   "mimetype": "text/x-python",
   "name": "python",
   "nbconvert_exporter": "python",
   "pygments_lexer": "ipython2",
   "version": "2.7.6"
  }
 },
 "nbformat": 4,
 "nbformat_minor": 5
}
