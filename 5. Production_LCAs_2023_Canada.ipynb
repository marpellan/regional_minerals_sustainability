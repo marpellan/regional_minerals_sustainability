{
 "cells": [
  {
   "cell_type": "code",
   "id": "initial_id",
   "metadata": {
    "collapsed": true
   },
   "source": [
    "# Brightway imports\n",
    "import bw2analyzer as ba\n",
    "import bw2calc as bc\n",
    "import bw2data as bd\n",
    "import bw2io as bi\n",
    "import brightway2 as bw"
   ],
   "outputs": [],
   "execution_count": null
  },
  {
   "metadata": {},
   "cell_type": "code",
   "source": [
    "import numpy as np\n",
    "import pandas as pd"
   ],
   "id": "d2e845a788d1dec6",
   "outputs": [],
   "execution_count": null
  },
  {
   "metadata": {},
   "cell_type": "code",
   "source": [
    "# Custom functions\n",
    "from useful_functions import get_inventory_dataset, init_simple_lca, multi_lcia\n",
    "from visualisation_functions import heatmap_lca, heatmap_db_comparison"
   ],
   "id": "642869c536cb3095",
   "outputs": [],
   "execution_count": null
  },
  {
   "metadata": {},
   "cell_type": "markdown",
   "source": "# Import production data from World Mining Data 2024",
   "id": "b759fe4dd75b69db"
  },
  {
   "metadata": {},
   "cell_type": "code",
   "source": "file_path = 'data/World_mining_data_2024/6.5. Share_of_World_Mineral_Production_2022_by_Countries.xlsx'  ",
   "id": "e65d07e53e3ee4f8",
   "outputs": [],
   "execution_count": null
  },
  {
   "metadata": {},
   "cell_type": "code",
   "source": [
    "def get_canada_production_data(file_path):\n",
    "    \"\"\"\n",
    "    Reads an Excel file with multiple sheets, each representing a commodity.\n",
    "    Extracts Canada's production, world share, and unit for each commodity, returning a DataFrame.\n",
    "    Commodities are listed in alphabetical order, with 0s for missing data.\n",
    "    \n",
    "    Parameters:\n",
    "    - file_path (str): Path to the Excel file containing the data.\n",
    "    \n",
    "    Returns:\n",
    "    - pd.DataFrame: DataFrame with columns: ['Commodity', 'Production Volume', 'World Share (%)', 'Unit']\n",
    "    \"\"\"\n",
    "    # Load the Excel file\n",
    "    excel_data = pd.ExcelFile(file_path)\n",
    "    \n",
    "    # Initialize a dictionary to store production volume, world share data, and units for Canada\n",
    "    canada_production_data = {'Commodity': [], 'Production Volume': [], 'World Share (%)': [], 'Unit': []}\n",
    "    \n",
    "    # Loop through each sheet, extract Canada's data if present\n",
    "    for sheet in excel_data.sheet_names:\n",
    "        df = excel_data.parse(sheet, skiprows=1)  # Start reading from the second row with corrected column headers\n",
    "        canada_row = df[df['Country'].str.contains(\"Canada\", na=False)]\n",
    "        \n",
    "        # Get the unit if present, default to 'tonnes' if not specified\n",
    "        unit = df['unit'].iloc[0] if 'unit' in df.columns else 'tonnes'\n",
    "        \n",
    "        # Add data or fill with 0 if Canada data is missing\n",
    "        canada_production_data['Commodity'].append(sheet)\n",
    "        canada_production_data['Unit'].append(unit)\n",
    "        if not canada_row.empty:\n",
    "            canada_production_data['Production Volume'].append(float(canada_row['Production 2022'].values[0]))\n",
    "            canada_production_data['World Share (%)'].append(float(canada_row['Share in %'].values[0]))\n",
    "        else:\n",
    "            canada_production_data['Production Volume'].append(0)\n",
    "            canada_production_data['World Share (%)'].append(0)\n",
    "\n",
    "    # Convert the dictionary to a DataFrame and sort alphabetically by Commodity\n",
    "    canada_production_df = pd.DataFrame(canada_production_data).sort_values(by=\"Commodity\").reset_index(drop=True)\n",
    "    \n",
    "    return canada_production_df"
   ],
   "id": "265f3b7b653a8cc3",
   "outputs": [],
   "execution_count": null
  },
  {
   "metadata": {},
   "cell_type": "code",
   "source": [
    "# We keep only non 0 production volume\n",
    "canada_production_df = get_canada_production_data(file_path)\n",
    "canada_production_df = canada_production_df[canada_production_df['Production Volume'] != 0]\n",
    "canada_production_df"
   ],
   "id": "5168db546765c867",
   "outputs": [],
   "execution_count": null
  },
  {
   "metadata": {},
   "cell_type": "code",
   "source": [
    "# We drop the FF and those for which we haven't found LCI \n",
    "commodities_to_drop = ['Baryte', 'Coking Coal', 'Diamonds (Gem)', 'Gypsum and Anhydrite', 'Lignite', \n",
    "                       'Magnesite', 'Natural Gas', 'Oil Sands (part of Petroleum)', 'Petroleum',\n",
    "                       'Salt (rock, brines, marine)', 'Steam Coal ', 'Sulfur (elementar & industrial)', \n",
    "                       'Talc, Steatite & Pyrophyllite']\n",
    "canada_production_df = canada_production_df[~canada_production_df['Commodity'].isin(commodities_to_drop)]"
   ],
   "id": "66a52694c1f2e78b",
   "outputs": [],
   "execution_count": null
  },
  {
   "metadata": {},
   "cell_type": "code",
   "source": "canada_production_df",
   "id": "b6ee2b40a5faa900",
   "outputs": [],
   "execution_count": null
  },
  {
   "metadata": {},
   "cell_type": "code",
   "source": [
    "# We put everything in kg\n",
    "canada_production_df_kg = canada_production_df.copy()\n",
    "canada_production_df_kg.loc[canada_production_df_kg['Unit'] == 'metr. t', 'Production Volume'] *= 1000\n",
    "canada_production_df_kg.loc[canada_production_df_kg['Unit'] == 'metr. t', 'Unit'] = 'kg'\n",
    "canada_production_df_kg"
   ],
   "id": "93156d756352ae7d",
   "outputs": [],
   "execution_count": null
  },
  {
   "metadata": {},
   "cell_type": "markdown",
   "source": "# LCA",
   "id": "e74475731b274abe"
  },
  {
   "metadata": {},
   "cell_type": "markdown",
   "source": "## Import LCI and LCIA methods",
   "id": "de99faf01b984eb3"
  },
  {
   "metadata": {},
   "cell_type": "code",
   "source": [
    "bd.projects.set_current(\"regioinvent\")\n",
    "bd.databases"
   ],
   "id": "82bf63fc4b955228",
   "outputs": [],
   "execution_count": null
  },
  {
   "metadata": {},
   "cell_type": "code",
   "source": [
    "EI_DB = 'ecoinvent-3.9.1-cutoff'\n",
    "RI_DB = 'Regioinvent'"
   ],
   "id": "fa23b5ca22c3ac83",
   "outputs": [],
   "execution_count": null
  },
  {
   "metadata": {},
   "cell_type": "code",
   "source": [
    "# From Ecoinvent\n",
    "# (mineral name: activity name, reference product, location)\n",
    "INVENTORIES_EI = {\n",
    "    \"Aluminium\": (\"market for aluminium, primary, ingot\", \"aluminium, primary, ingot\", \"IAI Area, North America\"),\n",
    "    \"Antimony\": (\"market for antimony\", \"antimony\", \"GLO\"),\n",
    "    \"Cadmium\": (\"market for cadmium\", \"cadmium\", \"GLO\"),\n",
    "    \"Cobalt\": (\"market for cobalt oxide\", \"cobalt oxide\", \"GLO\"),\n",
    "    \"Copper\": (\"market for copper, cathode\", \"copper, cathode\", \"GLO\"),\n",
    "    \"Fluorspar\": (\"market for fluorspar, 97% purity\", \"fluorspar, 97% purity\", \"GLO\"),\n",
    "    \"Gold\": (\"market for gold\", \"gold\", \"GLO\"),\n",
    "    \"Graphite\": (\"market for graphite\", \"graphite\", \"GLO\"),\n",
    "    \"Indium\": (\"market for indium\", \"indium\", \"GLO\"),\n",
    "    \"Iron (Fe)\": (\"market for iron ore, crude ore, 46% Fe\", \"iron ore, crude ore, 46% Fe\", \"GLO\"),\n",
    "    \"Lead\": (\"market for lead\", \"lead\", \"GLO\"),\n",
    "    \"Molybdenum\": (\"market for molybdenum\", \"molybdenum\", \"GLO\"),\n",
    "    \"Nickel\": (\"market for nickel, class 1\", \"nickel, class 1\", \"GLO\"),\n",
    "    \"Niobium (Nb2O5)\": (\"market for ferroniobium, 66% Nb\", \"ferroniobium, 66% Nb\", \"GLO\"),\n",
    "    \"Palladium\": (\"market for palladium\", \"palladium\", \"GLO\"),\n",
    "    \"Platinum\": (\"market for platinum\", \"platinum\", \"GLO\"),\n",
    "    \"Potash (K2O)\": (\"market for potash salt\", \"potash salt\", \"RoW\"),\n",
    "    \"Rhodium\": (\"market for rhodium\", \"rhodium\", \"GLO\"),\n",
    "    \"Selenium\": (\"market for selenium\", \"selenium\", \"GLO\"),\n",
    "    \"Silver\": (\"market for silver\", \"silver\", \"GLO\"),\n",
    "    \"Tellurium\": (\"market for tellurium, semiconductor-grade\", \"tellurium, semiconductor-grade\", \"GLO\"),\n",
    "    \"Titanium (TiO2)\": (\"market for titanium\", \"titanium\", \"GLO\"),\n",
    "    \"Uranium (U3O8)\": (\"market for uranium hexafluoride\", \"uranium hexafluoride\", \"RoW\"),\n",
    "    \"Zinc\": (\"market for zinc\", \"zinc\", \"GLO\") \n",
    "}"
   ],
   "id": "346cd4504b2e859",
   "outputs": [],
   "execution_count": null
  },
  {
   "metadata": {},
   "cell_type": "code",
   "source": [
    "# From Regioinvent\n",
    "# (mineral name: activity name, reference product, location)\n",
    "INVENTORIES_RI = {\n",
    "    \"Aluminium\": (\"consumption market for aluminium, primary, ingot\", \"aluminium, primary, ingot\", \"CA\"),\n",
    "    \"Antimony\": (\"consumption market for antimony\", \"antimony\", \"CA\"),\n",
    "    \"Cadmium\": (\"consumption market for cadmium\", \"cadmium\", \"CA\"),\n",
    "    \"Cobalt\": (\"consumption market for cobalt oxide\", \"cobalt oxide\", \"CA\"),\n",
    "    \"Copper\": (\"consumption market for copper, cathode\", \"copper, cathode\", \"CA\"),\n",
    "    \"Fluorspar\": (\"consumption market for fluorspar, 97% purity\", \"fluorspar, 97% purity\", \"CA\"),\n",
    "    \"Gold\": (\"consumption market for gold\", \"gold\", \"CA\"),\n",
    "    \"Graphite\": (\"consumption market for graphite\", \"graphite\", \"CA\"),\n",
    "    \"Indium\": (\"consumption market for indium\", \"indium\", \"CA\"),\n",
    "    \"Iron (Fe)\": (\"consumption market for iron ore, crude ore, 46% Fe\", \"iron ore, crude ore, 46% Fe\", \"CA\"),\n",
    "    \"Lead\": (\"consumption market for lead\", \"lead\", \"CA\"),\n",
    "    \"Molybdenum\": (\"consumption market for molybdenum\", \"molybdenum\", \"CA\"),\n",
    "    \"Nickel\": (\"consumption market for nickel, class 1\", \"nickel, class 1\", \"CA\"),\n",
    "    \"Niobium (Nb2O5)\": (\"consumption market for ferroniobium, 66% Nb\", \"ferroniobium, 66% Nb\", \"CA\"),\n",
    "    \"Palladium\": (\"consumption market for palladium\", \"palladium\", \"CA\"),\n",
    "    \"Platinum\": (\"consumption market for platinum\", \"platinum\", \"CA\"),\n",
    "    \"Potash (K2O)\": (\"consumption market for potash salt\", \"potash salt\", \"CA\"),\n",
    "    \"Rhodium\": (\"consumption market for rhodium\", \"rhodium\", \"CA\"),\n",
    "    \"Selenium\": (\"consumption market for selenium\", \"selenium\", \"CA\"),\n",
    "    \"Silver\": (\"consumption market for silver\", \"silver\", \"CA\"),\n",
    "    \"Tellurium\": (\"consumption market for tellurium, semiconductor-grade\", \"tellurium, semiconductor-grade\", \"CA\"),\n",
    "    \"Titanium (TiO2)\": (\"consumption market for titanium\", \"titanium\", \"CA\"),\n",
    "    \"Uranium (U3O8)\": (\"consumption market for uranium hexafluoride\", \"uranium hexafluoride\", \"CA\"),\n",
    "    \"Zinc\": (\"consumption market for zinc\", \"zinc\", \"CA\") \n",
    "}"
   ],
   "id": "d27de3bb09e4f9b2",
   "outputs": [],
   "execution_count": null
  },
  {
   "metadata": {},
   "cell_type": "code",
   "source": "INVENTORIES_EI_ds = get_inventory_dataset(INVENTORIES_EI, database_names=[EI_DB])",
   "id": "a372e9184444ca3f",
   "outputs": [],
   "execution_count": null
  },
  {
   "metadata": {},
   "cell_type": "code",
   "source": "INVENTORIES_RI_ds = get_inventory_dataset(INVENTORIES_RI, database_names=[RI_DB])",
   "id": "725431be171170c2",
   "outputs": [],
   "execution_count": null
  },
  {
   "metadata": {},
   "cell_type": "code",
   "source": [
    "# We can also import some from IW+2.1\n",
    "footprint_ei39 = 'data/IW+2.1/impact_world_plus_21_brightway2_footprint_version_ei39.fcfdfe7f6cab324019dc181525db2f39.bw2package'\n",
    "bw.BW2Package.import_file(footprint_ei39)"
   ],
   "id": "41f8ab9e712bb0ce",
   "outputs": [],
   "execution_count": null
  },
  {
   "metadata": {},
   "cell_type": "code",
   "source": [
    "# We take only a few one for testing\n",
    "IMPACT_METHODS = {\n",
    "'Climate change ST': ('IMPACT World+ Midpoint 2.0.1_regionalized','Midpoint', 'Climate change, short term'), \n",
    "'Total human health': ('IMPACT World+ Damage 2.0.1_regionalized','Human health', 'Total human health'), \n",
    "'Total ecosystem quality': ('IMPACT World+ Damage 2.0.1_regionalized','Ecosystem quality', 'Total ecosystem quality'), \n",
    "}"
   ],
   "id": "7f0bcee21bd724b4",
   "outputs": [],
   "execution_count": null
  },
  {
   "metadata": {},
   "cell_type": "markdown",
   "source": "## Perform specific LCA ",
   "id": "d3194d6ef3efc507"
  },
  {
   "metadata": {},
   "cell_type": "markdown",
   "source": "## With EI_DB",
   "id": "e7b976b8dccd5076"
  },
  {
   "metadata": {},
   "cell_type": "code",
   "source": [
    "# Initialize LCA object\n",
    "lca_ei = init_simple_lca(INVENTORIES_EI_ds[\"Aluminium\"])"
   ],
   "id": "da2a9086bcea073",
   "outputs": [],
   "execution_count": null
  },
  {
   "metadata": {},
   "cell_type": "code",
   "source": [
    "specific_lca_ei = {}\n",
    "for rm in INVENTORIES_EI_ds:\n",
    "    impacts = multi_lcia(lca_ei, INVENTORIES_EI_ds[rm], IMPACT_METHODS)\n",
    "    specific_lca_ei[rm] = impacts\n",
    "\n",
    "specific_lca_ei = pd.DataFrame(specific_lca_ei).T"
   ],
   "id": "537eb7488bbd57bb",
   "outputs": [],
   "execution_count": null
  },
  {
   "metadata": {},
   "cell_type": "code",
   "source": [
    "specific_lca_ei = specific_lca_ei.reset_index().rename(columns={\n",
    "    'index': 'Commodity',\n",
    "    'Climate change ST (kg CO2 eq (short))': 'Climate change ST (kg CO2 eq)'\n",
    "})\n"
   ],
   "id": "ea9eaa647205d9d3",
   "outputs": [],
   "execution_count": null
  },
  {
   "metadata": {},
   "cell_type": "code",
   "source": "specific_lca_ei",
   "id": "c8bcbc9f7f52cfef",
   "outputs": [],
   "execution_count": null
  },
  {
   "metadata": {},
   "cell_type": "markdown",
   "source": "## With Regioinvent",
   "id": "34e3776463e8cb5e"
  },
  {
   "metadata": {},
   "cell_type": "code",
   "source": [
    "# Initialize LCA object\n",
    "lca_ri = init_simple_lca(INVENTORIES_RI_ds[\"Aluminium\"])"
   ],
   "id": "c15f830fa664590c",
   "outputs": [],
   "execution_count": null
  },
  {
   "metadata": {},
   "cell_type": "code",
   "source": [
    "specific_lca_ri = {}\n",
    "for rm in INVENTORIES_RI_ds:\n",
    "    impacts = multi_lcia(lca_ri, INVENTORIES_RI_ds[rm], IMPACT_METHODS)\n",
    "    specific_lca_ri[rm] = impacts\n",
    "\n",
    "specific_lca_ri = pd.DataFrame(specific_lca_ri).T"
   ],
   "id": "6ec7874fdcf2fba7",
   "outputs": [],
   "execution_count": null
  },
  {
   "metadata": {},
   "cell_type": "code",
   "source": [
    "specific_lca_ri = specific_lca_ri.reset_index().rename(columns={\n",
    "    'index': 'Commodity',\n",
    "    'Climate change ST (kg CO2 eq (short))': 'Climate change ST (kg CO2 eq)'\n",
    "})\n"
   ],
   "id": "dedffcb4cb1703d0",
   "outputs": [],
   "execution_count": null
  },
  {
   "metadata": {},
   "cell_type": "code",
   "source": "specific_lca_ri",
   "id": "511da1c6e69afbec",
   "outputs": [],
   "execution_count": null
  },
  {
   "metadata": {},
   "cell_type": "markdown",
   "source": "## Compare and plot the differences",
   "id": "686561340415fa31"
  },
  {
   "metadata": {},
   "cell_type": "code",
   "source": [
    "heatmap_lca(specific_lca_ei, \n",
    "            title='Env impacts with EI markets', \n",
    "            save_path='results/production_impacts_2023/env_impacts_market_ei.png')\n"
   ],
   "id": "6e814463098c09a",
   "outputs": [],
   "execution_count": null
  },
  {
   "metadata": {},
   "cell_type": "code",
   "source": [
    "heatmap_lca(specific_lca_ri, \n",
    "            title='Env impacts with RI markets', \n",
    "            save_path='results/production_impacts_2023/env_impacts_markets_ri.png')"
   ],
   "id": "a2b923dbdbd69b2",
   "outputs": [],
   "execution_count": null
  },
  {
   "metadata": {},
   "cell_type": "code",
   "source": [
    "heatmap_db_comparison(specific_lca_ei, \n",
    "                      specific_lca_ri, \n",
    "                    title=\"Differences in environmental impacts between EI3.9.1 and Regioinvent\", \n",
    "                    save_path='results/production_impacts_2023/differences_ei_ri.png')\n"
   ],
   "id": "885f56b2f1ee0487",
   "outputs": [],
   "execution_count": null
  },
  {
   "metadata": {},
   "cell_type": "markdown",
   "source": "# Scale Regioinvent with 2023 production ",
   "id": "20bd337de81b064c"
  },
  {
   "metadata": {},
   "cell_type": "code",
   "source": [
    "# We make sure we have the same number of commodities\n",
    "canada_production_df_kg[\"Commodity\"].nunique() == specific_lca_ri['Commodity'].nunique()"
   ],
   "id": "140b78ac391ab7f7",
   "outputs": [],
   "execution_count": null
  },
  {
   "metadata": {},
   "cell_type": "code",
   "source": "df_2023 = pd.merge(canada_production_df_kg, specific_lca_ri, left_on='Commodity', right_on='Commodity')",
   "id": "9f8aa1e594deaec7",
   "outputs": [],
   "execution_count": null
  },
  {
   "metadata": {},
   "cell_type": "code",
   "source": "df_2023",
   "id": "31971a8b3ffa5524",
   "outputs": [],
   "execution_count": null
  },
  {
   "metadata": {},
   "cell_type": "code",
   "source": "#df_2023.to_csv('df_2023.csv', index=False)",
   "id": "8effdd48037f20b0",
   "outputs": [],
   "execution_count": null
  },
  {
   "metadata": {},
   "cell_type": "code",
   "source": [
    "# Multiply the production volume by each impact category column\n",
    "impact_columns = ['Climate change ST (kg CO2 eq)', 'Total human health (DALY)', 'Total ecosystem quality (PDF.m2.yr)']  # Replace these with actual column names in your impact DataFrame\n",
    "for col in impact_columns:\n",
    "    df_2023[f'{col} Impact'] = df_2023['Production Volume'] * df_2023[col]\n",
    "df_2023.columns"
   ],
   "id": "9519d558ec1b27ed",
   "outputs": [],
   "execution_count": null
  },
  {
   "metadata": {},
   "cell_type": "code",
   "source": [
    "# Resulting DataFrame contains original production volume and multiplied impacts\n",
    "df_2023_result = df_2023[[ 'Commodity', 'Production Volume', 'World Share (%)', \n",
    "                            'Climate change ST (kg CO2 eq) Impact',\n",
    "                            'Total human health (DALY) Impact',\n",
    "                            'Total ecosystem quality (PDF.m2.yr) Impact']]"
   ],
   "id": "d9e6ab16af04778b",
   "outputs": [],
   "execution_count": null
  },
  {
   "metadata": {},
   "cell_type": "code",
   "source": "#df_2023_result.to_csv('df_2023_result.csv', index=False)",
   "id": "87fd7cf1810d9e94",
   "outputs": [],
   "execution_count": null
  },
  {
   "metadata": {},
   "cell_type": "code",
   "source": [
    "heatmap_lca(df_2023_result,\n",
    "            title = '2023 Canadian production and environmental corresponding impacts',\n",
    "            save_path='results/production_impacts_2023/canada_2023_production_impacts_regioinvent.png')"
   ],
   "id": "92f269d698759c87",
   "outputs": [],
   "execution_count": null
  }
 ],
 "metadata": {
  "kernelspec": {
   "display_name": "Python 3",
   "language": "python",
   "name": "python3"
  },
  "language_info": {
   "codemirror_mode": {
    "name": "ipython",
    "version": 2
   },
   "file_extension": ".py",
   "mimetype": "text/x-python",
   "name": "python",
   "nbconvert_exporter": "python",
   "pygments_lexer": "ipython2",
   "version": "2.7.6"
  }
 },
 "nbformat": 4,
 "nbformat_minor": 5
}
