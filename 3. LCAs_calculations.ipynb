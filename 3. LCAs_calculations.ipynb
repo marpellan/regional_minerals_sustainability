{
 "cells": [
  {
   "cell_type": "code",
   "id": "c92e8bba-2d0c-429f-b341-f21e0da46995",
   "metadata": {
    "ExecuteTime": {
     "end_time": "2024-10-31T21:17:57.948756Z",
     "start_time": "2024-10-31T21:17:57.917094Z"
    }
   },
   "source": [
    "from IPython.display import display, HTML\n",
    "display(HTML(\"<style>.container { width:80% !important; }</style>\"))"
   ],
   "outputs": [
    {
     "data": {
      "text/plain": [
       "<IPython.core.display.HTML object>"
      ],
      "text/html": [
       "<style>.container { width:80% !important; }</style>"
      ]
     },
     "metadata": {},
     "output_type": "display_data"
    }
   ],
   "execution_count": 1
  },
  {
   "cell_type": "code",
   "id": "06dc908c-bc70-475f-8241-49b98d1c291b",
   "metadata": {
    "ExecuteTime": {
     "end_time": "2024-10-31T21:18:04.435390Z",
     "start_time": "2024-10-31T21:17:57.974328Z"
    }
   },
   "source": [
    "# Brightway imports\n",
    "import bw2analyzer as ba\n",
    "import bw2calc as bc\n",
    "import bw2data as bd\n",
    "import bw2io as bi\n",
    "import brightway2 as bw"
   ],
   "outputs": [],
   "execution_count": 2
  },
  {
   "cell_type": "code",
   "id": "f9681295-72c1-4a8a-9b9b-eb2e9afa1335",
   "metadata": {
    "ExecuteTime": {
     "end_time": "2024-10-31T21:18:04.624220Z",
     "start_time": "2024-10-31T21:18:04.608557Z"
    }
   },
   "source": [
    "import pandas as pd\n",
    "import numpy as np\n",
    "import datetime\n",
    "import os"
   ],
   "outputs": [],
   "execution_count": 3
  },
  {
   "metadata": {
    "ExecuteTime": {
     "end_time": "2024-10-31T21:18:05.153625Z",
     "start_time": "2024-10-31T21:18:04.639936Z"
    }
   },
   "cell_type": "code",
   "source": [
    "# Custom functions\n",
    "from useful_functions import get_inventory_dataset, init_simple_lca, multi_lcia, multi_contribution_analysis, calculate_projected_impacts\n",
    "from visualisation_functions import plot_multilca_impacts, plot_contribution_analysis, plot_impacts_with_production, plot_incremental_impacts"
   ],
   "id": "117379e07fd74b12",
   "outputs": [
    {
     "name": "stdout",
     "output_type": "stream",
     "text": [
      "Ore grade at year 2024: 0.011805115592480904\n"
     ]
    },
    {
     "ename": "NameError",
     "evalue": "name 'np' is not defined",
     "output_type": "error",
     "traceback": [
      "\u001B[1;31m---------------------------------------------------------------------------\u001B[0m",
      "\u001B[1;31mNameError\u001B[0m                                 Traceback (most recent call last)",
      "Cell \u001B[1;32mIn[4], line 2\u001B[0m\n\u001B[0;32m      1\u001B[0m \u001B[38;5;66;03m# Custom functions\u001B[39;00m\n\u001B[1;32m----> 2\u001B[0m \u001B[38;5;28;01mfrom\u001B[39;00m \u001B[38;5;21;01museful_functions\u001B[39;00m \u001B[38;5;28;01mimport\u001B[39;00m get_inventory_dataset, init_simple_lca, multi_lcia, multi_contribution_analysis, calculate_projected_impacts\n\u001B[0;32m      3\u001B[0m \u001B[38;5;28;01mfrom\u001B[39;00m \u001B[38;5;21;01mvisualisation_functions\u001B[39;00m \u001B[38;5;28;01mimport\u001B[39;00m plot_multilca_impacts, plot_contribution_analysis, plot_impacts_with_production, plot_incremental_impacts\n",
      "File \u001B[1;32m~\\OneDrive - polymtlus\\Desktop\\POST_DOC\\regional_minerals_sustainability\\useful_functions.py:76\u001B[0m\n\u001B[0;32m     74\u001B[0m \u001B[38;5;66;03m# Test the function with a sample ore grade\u001B[39;00m\n\u001B[0;32m     75\u001B[0m sample_ore_grade \u001B[38;5;241m=\u001B[39m \u001B[38;5;241m0.0015\u001B[39m  \u001B[38;5;66;03m# 0.15%\u001B[39;00m\n\u001B[1;32m---> 76\u001B[0m energy_req \u001B[38;5;241m=\u001B[39m \u001B[43menergy_ore_grade\u001B[49m\u001B[43m(\u001B[49m\u001B[43msample_ore_grade\u001B[49m\u001B[43m,\u001B[49m\u001B[43m \u001B[49m\u001B[43mr_example\u001B[49m\u001B[43m,\u001B[49m\u001B[43m \u001B[49m\u001B[43mq_example\u001B[49m\u001B[43m)\u001B[49m\n\u001B[0;32m     78\u001B[0m \u001B[38;5;28mprint\u001B[39m(\u001B[38;5;124mf\u001B[39m\u001B[38;5;124m\"\u001B[39m\u001B[38;5;124mEnergy requirement for ore grade \u001B[39m\u001B[38;5;132;01m{\u001B[39;00msample_ore_grade\u001B[38;5;132;01m}\u001B[39;00m\u001B[38;5;124m: \u001B[39m\u001B[38;5;132;01m{\u001B[39;00menergy_req\u001B[38;5;132;01m}\u001B[39;00m\u001B[38;5;124m MJ/kg\u001B[39m\u001B[38;5;124m\"\u001B[39m)\n\u001B[0;32m     81\u001B[0m \u001B[38;5;28;01mdef\u001B[39;00m \u001B[38;5;21mfuture_energy_requirement\u001B[39m(t, c, d):\n",
      "File \u001B[1;32m~\\OneDrive - polymtlus\\Desktop\\POST_DOC\\regional_minerals_sustainability\\useful_functions.py:68\u001B[0m, in \u001B[0;36menergy_ore_grade\u001B[1;34m(ore_grade, r, q)\u001B[0m\n\u001B[0;32m     56\u001B[0m \u001B[38;5;28;01mdef\u001B[39;00m \u001B[38;5;21menergy_ore_grade\u001B[39m(ore_grade, r, q):\n\u001B[0;32m     57\u001B[0m \u001B[38;5;250m    \u001B[39m\u001B[38;5;124;03m\"\"\"\u001B[39;00m\n\u001B[0;32m     58\u001B[0m \u001B[38;5;124;03m    Calculate the energy requirement based on ore grade.\u001B[39;00m\n\u001B[0;32m     59\u001B[0m \n\u001B[1;32m   (...)\u001B[0m\n\u001B[0;32m     66\u001B[0m \u001B[38;5;124;03m    - float or np.array: Energy requirement (MJ/kg) based on ore grade.\u001B[39;00m\n\u001B[0;32m     67\u001B[0m \u001B[38;5;124;03m    \"\"\"\u001B[39;00m\n\u001B[1;32m---> 68\u001B[0m     \u001B[38;5;28;01mreturn\u001B[39;00m r \u001B[38;5;241m*\u001B[39m \u001B[43mnp\u001B[49m\u001B[38;5;241m.\u001B[39mpower(ore_grade, q)\n",
      "\u001B[1;31mNameError\u001B[0m: name 'np' is not defined"
     ]
    }
   ],
   "execution_count": 4
  },
  {
   "cell_type": "markdown",
   "id": "fd081b51-0698-4657-89d2-63f0bcf26c45",
   "metadata": {
    "ExecuteTime": {
     "end_time": "2024-10-29T14:41:40.053900Z",
     "start_time": "2024-10-29T14:41:39.840092Z"
    }
   },
   "source": [
    "# Set projects, LCI and LCIA methods"
   ]
  },
  {
   "cell_type": "code",
   "id": "a42dfc1f-3d05-4893-9727-bfadf5efaed1",
   "metadata": {
    "ExecuteTime": {
     "end_time": "2024-10-31T21:18:05.157270700Z",
     "start_time": "2024-10-31T01:19:19.671350Z"
    }
   },
   "source": [
    "BW_PROJECT = 'lib_rm' # insert your project name here\n",
    "bd.projects.set_current(BW_PROJECT)\n",
    "\n",
    "EI_DB = 'ecoinvent-3.10-cutoff' # name of ecoinvent database in your project\n",
    "LIB_RM_DB = \"LIB raw materials\""
   ],
   "outputs": [],
   "execution_count": 5
  },
  {
   "metadata": {
    "ExecuteTime": {
     "end_time": "2024-10-31T21:18:05.157270700Z",
     "start_time": "2024-10-31T01:19:19.784207Z"
    }
   },
   "cell_type": "code",
   "source": [
    "# Search for activities\n",
    "# [a[\"name\"] for a in bd.Database('LIB raw materials')]"
   ],
   "id": "8d2dc83332ec8aa0",
   "outputs": [],
   "execution_count": 6
  },
  {
   "metadata": {
    "ExecuteTime": {
     "end_time": "2024-10-31T21:18:05.157270700Z",
     "start_time": "2024-10-31T01:19:19.817178Z"
    }
   },
   "cell_type": "code",
   "source": [
    "#activity = bd.Database('ecoinvent-3.10-cutoff').search('copper mine operation and beneficiation, sulfide ore')\n",
    "#selected_activity = [act for act in activity if act['location'] == 'CA']"
   ],
   "id": "479beaa56be7812d",
   "outputs": [],
   "execution_count": 7
  },
  {
   "metadata": {
    "ExecuteTime": {
     "end_time": "2024-10-31T21:18:05.157270700Z",
     "start_time": "2024-10-31T01:19:19.845527Z"
    }
   },
   "cell_type": "code",
   "source": [
    "INVENTORIES_EI = {\n",
    "    ## Neodymium\n",
    "    \"Neodymium\":        (\"rare earth oxides production, from rare earth carbonate concentrate\", \"neodymium oxide\", \"RoW\"),\n",
    "    \n",
    "    ## Copper\n",
    "    \"Copper concentrate, Canada\": ('copper mine operation and beneficiation, sulfide ore', 'copper concentrate, sulfide ore', 'CA'),\n",
    "    \"Market for copper, cathode\": ('market for copper, cathode', 'copper, cathode', 'GLO')\n",
    "}"
   ],
   "id": "c5d1a8d2c3778a73",
   "outputs": [],
   "execution_count": 8
  },
  {
   "cell_type": "code",
   "id": "9e404e2e-e37f-403e-b747-4da9f65eebb8",
   "metadata": {
    "ExecuteTime": {
     "end_time": "2024-10-31T21:18:05.157270700Z",
     "start_time": "2024-10-31T01:19:19.875721Z"
    }
   },
   "source": [
    "# From Istrate et al (2024)\n",
    "# (name, reference product, location)\n",
    "INVENTORIES = {\n",
    "    \"Lithium hydroxide, brine\":        (\"lithium hydroxide production, Salar de Atacama\", \"lithium hydroxide, battery grade\", \"CL\"),\n",
    "    \"Lithium hydroxide, spodumene\":    (\"lithium hydroxide production, from Australian spodumene\", \"lithium hydroxide, battery grade\", \"CN\"),\n",
    "    \"Cobalt\":                (\"cobalt sulfate production, from copper-cobalt ore, economic allocation\", \"cobalt sulfate\", \"CN\"),\n",
    "    \"Nickel\":                (\"nickel sulfate production, average excluding China, economic allocation\", \"nickel sulfate\", \"GLO\"),\n",
    "    \"Graphite, natural\":     (\"natural graphite production, battery grade, from Heilongjiang\", \"natural graphite, battery grade\", \"CN\"),\n",
    "    \"Graphite, synthetic\":   (\"graphite powder coating\", \"synthetic graphite, battery grade\", \"CN\"),\n",
    "    \n",
    "    \"Lithium carbonate, brine\":        (\"lithium carbonate production, Salar de Atacama\", \"lithium carbonate, battery grade\", \"CL\"),\n",
    "    \"Lithium carbonate, spodumene\":    (\"lithium carbonate production, from Australian spodumene\", \"lithium carbonate, battery grade\", \"CN\"),\n",
    "}"
   ],
   "outputs": [],
   "execution_count": 9
  },
  {
   "metadata": {
    "ExecuteTime": {
     "end_time": "2024-10-31T21:18:05.157270700Z",
     "start_time": "2024-10-31T01:19:19.910258Z"
    }
   },
   "cell_type": "code",
   "source": [
    "# Collect data from both the custom database and Ecoinvent database\n",
    "INVENTORIES_ds = {}\n",
    "INVENTORIES_ds.update(get_inventory_dataset(INVENTORIES, LIB_RM_DB))\n",
    "INVENTORIES_ds.update(get_inventory_dataset(INVENTORIES_EI, EI_DB))"
   ],
   "id": "54206c86b5e7053f",
   "outputs": [],
   "execution_count": 10
  },
  {
   "metadata": {
    "ExecuteTime": {
     "end_time": "2024-10-31T21:18:05.157270700Z",
     "start_time": "2024-10-31T01:19:24.528391Z"
    }
   },
   "cell_type": "code",
   "source": "INVENTORIES_ds",
   "id": "38f4c985d9fcf239",
   "outputs": [
    {
     "data": {
      "text/plain": [
       "{'Lithium hydroxide, brine': 'lithium hydroxide production, Salar de Atacama' (kilogram, CL, None),\n",
       " 'Lithium hydroxide, spodumene': 'lithium hydroxide production, from Australian spodumene' (kilogram, CN, None),\n",
       " 'Cobalt': 'cobalt sulfate production, from copper-cobalt ore, economic allocation' (kilogram, CN, None),\n",
       " 'Nickel': 'nickel sulfate production, average excluding China, economic allocation' (kilogram, GLO, None),\n",
       " 'Graphite, natural': 'natural graphite production, battery grade, from Heilongjiang' (kilogram, CN, None),\n",
       " 'Graphite, synthetic': 'graphite powder coating' (kilogram, CN, None),\n",
       " 'Lithium carbonate, brine': 'lithium carbonate production, Salar de Atacama' (kilogram, CL, None),\n",
       " 'Lithium carbonate, spodumene': 'lithium carbonate production, from Australian spodumene' (kilogram, CN, None),\n",
       " 'Neodymium': 'rare earth oxides production, from rare earth carbonate concentrate' (kilogram, RoW, None),\n",
       " 'Copper concentrate, Canada': 'copper mine operation and beneficiation, sulfide ore' (kilogram, CA, None),\n",
       " 'Market for copper, cathode': 'market for copper, cathode' (kilogram, GLO, None)}"
      ]
     },
     "execution_count": 11,
     "metadata": {},
     "output_type": "execute_result"
    }
   ],
   "execution_count": 11
  },
  {
   "metadata": {
    "ExecuteTime": {
     "end_time": "2024-10-31T21:18:15.629268Z",
     "start_time": "2024-10-31T21:18:15.616045Z"
    }
   },
   "cell_type": "code",
   "source": "bd.methods",
   "id": "639cb4a3c1bf22c4",
   "outputs": [
    {
     "data": {
      "text/plain": [
       "Methods dictionary with 668 objects, including:\n",
       "\t('CML v4.8 2016', 'acidification', 'acidification (incl. fate, average Europe total, A&B)')\n",
       "\t('CML v4.8 2016', 'climate change', 'global warming potential (GWP100)')\n",
       "\t('CML v4.8 2016', 'ecotoxicity: freshwater', 'freshwater aquatic ecotoxicity (FAETP inf)')\n",
       "\t('CML v4.8 2016', 'ecotoxicity: marine', 'marine aquatic ecotoxicity (MAETP inf)')\n",
       "\t('CML v4.8 2016', 'ecotoxicity: terrestrial', 'terrestrial ecotoxicity (TETP inf)')\n",
       "\t('CML v4.8 2016', 'energy resources: non-renewable', 'abiotic depletion potential (ADP): fossil fuels')\n",
       "\t('CML v4.8 2016', 'eutrophication', 'eutrophication (fate not incl.)')\n",
       "\t('CML v4.8 2016', 'human toxicity', 'human toxicity (HTP inf)')\n",
       "\t('CML v4.8 2016', 'material resources: metals/minerals', 'abiotic depletion potential (ADP): elements (ultimate reserves)')\n",
       "\t('CML v4.8 2016', 'ozone depletion', 'ozone layer depletion (ODP steady state)')\n",
       "Use `list(this object)` to get the complete list."
      ]
     },
     "execution_count": 6,
     "metadata": {},
     "output_type": "execute_result"
    }
   ],
   "execution_count": 6
  },
  {
   "cell_type": "code",
   "id": "a4374a09-e735-4352-84e4-d99cda0525ef",
   "metadata": {
    "ExecuteTime": {
     "end_time": "2024-10-31T01:19:24.602946Z",
     "start_time": "2024-10-31T01:19:24.589489Z"
    }
   },
   "source": [
    "#bd.methods\n",
    "IMPACT_METHODS = {\n",
    "    \"Climate change\": ('IMPACT World+ v2.0.1, footprint version', 'climate change', 'carbon footprint'), \n",
    "    \"Ecosystem quality\": ('IMPACT World+ v2.0.1, footprint version', 'ecosystem quality', 'remaining ecosystem quality damage'),\n",
    "    \"Human health\": ('IMPACT World+ v2.0.1, footprint version', 'human health', 'remaining human health damage'),\n",
    "    \"Water use\": ('IMPACT World+ v2.0.1, footprint version', 'water use', 'water scarcity footprint')\n",
    "                 }"
   ],
   "outputs": [],
   "execution_count": 12
  },
  {
   "metadata": {},
   "cell_type": "code",
   "outputs": [],
   "execution_count": null,
   "source": [
    "impact_categories = [\n",
    "    \"Climate change (kg CO2-Eq)\", \n",
    "    \"Ecosystem quality (PDF.m2.yr)\", \n",
    "    \"Human health (DALYs)\", \n",
    "    \"Water use (m3 world Eq deprived)\"\n",
    "]"
   ],
   "id": "4ed476db4acca0ad"
  },
  {
   "cell_type": "markdown",
   "id": "568e315e-20e5-414c-9137-d130a70fe280",
   "metadata": {
    "ExecuteTime": {
     "end_time": "2024-10-29T15:19:44.789796Z",
     "start_time": "2024-10-29T15:19:44.776386Z"
    }
   },
   "source": "# Specific impacts"
  },
  {
   "cell_type": "code",
   "id": "3f754e34-efbb-4bb5-80f4-7925f0e06837",
   "metadata": {
    "ExecuteTime": {
     "end_time": "2024-10-31T01:19:25.556242Z",
     "start_time": "2024-10-31T01:19:24.636114Z"
    }
   },
   "source": [
    "# Initialize LCA object\n",
    "lca = init_simple_lca(INVENTORIES_ds[\"Lithium hydroxide, brine\"], method=IMPACT_METHODS )"
   ],
   "outputs": [],
   "execution_count": 13
  },
  {
   "cell_type": "code",
   "id": "8406a076-d963-4d6b-a6c0-45e33947ce39",
   "metadata": {
    "ExecuteTime": {
     "end_time": "2024-10-31T01:19:25.898076Z",
     "start_time": "2024-10-31T01:19:25.590152Z"
    }
   },
   "source": [
    "specific_lca = {}\n",
    "for rm in INVENTORIES_ds:\n",
    "    impacts = multi_lcia(lca, INVENTORIES_ds[rm], IMPACT_METHODS)\n",
    "    specific_lca[rm] = impacts\n",
    "\n",
    "specific_lca = pd.DataFrame(specific_lca).T"
   ],
   "outputs": [],
   "execution_count": 14
  },
  {
   "cell_type": "code",
   "id": "26ad6994-6f8f-40c3-a130-4c8865bebff9",
   "metadata": {
    "ExecuteTime": {
     "end_time": "2024-10-31T01:19:25.944720Z",
     "start_time": "2024-10-31T01:19:25.931083Z"
    }
   },
   "source": "specific_lca",
   "outputs": [
    {
     "data": {
      "text/plain": [
       "                              Climate change (kg CO2-Eq)  \\\n",
       "Lithium hydroxide, brine                        7.670832   \n",
       "Lithium hydroxide, spodumene                   17.180445   \n",
       "Cobalt                                         14.927615   \n",
       "Nickel                                          5.460966   \n",
       "Graphite, natural                              10.541640   \n",
       "Graphite, synthetic                            43.735114   \n",
       "Lithium carbonate, brine                        3.610366   \n",
       "Lithium carbonate, spodumene                   24.024092   \n",
       "Neodymium                                      55.058910   \n",
       "Copper concentrate, Canada                      1.249726   \n",
       "Market for copper, cathode                      7.014152   \n",
       "\n",
       "                              Ecosystem quality (PDF.m2.yr)  \\\n",
       "Lithium hydroxide, brine                           0.827068   \n",
       "Lithium hydroxide, spodumene                       3.344400   \n",
       "Cobalt                                             3.351673   \n",
       "Nickel                                             6.702595   \n",
       "Graphite, natural                                  2.119473   \n",
       "Graphite, synthetic                                7.392098   \n",
       "Lithium carbonate, brine                           0.517874   \n",
       "Lithium carbonate, spodumene                       4.659097   \n",
       "Neodymium                                         72.895905   \n",
       "Copper concentrate, Canada                         2.174542   \n",
       "Market for copper, cathode                         9.459163   \n",
       "\n",
       "                              Human health (DALYs)  \\\n",
       "Lithium hydroxide, brine                  0.000006   \n",
       "Lithium hydroxide, spodumene              0.000022   \n",
       "Cobalt                                    0.000028   \n",
       "Nickel                                    0.000033   \n",
       "Graphite, natural                         0.000009   \n",
       "Graphite, synthetic                       0.000033   \n",
       "Lithium carbonate, brine                  0.000003   \n",
       "Lithium carbonate, spodumene              0.000031   \n",
       "Neodymium                                 0.000079   \n",
       "Copper concentrate, Canada                0.000003   \n",
       "Market for copper, cathode                0.000088   \n",
       "\n",
       "                              Water use (m3 world Eq deprived)  \n",
       "Lithium hydroxide, brine                              2.078440  \n",
       "Lithium hydroxide, spodumene                          2.487335  \n",
       "Cobalt                                                4.524261  \n",
       "Nickel                                                1.033520  \n",
       "Graphite, natural                                    36.364382  \n",
       "Graphite, synthetic                                   4.378197  \n",
       "Lithium carbonate, brine                              1.869038  \n",
       "Lithium carbonate, spodumene                          3.387107  \n",
       "Neodymium                                            36.117563  \n",
       "Copper concentrate, Canada                            2.101341  \n",
       "Market for copper, cathode                            5.603142  "
      ],
      "text/html": [
       "<div>\n",
       "<style scoped>\n",
       "    .dataframe tbody tr th:only-of-type {\n",
       "        vertical-align: middle;\n",
       "    }\n",
       "\n",
       "    .dataframe tbody tr th {\n",
       "        vertical-align: top;\n",
       "    }\n",
       "\n",
       "    .dataframe thead th {\n",
       "        text-align: right;\n",
       "    }\n",
       "</style>\n",
       "<table border=\"1\" class=\"dataframe\">\n",
       "  <thead>\n",
       "    <tr style=\"text-align: right;\">\n",
       "      <th></th>\n",
       "      <th>Climate change (kg CO2-Eq)</th>\n",
       "      <th>Ecosystem quality (PDF.m2.yr)</th>\n",
       "      <th>Human health (DALYs)</th>\n",
       "      <th>Water use (m3 world Eq deprived)</th>\n",
       "    </tr>\n",
       "  </thead>\n",
       "  <tbody>\n",
       "    <tr>\n",
       "      <th>Lithium hydroxide, brine</th>\n",
       "      <td>7.670832</td>\n",
       "      <td>0.827068</td>\n",
       "      <td>0.000006</td>\n",
       "      <td>2.078440</td>\n",
       "    </tr>\n",
       "    <tr>\n",
       "      <th>Lithium hydroxide, spodumene</th>\n",
       "      <td>17.180445</td>\n",
       "      <td>3.344400</td>\n",
       "      <td>0.000022</td>\n",
       "      <td>2.487335</td>\n",
       "    </tr>\n",
       "    <tr>\n",
       "      <th>Cobalt</th>\n",
       "      <td>14.927615</td>\n",
       "      <td>3.351673</td>\n",
       "      <td>0.000028</td>\n",
       "      <td>4.524261</td>\n",
       "    </tr>\n",
       "    <tr>\n",
       "      <th>Nickel</th>\n",
       "      <td>5.460966</td>\n",
       "      <td>6.702595</td>\n",
       "      <td>0.000033</td>\n",
       "      <td>1.033520</td>\n",
       "    </tr>\n",
       "    <tr>\n",
       "      <th>Graphite, natural</th>\n",
       "      <td>10.541640</td>\n",
       "      <td>2.119473</td>\n",
       "      <td>0.000009</td>\n",
       "      <td>36.364382</td>\n",
       "    </tr>\n",
       "    <tr>\n",
       "      <th>Graphite, synthetic</th>\n",
       "      <td>43.735114</td>\n",
       "      <td>7.392098</td>\n",
       "      <td>0.000033</td>\n",
       "      <td>4.378197</td>\n",
       "    </tr>\n",
       "    <tr>\n",
       "      <th>Lithium carbonate, brine</th>\n",
       "      <td>3.610366</td>\n",
       "      <td>0.517874</td>\n",
       "      <td>0.000003</td>\n",
       "      <td>1.869038</td>\n",
       "    </tr>\n",
       "    <tr>\n",
       "      <th>Lithium carbonate, spodumene</th>\n",
       "      <td>24.024092</td>\n",
       "      <td>4.659097</td>\n",
       "      <td>0.000031</td>\n",
       "      <td>3.387107</td>\n",
       "    </tr>\n",
       "    <tr>\n",
       "      <th>Neodymium</th>\n",
       "      <td>55.058910</td>\n",
       "      <td>72.895905</td>\n",
       "      <td>0.000079</td>\n",
       "      <td>36.117563</td>\n",
       "    </tr>\n",
       "    <tr>\n",
       "      <th>Copper concentrate, Canada</th>\n",
       "      <td>1.249726</td>\n",
       "      <td>2.174542</td>\n",
       "      <td>0.000003</td>\n",
       "      <td>2.101341</td>\n",
       "    </tr>\n",
       "    <tr>\n",
       "      <th>Market for copper, cathode</th>\n",
       "      <td>7.014152</td>\n",
       "      <td>9.459163</td>\n",
       "      <td>0.000088</td>\n",
       "      <td>5.603142</td>\n",
       "    </tr>\n",
       "  </tbody>\n",
       "</table>\n",
       "</div>"
      ]
     },
     "execution_count": 15,
     "metadata": {},
     "output_type": "execute_result"
    }
   ],
   "execution_count": 15
  },
  {
   "metadata": {
    "ExecuteTime": {
     "end_time": "2024-10-31T01:19:27.575200Z",
     "start_time": "2024-10-31T01:19:26.022447Z"
    }
   },
   "cell_type": "code",
   "source": [
    "# Call the function\n",
    "plot_multilca_impacts(specific_lca, \n",
    "                 impact_categories = [\n",
    "    \"Climate change (kg CO2-Eq)\", \n",
    "    \"Ecosystem quality (PDF.m2.yr)\", \n",
    "    \"Human health (DALYs)\", \n",
    "    \"Water use (m3 world Eq deprived)\"], \n",
    "                 colors=[\"#1f77b4\", \"#ff7f0e\", \"#2ca02c\", \"#d62728\"], \n",
    "                 save_path=\"results/lca_impacts.png\")"
   ],
   "id": "99726d10fc931d82",
   "outputs": [
    {
     "name": "stdout",
     "output_type": "stream",
     "text": [
      "Plot saved to results/lca_impacts.png\n"
     ]
    },
    {
     "data": {
      "text/plain": [
       "<Figure size 1400x1000 with 4 Axes>"
      ],
      "image/png": "[encoded data removed]"
     },
     "metadata": {},
     "output_type": "display_data"
    }
   ],
   "execution_count": 16
  },
  {
   "cell_type": "code",
   "id": "771f2ded-ada4-4c2c-9660-9cfbfbfdd7c2",
   "metadata": {
    "ExecuteTime": {
     "end_time": "2024-10-31T01:19:27.636177Z",
     "start_time": "2024-10-31T01:19:27.623152Z"
    }
   },
   "source": "specific_lca.to_csv(f\"results/specific_results_{datetime.datetime.today().strftime('%d-%m-%Y')}.csv\", index_label=\"Raw material\")",
   "outputs": [],
   "execution_count": 17
  },
  {
   "metadata": {
    "ExecuteTime": {
     "end_time": "2024-10-31T01:19:31.676790Z",
     "start_time": "2024-10-31T01:19:27.642160Z"
    }
   },
   "cell_type": "code",
   "source": [
    "# Initialize a dictionary to store contribution results for each inventory\n",
    "contribution_results = {}\n",
    "\n",
    "# Loop through each inventory and perform contribution analysis\n",
    "for rm_name, rm_ds in INVENTORIES_ds.items():\n",
    "    lca = init_simple_lca(rm_ds)\n",
    "    contributions = multi_contribution_analysis(lca, IMPACT_METHODS, top_n=10, threshold=0.01)  # Set your threshold here\n",
    "    contribution_results[rm_name] = contributions\n",
    "\n",
    "# Convert the results into a more readable format for analysis\n",
    "contribution_dfs = {}\n",
    "\n",
    "for rm_name, impacts in contribution_results.items():\n",
    "    for impact_name, contributions in impacts.items():\n",
    "        df = pd.DataFrame(contributions)\n",
    "        df[\"Inventory\"] = rm_name\n",
    "        df[\"Impact Category\"] = impact_name\n",
    "        contribution_dfs[(rm_name, impact_name)] = df\n",
    "\n",
    "# Combine all individual DataFrames into one for easy viewing\n",
    "contribution_analysis_df = pd.concat(contribution_dfs.values(), ignore_index=True)\n",
    "\n",
    "# Set \"Inventory\" and \"Impact Category\" as the row indices\n",
    "contribution_analysis_df.set_index([\"Inventory\", \"Impact Category\"], inplace=True)\n"
   ],
   "id": "8537726a7e927e6b",
   "outputs": [],
   "execution_count": 18
  },
  {
   "metadata": {
    "ExecuteTime": {
     "end_time": "2024-10-31T01:19:31.738145Z",
     "start_time": "2024-10-31T01:19:31.724788Z"
    }
   },
   "cell_type": "code",
   "source": "contribution_analysis_df",
   "id": "ab83c92d12009ab5",
   "outputs": [
    {
     "data": {
      "text/plain": [
       "                                               score   quantity  percentage  \\\n",
       "Inventory                  Impact Category                                    \n",
       "Lithium hydroxide, brine   Climate change   2.546242  43.125706   33.193816   \n",
       "                           Climate change   1.276628   1.174931   16.642628   \n",
       "                           Climate change   0.693125   0.708695    9.035846   \n",
       "                           Climate change   0.461016   0.026424    6.009992   \n",
       "                           Climate change   0.449460   3.898652    5.859344   \n",
       "...                                              ...        ...         ...   \n",
       "Market for copper, cathode Water use        0.095290   0.489834    1.700653   \n",
       "                           Water use        0.090593   0.807110    1.616834   \n",
       "                           Water use        0.073927   0.058898    1.319384   \n",
       "                           Water use        0.063327   0.039982    1.130202   \n",
       "                           Water use        0.059110   0.047093    1.054944   \n",
       "\n",
       "                                                                                         name  \\\n",
       "Inventory                  Impact Category                                                      \n",
       "Lithium hydroxide, brine   Climate change   heat production, natural gas, at industrial fu...   \n",
       "                           Climate change              quicklime production, in pieces, loose   \n",
       "                           Climate change                   electricity production, hard coal   \n",
       "                           Climate change   natural gas venting from petroleum/natural gas...   \n",
       "                           Climate change   heat production, at hard coal industrial furna...   \n",
       "...                                                                                       ...   \n",
       "Market for copper, cathode Water use        copper mine operation and beneficiation, sulfi...   \n",
       "                           Water use        hard coal mine operation and hard coal prepara...   \n",
       "                           Water use        electricity production, hydro, reservoir, non-...   \n",
       "                           Water use        electricity production, nuclear, pressure wate...   \n",
       "                           Water use        electricity production, hydro, reservoir, non-...   \n",
       "\n",
       "                                                                            reference product  \n",
       "Inventory                  Impact Category                                                     \n",
       "Lithium hydroxide, brine   Climate change           heat, district or industrial, natural gas  \n",
       "                           Climate change                         quicklime, in pieces, loose  \n",
       "                           Climate change                           electricity, high voltage  \n",
       "                           Climate change                                 natural gas, vented  \n",
       "                           Climate change   heat, district or industrial, other than natur...  \n",
       "...                                                                                       ...  \n",
       "Market for copper, cathode Water use                          copper concentrate, sulfide ore  \n",
       "                           Water use                                                hard coal  \n",
       "                           Water use                                electricity, high voltage  \n",
       "                           Water use                                electricity, high voltage  \n",
       "                           Water use                                electricity, high voltage  \n",
       "\n",
       "[389 rows x 5 columns]"
      ],
      "text/html": [
       "<div>\n",
       "<style scoped>\n",
       "    .dataframe tbody tr th:only-of-type {\n",
       "        vertical-align: middle;\n",
       "    }\n",
       "\n",
       "    .dataframe tbody tr th {\n",
       "        vertical-align: top;\n",
       "    }\n",
       "\n",
       "    .dataframe thead th {\n",
       "        text-align: right;\n",
       "    }\n",
       "</style>\n",
       "<table border=\"1\" class=\"dataframe\">\n",
       "  <thead>\n",
       "    <tr style=\"text-align: right;\">\n",
       "      <th></th>\n",
       "      <th></th>\n",
       "      <th>score</th>\n",
       "      <th>quantity</th>\n",
       "      <th>percentage</th>\n",
       "      <th>name</th>\n",
       "      <th>reference product</th>\n",
       "    </tr>\n",
       "    <tr>\n",
       "      <th>Inventory</th>\n",
       "      <th>Impact Category</th>\n",
       "      <th></th>\n",
       "      <th></th>\n",
       "      <th></th>\n",
       "      <th></th>\n",
       "      <th></th>\n",
       "    </tr>\n",
       "  </thead>\n",
       "  <tbody>\n",
       "    <tr>\n",
       "      <th rowspan=\"5\" valign=\"top\">Lithium hydroxide, brine</th>\n",
       "      <th>Climate change</th>\n",
       "      <td>2.546242</td>\n",
       "      <td>43.125706</td>\n",
       "      <td>33.193816</td>\n",
       "      <td>heat production, natural gas, at industrial fu...</td>\n",
       "      <td>heat, district or industrial, natural gas</td>\n",
       "    </tr>\n",
       "    <tr>\n",
       "      <th>Climate change</th>\n",
       "      <td>1.276628</td>\n",
       "      <td>1.174931</td>\n",
       "      <td>16.642628</td>\n",
       "      <td>quicklime production, in pieces, loose</td>\n",
       "      <td>quicklime, in pieces, loose</td>\n",
       "    </tr>\n",
       "    <tr>\n",
       "      <th>Climate change</th>\n",
       "      <td>0.693125</td>\n",
       "      <td>0.708695</td>\n",
       "      <td>9.035846</td>\n",
       "      <td>electricity production, hard coal</td>\n",
       "      <td>electricity, high voltage</td>\n",
       "    </tr>\n",
       "    <tr>\n",
       "      <th>Climate change</th>\n",
       "      <td>0.461016</td>\n",
       "      <td>0.026424</td>\n",
       "      <td>6.009992</td>\n",
       "      <td>natural gas venting from petroleum/natural gas...</td>\n",
       "      <td>natural gas, vented</td>\n",
       "    </tr>\n",
       "    <tr>\n",
       "      <th>Climate change</th>\n",
       "      <td>0.449460</td>\n",
       "      <td>3.898652</td>\n",
       "      <td>5.859344</td>\n",
       "      <td>heat production, at hard coal industrial furna...</td>\n",
       "      <td>heat, district or industrial, other than natur...</td>\n",
       "    </tr>\n",
       "    <tr>\n",
       "      <th>...</th>\n",
       "      <th>...</th>\n",
       "      <td>...</td>\n",
       "      <td>...</td>\n",
       "      <td>...</td>\n",
       "      <td>...</td>\n",
       "      <td>...</td>\n",
       "    </tr>\n",
       "    <tr>\n",
       "      <th rowspan=\"5\" valign=\"top\">Market for copper, cathode</th>\n",
       "      <th>Water use</th>\n",
       "      <td>0.095290</td>\n",
       "      <td>0.489834</td>\n",
       "      <td>1.700653</td>\n",
       "      <td>copper mine operation and beneficiation, sulfi...</td>\n",
       "      <td>copper concentrate, sulfide ore</td>\n",
       "    </tr>\n",
       "    <tr>\n",
       "      <th>Water use</th>\n",
       "      <td>0.090593</td>\n",
       "      <td>0.807110</td>\n",
       "      <td>1.616834</td>\n",
       "      <td>hard coal mine operation and hard coal prepara...</td>\n",
       "      <td>hard coal</td>\n",
       "    </tr>\n",
       "    <tr>\n",
       "      <th>Water use</th>\n",
       "      <td>0.073927</td>\n",
       "      <td>0.058898</td>\n",
       "      <td>1.319384</td>\n",
       "      <td>electricity production, hydro, reservoir, non-...</td>\n",
       "      <td>electricity, high voltage</td>\n",
       "    </tr>\n",
       "    <tr>\n",
       "      <th>Water use</th>\n",
       "      <td>0.063327</td>\n",
       "      <td>0.039982</td>\n",
       "      <td>1.130202</td>\n",
       "      <td>electricity production, nuclear, pressure wate...</td>\n",
       "      <td>electricity, high voltage</td>\n",
       "    </tr>\n",
       "    <tr>\n",
       "      <th>Water use</th>\n",
       "      <td>0.059110</td>\n",
       "      <td>0.047093</td>\n",
       "      <td>1.054944</td>\n",
       "      <td>electricity production, hydro, reservoir, non-...</td>\n",
       "      <td>electricity, high voltage</td>\n",
       "    </tr>\n",
       "  </tbody>\n",
       "</table>\n",
       "<p>389 rows × 5 columns</p>\n",
       "</div>"
      ]
     },
     "execution_count": 19,
     "metadata": {},
     "output_type": "execute_result"
    }
   ],
   "execution_count": 19
  },
  {
   "metadata": {
    "ExecuteTime": {
     "end_time": "2024-10-31T01:19:34.113400Z",
     "start_time": "2024-10-31T01:19:31.831650Z"
    }
   },
   "cell_type": "code",
   "source": [
    "# Example usage\n",
    "inventory_names = [\"Lithium hydroxide, brine\", \"Lithium hydroxide, spodumene\", \"Cobalt\"]\n",
    "colors = [\"#1f77b4\", \"#ff7f0e\", \"#2ca02c\", \"#d62728\"]\n",
    "plot_contribution_analysis(contribution_analysis_df, inventory_names, colors, save_dir=\"results\")"
   ],
   "id": "8ed56d3c4628e046",
   "outputs": [
    {
     "name": "stdout",
     "output_type": "stream",
     "text": [
      "Plot saved to results/contribution_analysis_Lithium_hydroxide,_brine.png\n",
      "Plot saved to results/contribution_analysis_Lithium_hydroxide,_spodumene.png\n",
      "Plot saved to results/contribution_analysis_Cobalt.png\n"
     ]
    }
   ],
   "execution_count": 20
  },
  {
   "metadata": {
    "ExecuteTime": {
     "end_time": "2024-10-31T01:19:34.174769Z",
     "start_time": "2024-10-31T01:19:34.161602Z"
    }
   },
   "cell_type": "code",
   "source": "contribution_analysis_df.to_csv(f\"results/contribution_analysis_{datetime.datetime.today().strftime('%d-%m-%Y')}.csv\")",
   "id": "64c15a88ae1aea8a",
   "outputs": [],
   "execution_count": 21
  },
  {
   "metadata": {},
   "cell_type": "markdown",
   "source": "# Demand-related impacts",
   "id": "53640853be6fd242"
  },
  {
   "metadata": {
    "ExecuteTime": {
     "end_time": "2024-10-31T01:19:34.296241Z",
     "start_time": "2024-10-31T01:19:34.180072Z"
    }
   },
   "cell_type": "code",
   "source": [
    "production_existing = pd.read_excel(r'data/scenarios_canadian_climate_institute.xlsx', sheet_name='Production_existing')\n",
    "production_potential = pd.read_excel(r'data/scenarios_canadian_climate_institute.xlsx', sheet_name='Production_potential')\n",
    "production_existing = production_existing[production_existing['Scenario']=='Domestic demand scenario']\n",
    "production_potential = production_potential[production_potential['Scenario']=='Domestic demand scenario']"
   ],
   "id": "6f4231a77c67d782",
   "outputs": [],
   "execution_count": 22
  },
  {
   "metadata": {
    "ExecuteTime": {
     "end_time": "2024-10-31T01:19:34.358276Z",
     "start_time": "2024-10-31T01:19:34.345353Z"
    }
   },
   "cell_type": "code",
   "source": "production_existing['Mineral'].unique()",
   "id": "c2cc7d07c99006d5",
   "outputs": [
    {
     "data": {
      "text/plain": [
       "array(['Cobalt', 'Copper', 'Lithium', 'Nickel', 'Graphite', 'Neodymium'],\n",
       "      dtype=object)"
      ]
     },
     "execution_count": 23,
     "metadata": {},
     "output_type": "execute_result"
    }
   ],
   "execution_count": 23
  },
  {
   "metadata": {
    "ExecuteTime": {
     "end_time": "2024-10-31T01:19:34.419188Z",
     "start_time": "2024-10-31T01:19:34.406191Z"
    }
   },
   "cell_type": "code",
   "source": [
    "specific_lca = specific_lca.reset_index().rename(columns={'index': 'Mineral'})\n",
    "specific_lca"
   ],
   "id": "288803d3c42165d4",
   "outputs": [
    {
     "data": {
      "text/plain": [
       "                         Mineral  Climate change (kg CO2-Eq)  \\\n",
       "0       Lithium hydroxide, brine                    7.670832   \n",
       "1   Lithium hydroxide, spodumene                   17.180445   \n",
       "2                         Cobalt                   14.927615   \n",
       "3                         Nickel                    5.460966   \n",
       "4              Graphite, natural                   10.541640   \n",
       "5            Graphite, synthetic                   43.735114   \n",
       "6       Lithium carbonate, brine                    3.610366   \n",
       "7   Lithium carbonate, spodumene                   24.024092   \n",
       "8                      Neodymium                   55.058910   \n",
       "9     Copper concentrate, Canada                    1.249726   \n",
       "10    Market for copper, cathode                    7.014152   \n",
       "\n",
       "    Ecosystem quality (PDF.m2.yr)  Human health (DALYs)  \\\n",
       "0                        0.827068              0.000006   \n",
       "1                        3.344400              0.000022   \n",
       "2                        3.351673              0.000028   \n",
       "3                        6.702595              0.000033   \n",
       "4                        2.119473              0.000009   \n",
       "5                        7.392098              0.000033   \n",
       "6                        0.517874              0.000003   \n",
       "7                        4.659097              0.000031   \n",
       "8                       72.895905              0.000079   \n",
       "9                        2.174542              0.000003   \n",
       "10                       9.459163              0.000088   \n",
       "\n",
       "    Water use (m3 world Eq deprived)  \n",
       "0                           2.078440  \n",
       "1                           2.487335  \n",
       "2                           4.524261  \n",
       "3                           1.033520  \n",
       "4                          36.364382  \n",
       "5                           4.378197  \n",
       "6                           1.869038  \n",
       "7                           3.387107  \n",
       "8                          36.117563  \n",
       "9                           2.101341  \n",
       "10                          5.603142  "
      ],
      "text/html": [
       "<div>\n",
       "<style scoped>\n",
       "    .dataframe tbody tr th:only-of-type {\n",
       "        vertical-align: middle;\n",
       "    }\n",
       "\n",
       "    .dataframe tbody tr th {\n",
       "        vertical-align: top;\n",
       "    }\n",
       "\n",
       "    .dataframe thead th {\n",
       "        text-align: right;\n",
       "    }\n",
       "</style>\n",
       "<table border=\"1\" class=\"dataframe\">\n",
       "  <thead>\n",
       "    <tr style=\"text-align: right;\">\n",
       "      <th></th>\n",
       "      <th>Mineral</th>\n",
       "      <th>Climate change (kg CO2-Eq)</th>\n",
       "      <th>Ecosystem quality (PDF.m2.yr)</th>\n",
       "      <th>Human health (DALYs)</th>\n",
       "      <th>Water use (m3 world Eq deprived)</th>\n",
       "    </tr>\n",
       "  </thead>\n",
       "  <tbody>\n",
       "    <tr>\n",
       "      <th>0</th>\n",
       "      <td>Lithium hydroxide, brine</td>\n",
       "      <td>7.670832</td>\n",
       "      <td>0.827068</td>\n",
       "      <td>0.000006</td>\n",
       "      <td>2.078440</td>\n",
       "    </tr>\n",
       "    <tr>\n",
       "      <th>1</th>\n",
       "      <td>Lithium hydroxide, spodumene</td>\n",
       "      <td>17.180445</td>\n",
       "      <td>3.344400</td>\n",
       "      <td>0.000022</td>\n",
       "      <td>2.487335</td>\n",
       "    </tr>\n",
       "    <tr>\n",
       "      <th>2</th>\n",
       "      <td>Cobalt</td>\n",
       "      <td>14.927615</td>\n",
       "      <td>3.351673</td>\n",
       "      <td>0.000028</td>\n",
       "      <td>4.524261</td>\n",
       "    </tr>\n",
       "    <tr>\n",
       "      <th>3</th>\n",
       "      <td>Nickel</td>\n",
       "      <td>5.460966</td>\n",
       "      <td>6.702595</td>\n",
       "      <td>0.000033</td>\n",
       "      <td>1.033520</td>\n",
       "    </tr>\n",
       "    <tr>\n",
       "      <th>4</th>\n",
       "      <td>Graphite, natural</td>\n",
       "      <td>10.541640</td>\n",
       "      <td>2.119473</td>\n",
       "      <td>0.000009</td>\n",
       "      <td>36.364382</td>\n",
       "    </tr>\n",
       "    <tr>\n",
       "      <th>5</th>\n",
       "      <td>Graphite, synthetic</td>\n",
       "      <td>43.735114</td>\n",
       "      <td>7.392098</td>\n",
       "      <td>0.000033</td>\n",
       "      <td>4.378197</td>\n",
       "    </tr>\n",
       "    <tr>\n",
       "      <th>6</th>\n",
       "      <td>Lithium carbonate, brine</td>\n",
       "      <td>3.610366</td>\n",
       "      <td>0.517874</td>\n",
       "      <td>0.000003</td>\n",
       "      <td>1.869038</td>\n",
       "    </tr>\n",
       "    <tr>\n",
       "      <th>7</th>\n",
       "      <td>Lithium carbonate, spodumene</td>\n",
       "      <td>24.024092</td>\n",
       "      <td>4.659097</td>\n",
       "      <td>0.000031</td>\n",
       "      <td>3.387107</td>\n",
       "    </tr>\n",
       "    <tr>\n",
       "      <th>8</th>\n",
       "      <td>Neodymium</td>\n",
       "      <td>55.058910</td>\n",
       "      <td>72.895905</td>\n",
       "      <td>0.000079</td>\n",
       "      <td>36.117563</td>\n",
       "    </tr>\n",
       "    <tr>\n",
       "      <th>9</th>\n",
       "      <td>Copper concentrate, Canada</td>\n",
       "      <td>1.249726</td>\n",
       "      <td>2.174542</td>\n",
       "      <td>0.000003</td>\n",
       "      <td>2.101341</td>\n",
       "    </tr>\n",
       "    <tr>\n",
       "      <th>10</th>\n",
       "      <td>Market for copper, cathode</td>\n",
       "      <td>7.014152</td>\n",
       "      <td>9.459163</td>\n",
       "      <td>0.000088</td>\n",
       "      <td>5.603142</td>\n",
       "    </tr>\n",
       "  </tbody>\n",
       "</table>\n",
       "</div>"
      ]
     },
     "execution_count": 24,
     "metadata": {},
     "output_type": "execute_result"
    }
   ],
   "execution_count": 24
  },
  {
   "metadata": {
    "ExecuteTime": {
     "end_time": "2024-10-31T01:19:34.558207Z",
     "start_time": "2024-10-31T01:19:34.544487Z"
    }
   },
   "cell_type": "code",
   "source": [
    "# Define a manual mapping to link the mineral in the scenario with the LCI of our choice\n",
    "mineral_to_material = {\n",
    "    \"Cobalt\": \"Cobalt\",\n",
    "    \"Copper\": \"Copper concentrate, Canada\",\n",
    "    \"Lithium\": \"Lithium carbonate, spodumene\",\n",
    "    \"Nickel\": \"Nickel\",\n",
    "    \"Graphite\": \"Graphite, natural\",\n",
    "    \"Neodymium\": \"Copper concentrate, Canada\"  \n",
    "}\n"
   ],
   "id": "a800055ad6fe1e04",
   "outputs": [],
   "execution_count": 25
  },
  {
   "metadata": {
    "ExecuteTime": {
     "end_time": "2024-10-31T01:19:34.684799Z",
     "start_time": "2024-10-31T01:19:34.640276Z"
    }
   },
   "cell_type": "code",
   "source": [
    "# Generate the projected impacts DataFrame\n",
    "projected_impacts_existing_production = calculate_projected_impacts(production_existing, specific_lca, mineral_to_material)\n",
    "projected_impacts_potential_production = calculate_projected_impacts(production_potential, specific_lca, mineral_to_material)\n"
   ],
   "id": "e4e4d3dcb95b0e0b",
   "outputs": [],
   "execution_count": 26
  },
  {
   "metadata": {
    "ExecuteTime": {
     "end_time": "2024-10-31T01:19:34.731389Z",
     "start_time": "2024-10-31T01:19:34.711167Z"
    }
   },
   "cell_type": "code",
   "source": "projected_impacts_existing_production",
   "id": "7f4f18012ca43900",
   "outputs": [
    {
     "data": {
      "text/plain": [
       "     Climate change (kg CO2-Eq)  Ecosystem quality (PDF.m2.yr)  \\\n",
       "0                  6.174211e+07                   1.386285e+07   \n",
       "1                  5.124650e+07                   1.150629e+07   \n",
       "2                  4.831060e+07                   1.084710e+07   \n",
       "3                  5.685417e+07                   1.276537e+07   \n",
       "4                  3.785857e+07                   8.500322e+06   \n",
       "..                          ...                            ...   \n",
       "133                0.000000e+00                   0.000000e+00   \n",
       "134                0.000000e+00                   0.000000e+00   \n",
       "135                0.000000e+00                   0.000000e+00   \n",
       "136                0.000000e+00                   0.000000e+00   \n",
       "137                0.000000e+00                   0.000000e+00   \n",
       "\n",
       "     Human health (DALYs)  Water use (m3 world Eq deprived)  Year    Mineral  \n",
       "0              117.461302                      1.871280e+07  2018     Cobalt  \n",
       "1               97.493931                      1.553179e+07  2019     Cobalt  \n",
       "2               91.908520                      1.464198e+07  2020     Cobalt  \n",
       "3              108.162233                      1.723136e+07  2021     Cobalt  \n",
       "4               72.024047                      1.147417e+07  2022     Cobalt  \n",
       "..                    ...                               ...   ...        ...  \n",
       "133              0.000000                      0.000000e+00  2036  Neodymium  \n",
       "134              0.000000                      0.000000e+00  2037  Neodymium  \n",
       "135              0.000000                      0.000000e+00  2038  Neodymium  \n",
       "136              0.000000                      0.000000e+00  2039  Neodymium  \n",
       "137              0.000000                      0.000000e+00  2040  Neodymium  \n",
       "\n",
       "[138 rows x 6 columns]"
      ],
      "text/html": [
       "<div>\n",
       "<style scoped>\n",
       "    .dataframe tbody tr th:only-of-type {\n",
       "        vertical-align: middle;\n",
       "    }\n",
       "\n",
       "    .dataframe tbody tr th {\n",
       "        vertical-align: top;\n",
       "    }\n",
       "\n",
       "    .dataframe thead th {\n",
       "        text-align: right;\n",
       "    }\n",
       "</style>\n",
       "<table border=\"1\" class=\"dataframe\">\n",
       "  <thead>\n",
       "    <tr style=\"text-align: right;\">\n",
       "      <th></th>\n",
       "      <th>Climate change (kg CO2-Eq)</th>\n",
       "      <th>Ecosystem quality (PDF.m2.yr)</th>\n",
       "      <th>Human health (DALYs)</th>\n",
       "      <th>Water use (m3 world Eq deprived)</th>\n",
       "      <th>Year</th>\n",
       "      <th>Mineral</th>\n",
       "    </tr>\n",
       "  </thead>\n",
       "  <tbody>\n",
       "    <tr>\n",
       "      <th>0</th>\n",
       "      <td>6.174211e+07</td>\n",
       "      <td>1.386285e+07</td>\n",
       "      <td>117.461302</td>\n",
       "      <td>1.871280e+07</td>\n",
       "      <td>2018</td>\n",
       "      <td>Cobalt</td>\n",
       "    </tr>\n",
       "    <tr>\n",
       "      <th>1</th>\n",
       "      <td>5.124650e+07</td>\n",
       "      <td>1.150629e+07</td>\n",
       "      <td>97.493931</td>\n",
       "      <td>1.553179e+07</td>\n",
       "      <td>2019</td>\n",
       "      <td>Cobalt</td>\n",
       "    </tr>\n",
       "    <tr>\n",
       "      <th>2</th>\n",
       "      <td>4.831060e+07</td>\n",
       "      <td>1.084710e+07</td>\n",
       "      <td>91.908520</td>\n",
       "      <td>1.464198e+07</td>\n",
       "      <td>2020</td>\n",
       "      <td>Cobalt</td>\n",
       "    </tr>\n",
       "    <tr>\n",
       "      <th>3</th>\n",
       "      <td>5.685417e+07</td>\n",
       "      <td>1.276537e+07</td>\n",
       "      <td>108.162233</td>\n",
       "      <td>1.723136e+07</td>\n",
       "      <td>2021</td>\n",
       "      <td>Cobalt</td>\n",
       "    </tr>\n",
       "    <tr>\n",
       "      <th>4</th>\n",
       "      <td>3.785857e+07</td>\n",
       "      <td>8.500322e+06</td>\n",
       "      <td>72.024047</td>\n",
       "      <td>1.147417e+07</td>\n",
       "      <td>2022</td>\n",
       "      <td>Cobalt</td>\n",
       "    </tr>\n",
       "    <tr>\n",
       "      <th>...</th>\n",
       "      <td>...</td>\n",
       "      <td>...</td>\n",
       "      <td>...</td>\n",
       "      <td>...</td>\n",
       "      <td>...</td>\n",
       "      <td>...</td>\n",
       "    </tr>\n",
       "    <tr>\n",
       "      <th>133</th>\n",
       "      <td>0.000000e+00</td>\n",
       "      <td>0.000000e+00</td>\n",
       "      <td>0.000000</td>\n",
       "      <td>0.000000e+00</td>\n",
       "      <td>2036</td>\n",
       "      <td>Neodymium</td>\n",
       "    </tr>\n",
       "    <tr>\n",
       "      <th>134</th>\n",
       "      <td>0.000000e+00</td>\n",
       "      <td>0.000000e+00</td>\n",
       "      <td>0.000000</td>\n",
       "      <td>0.000000e+00</td>\n",
       "      <td>2037</td>\n",
       "      <td>Neodymium</td>\n",
       "    </tr>\n",
       "    <tr>\n",
       "      <th>135</th>\n",
       "      <td>0.000000e+00</td>\n",
       "      <td>0.000000e+00</td>\n",
       "      <td>0.000000</td>\n",
       "      <td>0.000000e+00</td>\n",
       "      <td>2038</td>\n",
       "      <td>Neodymium</td>\n",
       "    </tr>\n",
       "    <tr>\n",
       "      <th>136</th>\n",
       "      <td>0.000000e+00</td>\n",
       "      <td>0.000000e+00</td>\n",
       "      <td>0.000000</td>\n",
       "      <td>0.000000e+00</td>\n",
       "      <td>2039</td>\n",
       "      <td>Neodymium</td>\n",
       "    </tr>\n",
       "    <tr>\n",
       "      <th>137</th>\n",
       "      <td>0.000000e+00</td>\n",
       "      <td>0.000000e+00</td>\n",
       "      <td>0.000000</td>\n",
       "      <td>0.000000e+00</td>\n",
       "      <td>2040</td>\n",
       "      <td>Neodymium</td>\n",
       "    </tr>\n",
       "  </tbody>\n",
       "</table>\n",
       "<p>138 rows × 6 columns</p>\n",
       "</div>"
      ]
     },
     "execution_count": 27,
     "metadata": {},
     "output_type": "execute_result"
    }
   ],
   "execution_count": 27
  },
  {
   "metadata": {
    "ExecuteTime": {
     "end_time": "2024-10-31T01:19:39.786552Z",
     "start_time": "2024-10-31T01:19:34.874299Z"
    }
   },
   "cell_type": "code",
   "source": [
    "# Plot impacts per production scenario\n",
    "plot_impacts_with_production(projected_impacts_existing_production, production_existing, impact_categories, scenario_name='existing_production')\n",
    "plot_impacts_with_production(projected_impacts_potential_production, production_potential, impact_categories, scenario_name='potential_production')\n"
   ],
   "id": "f79da374858de1b2",
   "outputs": [
    {
     "name": "stdout",
     "output_type": "stream",
     "text": [
      "Combined plot saved to results\\combined_impact_existing_production.png\n",
      "Combined plot saved to results\\combined_impact_potential_production.png\n"
     ]
    }
   ],
   "execution_count": 28
  },
  {
   "metadata": {
    "ExecuteTime": {
     "end_time": "2024-10-31T01:24:41.306957Z",
     "start_time": "2024-10-31T01:24:39.127546Z"
    }
   },
   "cell_type": "code",
   "source": [
    "# Plot incremental impacts from potential production to existing production\n",
    "plot_incremental_impacts(projected_impacts_existing_production, projected_impacts_potential_production,\n",
    "                                 production_existing, production_potential, \n",
    "                                 impact_categories, save_dir=\"results\", scenario_name=\"incremental_comparison\")\n"
   ],
   "id": "c64e63499e437e5c",
   "outputs": [
    {
     "name": "stdout",
     "output_type": "stream",
     "text": [
      "Incremental impact stacked plot saved to results\\incremental_impact_incremental_comparison_stacked.png\n"
     ]
    }
   ],
   "execution_count": 34
  },
  {
   "metadata": {},
   "cell_type": "code",
   "outputs": [],
   "execution_count": null,
   "source": "",
   "id": "315509c981310e5e"
  }
 ],
 "metadata": {
  "kernelspec": {
   "display_name": "Python 3 (ipykernel)",
   "language": "python",
   "name": "python3"
  },
  "language_info": {
   "codemirror_mode": {
    "name": "ipython",
    "version": 3
   },
   "file_extension": ".py",
   "mimetype": "text/x-python",
   "name": "python",
   "nbconvert_exporter": "python",
   "pygments_lexer": "ipython3",
   "version": "3.10.15"
  }
 },
 "nbformat": 4,
 "nbformat_minor": 5
}
