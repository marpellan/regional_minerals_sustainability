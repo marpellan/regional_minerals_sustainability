{
 "cells": [
  {
   "cell_type": "code",
   "id": "initial_id",
   "metadata": {
    "collapsed": true
   },
   "source": [
    "# Brightway imports\n",
    "import bw2analyzer as ba\n",
    "import bw2calc as bc\n",
    "import bw2data as bd\n",
    "import bw2io as bi\n",
    "import brightway2 as bw\n",
    "from bw2data import parameters\n",
    "from sympy.physics.units import years\n",
    "from sympy.stats.crv_types import LogNormalDistribution\n",
    "from sympy import init_printing\n",
    "import lca_algebraic as agb\n",
    "from dotenv import load_dotenv\n",
    "\n",
    "# Custom utils defined for the parameterization\n",
    "from lca_algebraic import *\n",
    "from lca_algebraic.stats import *\n",
    "\n",
    "# Pretty print for Sympy\n",
    "init_printing()"
   ],
   "outputs": [],
   "execution_count": null
  },
  {
   "metadata": {},
   "cell_type": "code",
   "source": [
    "import pandas as pd\n",
    "import numpy as np\n",
    "import matplotlib.pyplot as plt\n",
    "import seaborn as sns\n",
    "from scipy.stats import norm, lognorm, expon, beta, uniform, triang, kstest"
   ],
   "id": "e6c3ad7bb6895a47",
   "outputs": [],
   "execution_count": null
  },
  {
   "metadata": {},
   "cell_type": "code",
   "source": [
    "BW_PROJECT = 'lca-alg-2' # insert your project name here\n",
    "bd.projects.set_current(BW_PROJECT)\n",
    "\n",
    "EI_DB = 'ecoinvent-3.9.1-cutoff' # name of ecoinvent database in your project\n",
    "# We use a separate DB for defining our foreground model / activities\n",
    "USER_DB = \"MyForeground\""
   ],
   "id": "3a63a1ecc7f25302",
   "outputs": [],
   "execution_count": null
  },
  {
   "metadata": {},
   "cell_type": "code",
   "source": [
    "# This is better to cleanup the whole foreground model each time, and redefine it in the notebook (or a python file)\n",
    "# instead of relying on a state or previous run.\n",
    "# Any persistent state is prone to errors.\n",
    "agb.resetDb(USER_DB)\n",
    "\n",
    "# Parameters are stored at project level : \n",
    "# Reset them also\n",
    "# You may remove this line if you import a project and parameters from an external source (see loadParam(..))\n",
    "agb.resetParams()\n",
    "\n",
    "# Overview of the databases\n",
    "agb.list_databases()"
   ],
   "id": "25665a2f9ecbcfdf",
   "outputs": [],
   "execution_count": null
  },
  {
   "metadata": {},
   "cell_type": "markdown",
   "source": "## Define input parameters",
   "id": "993ff937b139e4ee"
  },
  {
   "metadata": {},
   "cell_type": "markdown",
   "source": [
    "lca_algebraic supports 7 distribution types: \n",
    "- Fixed: for excluding parameters from the statistical study\n",
    "- Uniform: uniform distribution within the range of definition\n",
    "- Triangle: null probability at the boundaries and highest probability for a default value, to be defined within this range. This type of distribution is useful for parameters for which literature only provides a range of extreme values and a usual one.\n",
    "- Normal: normal distribution, capped to minimum and maximum values\n",
    "- Log-normal: log-normal distribution, capped to minimum and maximum values\n",
    "- Beta: beta distribution, capped to minimum and maximum values\n",
    "- Statistic weight: for discrete parameters: boolean and enum"
   ],
   "id": "6b29726baac1ca6d"
  },
  {
   "metadata": {},
   "cell_type": "markdown",
   "source": [
    "lca_algebraic supports 3 types of parameters that can be used in the inventory: \n",
    "- Float\n",
    "- Boolean (e.g. discrete parameters, 0 or 1)\n",
    "- Enumerated: discrete parameters set to one value among a predefined list. They are modeled internally as a linear combination of a set of exclusive boolean parameters"
   ],
   "id": "8a6ae0d454637032"
  },
  {
   "metadata": {},
   "cell_type": "code",
   "source": [
    "# Example of 'float' parameters\n",
    "a = agb.newFloatParam(\n",
    "    'a', \n",
    "    default=0.5, min=0.2, max=2,  \n",
    "    distrib=agb.DistributionType.TRIANGLE, # Distribution type, linear by default\n",
    "    description=\"hello world\",\n",
    "    label=\"extended label for a\")\n",
    "\n",
    "b = agb.newFloatParam(\n",
    "    'b',\n",
    "    default=0.5, # Fixed if no min /max provided\n",
    "    distrib=agb.DistributionType.FIXED,\n",
    "    description=\"foo bar\")\n",
    "\n",
    "share_recycled_aluminium = agb.newFloatParam(\n",
    "    'share_recycled_aluminium',  \n",
    "    default=0.6, \n",
    "    min=0, max=1, std=0.2, \n",
    "    distrib=agb.DistributionType.NORMAL, # Normal distrib, with std dev\n",
    "    description=\"Share of reycled aluminium\")\n",
    "\n",
    "c = agb.newFloatParam(\n",
    "    'c',  \n",
    "    default=0.6, std=0.2, \n",
    "    distrib=agb.DistributionType.LOGNORMAL)\n",
    "\n",
    "beta = agb.newFloatParam(\n",
    "    'beta',  \n",
    "    default=0.6, std=0.2, a=2, b=5, \n",
    "    distrib=agb.DistributionType.BETA)"
   ],
   "id": "18cdf8963f486536",
   "outputs": [],
   "execution_count": null
  },
  {
   "metadata": {},
   "cell_type": "code",
   "source": [
    "# Enum parameters\n",
    "# Example 'enum' parameter, acting like a switch between several possibilities\n",
    "# Enum parameters are not Symbol themselves\n",
    "# They are a facility to represent many boolean parameters at once '<paramName>_<enumValue>' \n",
    "# and should be used with the 'newSwitchAct' method \n",
    "elec_switch_param = agb.newEnumParam(\n",
    "    'elec_switch_param', \n",
    "    values=[\"us\", \"eu\"], # If provided as list, all possibilities have te same probability\n",
    "    default=\"us\", \n",
    "    description=\"Switch on electricty mix\")\n",
    "\n",
    "# Another example enum param\n",
    "techno_param = agb.newEnumParam(\n",
    "    'techno_param', \n",
    "    values={\n",
    "        \"technoA\":0.4, \n",
    "        \"technoB\":0.1,\n",
    "        \"technoC\":0.5}, # You can provide a statistical weight for each value, by using a dict\n",
    "    default=\"technoA\", \n",
    "    description=\"Choice of technology\")"
   ],
   "id": "98cf27bdaec314a9",
   "outputs": [],
   "execution_count": null
  },
  {
   "metadata": {},
   "cell_type": "code",
   "source": [
    "# You can define boolean parameters, taking only discrete values 0 or 1\n",
    "bool_param = agb.newBoolParam(\n",
    "    'bool_param', \n",
    "    default=1)"
   ],
   "id": "fa0754d3cd72dfbe",
   "outputs": [],
   "execution_count": null
  },
  {
   "metadata": {},
   "cell_type": "markdown",
   "source": [
    "By default, new parameters are kept in memory but also persisted in the project (unless save=False).\n",
    "\n",
    "You can persist parameters afterwards with `persistParams()`.\n",
    "\n",
    "You can load also load parameters from an existing database with `loadParams()`.\n",
    "\n",
    "The persistance of parameters and the distribution is compatible with **Brightway2** and **Activity Browser**  [see documentation of stat_arrays](https://stats-arrays.readthedocs.io/en/latest/)"
   ],
   "id": "bec15343cdaa1791"
  },
  {
   "metadata": {},
   "cell_type": "code",
   "source": [
    "# Load parameters previously  persisted in the dabatase.\n",
    "agb.loadParams()"
   ],
   "id": "3a0db371a1d125a0",
   "outputs": [],
   "execution_count": null
  },
  {
   "metadata": {},
   "cell_type": "markdown",
   "source": [
    "lca_algebraic supports several foreground / background datasets. Background datasets are considered static / non parametrized by the library : they use standard LCA method of **Brightway2**. \n",
    "\n",
    "Foreground databases are considered parametric and their activities are developped as functions of parameters and background activities."
   ],
   "id": "6fc2c14a85d9c606"
  },
  {
   "metadata": {},
   "cell_type": "code",
   "source": [
    "agb.setForeground(USER_DB)\n",
    "agb.list_databases()"
   ],
   "id": "54b64306b2949ffc",
   "outputs": [],
   "execution_count": null
  },
  {
   "metadata": {},
   "cell_type": "code",
   "source": [
    "# Save database and parameters as Bzipped JSON\n",
    "#agb.export_db(USER_DB, \"data/db.bw2\")"
   ],
   "id": "d0af4e9339371dc8",
   "outputs": [],
   "execution_count": null
  },
  {
   "metadata": {},
   "cell_type": "code",
   "source": [
    "# Reimport DB\n",
    "#agb.import_db(\"data/db.bw2\")"
   ],
   "id": "a447ea2183f7a37f",
   "outputs": [],
   "execution_count": null
  },
  {
   "metadata": {},
   "cell_type": "markdown",
   "source": "A foreground database can be \"frozen\" to be used as a background database for a specific scenario : the parametrized amounts in the exhanges are computed for a given configuration of the parameters, and replaced by their value. The formulas are still stored in the database and not lost : the database can still be used as a foreground database until its status is changed with `setBackground(...)`.",
   "id": "a5e80fd410e3c78f"
  },
  {
   "metadata": {},
   "cell_type": "code",
   "source": [
    "agb.freezeParams(\n",
    "    USER_DB, # Name of database to freeze\n",
    "    \n",
    "    a=1, b=2) # custom parameter values"
   ],
   "id": "98d1550ae3065e86",
   "outputs": [],
   "execution_count": null
  },
  {
   "metadata": {},
   "cell_type": "markdown",
   "source": "# Link to background activities and creation of new activities",
   "id": "e2e27fdfb659e23b"
  },
  {
   "metadata": {},
   "cell_type": "markdown",
   "source": [
    "We provide two functions for easy and fast (indexed) search of activities in reference databases : \n",
    "* **findBioAct** : Search activity in **biosphere3** db\n",
    "* **findTechAct** : Search activity in **ecoinvent** db\n",
    "\n",
    "Those methods are **faster** and **safer** than using traditionnal \"list-comprehension\" search : \n",
    "They will **fail with an error** if **more than one activity** matches, preventing the model to be based on a random selection of one activity."
   ],
   "id": "4bc6bac713ad4bc9"
  },
  {
   "metadata": {},
   "cell_type": "markdown",
   "source": "The model is defined as a nested combination of background activities with amounts. Amounts are defined either as constant float values or algebric formulas implying the parameters defined above.",
   "id": "30eedd2c9d58d485"
  },
  {
   "metadata": {},
   "cell_type": "markdown",
   "source": "## Existing activities",
   "id": "af3ec60ca564f2cf"
  },
  {
   "metadata": {},
   "cell_type": "code",
   "source": [
    "# Biosphere activities\n",
    "ground_occupuation = agb.findBioAct('Occupation, industrial area') # Search by name\n",
    "heat = agb.findBioAct('Heat, waste', categories=['air']) # Add category selector\n",
    "\n",
    "# Technosphere activities\n",
    "\n",
    "# You can add an optionnal location selector\n",
    "alu = agb.findTechAct(\"aluminium alloy production, AlMg3\", loc=\"RER\")\n",
    "alu_scrap = agb.findTechAct('aluminium scrap, new, Recycled Content cut-off')\n",
    "\n",
    "# Elec \n",
    "eu_elec = agb.findTechAct(\"market group for electricity, medium voltage\", 'ENTSO-E')\n",
    "us_elec = agb.findTechAct(\"market group for electricity, medium voltage\", 'US')\n",
    "\n",
    "chromium = agb.findTechAct(\"market for chromium oxide, flakes\")"
   ],
   "id": "c830179909c075f9",
   "outputs": [],
   "execution_count": null
  },
  {
   "metadata": {},
   "cell_type": "markdown",
   "source": "## New activities",
   "id": "c444417a126d13fe"
  },
  {
   "metadata": {},
   "cell_type": "code",
   "source": [
    "# Create a new activity\n",
    "activity1 = agb.newActivity(USER_DB, # We define foreground activities in our own DB\n",
    "    \"first foreground activity\", # Name of the activity\n",
    "    \"kg\", # Unit\n",
    "    exchanges= { # We define exhanges as a dictionarry of 'activity : amount'\n",
    "        ground_occupuation:3 * b, # Amount can be a fixed value \n",
    "        heat: b + 0.2  # Amount can be a Sympy expression (any arithmetic expression of Parameters)\n",
    "    })\n",
    "\n",
    "# You can create a virtual \"switch\" activity combining several activities with an Enum parameter\n",
    "elec_mix = agb.newSwitchAct(USER_DB, \n",
    "    \"elect mix\", # Name\n",
    "    elec_switch_param, # Sith parameter\n",
    "    { # Dictionnary of enum values / activities\n",
    "        \"us\" : us_elec, # By default associated amount is 1\n",
    "        \"eu\" : (eu_elec, 0.8)  # You can also provide custom amout or formula with a tuple \n",
    "    })"
   ],
   "id": "6f9852a6813f6d36",
   "outputs": [],
   "execution_count": null
  },
  {
   "metadata": {},
   "cell_type": "markdown",
   "source": "## Copy activities",
   "id": "9b0e4709107ce8bc"
  },
  {
   "metadata": {},
   "cell_type": "code",
   "source": [
    "# Copy and update existing activity\n",
    "alu2 = agb.copyActivity(\n",
    "    USER_DB, # The copy of a background activity is done in our own DB, so that we can safely update it                \n",
    "    alu, # Initial activity : won't be altered\n",
    "    \"Aluminium 2\") # New name\n",
    "\n",
    "# Update exchanges by their name \n",
    "alu2.updateExchanges({\n",
    "    \n",
    "    # Update amount : the special symbol *old_amount* references the previous amount of this exchange\n",
    "    \"aluminium, cast alloy\": agb.old_amount * (1 - share_recycled_aluminium),\n",
    "    \n",
    "    # Update input activity. Note also that you can use '*' wildcard in exchange name\n",
    "    \"electricity*\": elec_mix,\n",
    "    \n",
    "    # Update both input activity and amount. \n",
    "    # Note that you can use '#' for specifying the location of exchange (useful for duplicate exchange names)\n",
    "    \"chromium#GLO\" : dict(amount=4.0, input=chromium)\n",
    "}) \n",
    "\n",
    "# Add exchanges \n",
    "alu2.addExchanges({alu_scrap :  12})"
   ],
   "id": "f76a5813c4566d59",
   "outputs": [],
   "execution_count": null
  },
  {
   "metadata": {},
   "cell_type": "markdown",
   "source": "## Final inventory",
   "id": "6303bdb2377db63b"
  },
  {
   "metadata": {},
   "cell_type": "code",
   "source": [
    "# we define our final model \n",
    "total_inventory = agb.newActivity(USER_DB, \"total_inventory\", \"kg\", {\n",
    "    activity1 : b * 5 + a + 1, # Reference the activity we just created\n",
    "    alu2: 3 * share_recycled_aluminium, \n",
    "    alu:0.4 * a})"
   ],
   "id": "3e3c12ea06a1e84c",
   "outputs": [],
   "execution_count": null
  },
  {
   "metadata": {},
   "cell_type": "code",
   "source": [
    "#Alternatively, you may not define the model again, but load it from the USER DB.\n",
    "activity1 = agb.findActivity(\"first foreground activity\", db_name=USER_DB)\n",
    "total_inventory = agb.findActivity(\"total_inventory\", db_name=USER_DB)\n",
    "alu2 = agb.findActivity(\"Aluminium 2\", db_name=USER_DB)"
   ],
   "id": "5692c4f6be327f3b",
   "outputs": [],
   "execution_count": null
  },
  {
   "metadata": {},
   "cell_type": "code",
   "source": "agb.printAct(activity1) ",
   "id": "6cbc49989969cc67",
   "outputs": [],
   "execution_count": null
  },
  {
   "metadata": {},
   "cell_type": "code",
   "source": "agb.printAct(total_inventory)\n",
   "id": "aafd725734eb2419",
   "outputs": [],
   "execution_count": null
  },
  {
   "metadata": {},
   "cell_type": "code",
   "source": [
    "# You can also compute amounts by replacing parameters with a float value \n",
    "agb.printAct(activity1, b=1.5)"
   ],
   "id": "9d2f213633a490e6",
   "outputs": [],
   "execution_count": null
  },
  {
   "metadata": {},
   "cell_type": "code",
   "source": [
    "# You can print several activities at once to compare them\n",
    "agb.printAct(alu, alu2)"
   ],
   "id": "2bc9c9b019e847df",
   "outputs": [],
   "execution_count": null
  },
  {
   "metadata": {},
   "cell_type": "markdown",
   "source": "# Impact calculation",
   "id": "218e9f2fcd935c3b"
  },
  {
   "metadata": {},
   "cell_type": "code",
   "source": [
    "# List of impacts to consider\n",
    "impacts = agb.findMethods(\"climate change\", mainCat=\"EF v3.0\")\n",
    "impacts"
   ],
   "id": "73dd29125d2192a",
   "outputs": [],
   "execution_count": null
  },
  {
   "metadata": {},
   "cell_type": "code",
   "source": [
    "# Definition of FU, which can be parametrized\n",
    "functional_value = a + 5"
   ],
   "id": "ef21324923d3fbe1",
   "outputs": [],
   "execution_count": null
  },
  {
   "metadata": {},
   "cell_type": "code",
   "source": "agb.list_databases()\n",
   "id": "9c920a31bffdfdb5",
   "outputs": [],
   "execution_count": null
  },
  {
   "metadata": {},
   "cell_type": "markdown",
   "source": "## Simple first",
   "id": "a1724556beebc2e0"
  },
  {
   "metadata": {},
   "cell_type": "code",
   "source": [
    "agb.compute_impacts(\n",
    "    \n",
    "    # Root activity of our inventory\n",
    "    total_inventory, \n",
    "    \n",
    "    # list of impacts to consider\n",
    "    impacts, \n",
    "    \n",
    "    # The impacts will be divided by the functional unit\n",
    "    functional_unit=functional_value,\n",
    "    \n",
    "    # Parameters of the model\n",
    "    a=1.0,\n",
    "    elec_switch_param=\"us\",\n",
    "    share_recycled_aluminium=0.4)"
   ],
   "id": "cf09e428fc5dd6ea",
   "outputs": [],
   "execution_count": null
  },
  {
   "metadata": {},
   "cell_type": "code",
   "source": [
    "# You can compute several LCAs at a time and compare them:\n",
    "agb.compute_impacts(\n",
    "    [alu, alu2], # The models\n",
    "    \n",
    "    impacts, # Impacts\n",
    "    \n",
    "    # Parameters of the model\n",
    "    share_recycled_aluminium=0.3,\n",
    "    elec_switch_param=\"us\")"
   ],
   "id": "4e560cf0e6f88b0b",
   "outputs": [],
   "execution_count": null
  },
  {
   "metadata": {},
   "cell_type": "markdown",
   "source": "## Fast computation for millions of separate samples",
   "id": "1f118a8f9d6e6067"
  },
  {
   "metadata": {},
   "cell_type": "code",
   "source": [
    "# Fast computation for millions of separate samples\n",
    "agb.compute_impacts(\n",
    "    total_inventory, # The model \n",
    "    impacts, # Impacts\n",
    "    functional_unit = functional_value,\n",
    "    \n",
    "    # Parameters of the model\n",
    "    a=list(range(1, 100000)), # All lists should have the same size\n",
    "    share_recycled_aluminium=1, # Those parameters are fixed\n",
    "    elec_switch_param=\"eu\")"
   ],
   "id": "e6debbce750f1b93",
   "outputs": [],
   "execution_count": null
  },
  {
   "metadata": {},
   "cell_type": "markdown",
   "source": "## Split impacts",
   "id": "babe3fcccc762529"
  },
  {
   "metadata": {},
   "cell_type": "markdown",
   "source": [
    "It is possible to **tag** activities and then ventilate the impacts according to the value of this \"tag\".\n",
    "This is useful to split impact by *phase* or *sub module*."
   ],
   "id": "7f97512b6815ce06"
  },
  {
   "metadata": {},
   "cell_type": "code",
   "source": [
    "# Tag activities with a custom attribute : 'phase' in this case\n",
    "alu2.updateMeta(phase= \"phase a\")\n",
    "activity1.updateMeta(phase= \"phase b\")"
   ],
   "id": "6564d5455a805494",
   "outputs": [],
   "execution_count": null
  },
  {
   "metadata": {},
   "cell_type": "code",
   "source": [
    "# Provide the name of the custom attribute as 'axis', the impacts are split between those\n",
    "agb.compute_impacts(\n",
    "    total_inventory, # The model\n",
    "    impacts, # Impacts\n",
    "    \n",
    "    functional_unit = functional_value,\n",
    "    axis=\"phase\",\n",
    "\n",
    "    \n",
    "    # Parameters\n",
    "    a=1.0,\n",
    "    elec_switch_param=\"us\",\n",
    "    share_recycled_aluminium=0.4)"
   ],
   "id": "1c241bf1928e4295",
   "outputs": [],
   "execution_count": null
  },
  {
   "metadata": {},
   "cell_type": "markdown",
   "source": [
    "# Sensitivity analysis\n",
    "\n"
   ],
   "id": "4494fad9790167f3"
  },
  {
   "metadata": {},
   "cell_type": "markdown",
   "source": "## OAT",
   "id": "3f778c82a0dd4622"
  },
  {
   "metadata": {},
   "cell_type": "markdown",
   "source": " Shows a **matrix of impacts x parameters** colored according to the variation of the impact in the bounds of the parameter.",
   "id": "b3dd5462d6c0e961"
  },
  {
   "metadata": {},
   "cell_type": "code",
   "source": [
    "agb.oat_matrix(\n",
    "    total_inventory, \n",
    "    impacts, \n",
    "    functional_unit=functional_value)"
   ],
   "id": "36de546e3dac1bca",
   "outputs": [],
   "execution_count": null
  },
  {
   "metadata": {},
   "cell_type": "markdown",
   "source": [
    "This functions draws a dashboard showing :\n",
    "* A dropdown list, for choosing a parameter\n",
    "* Several graphs of evolution of impacts for this parameter\n",
    "* Full table of data\n",
    "* A graph of \"bars\" representing the variation of each impact for this parameter (similar to the information given in oat_matrix) "
   ],
   "id": "b6639b2dd0d3fe0f"
  },
  {
   "metadata": {},
   "cell_type": "code",
   "source": [
    "agb.oat_dashboard(\n",
    "    total_inventory, \n",
    "    impacts, \n",
    "    functional_unit=functional_value,\n",
    "    \n",
    "    # Optionnal layout parameters\n",
    "    figspace=(0.5,0.5),\n",
    "    figsize=(15, 15),\n",
    "    sharex=True)"
   ],
   "id": "650a5b39323f0a4f",
   "outputs": [],
   "execution_count": null
  },
  {
   "metadata": {},
   "cell_type": "markdown",
   "source": "This method shows some limitations though: it does not provide a quantified assessment of the variance of the impacts, and it may hide the importance of some parameters, only revealed when combined with different setups of the other parameters.",
   "id": "b34f59f294572817"
  },
  {
   "metadata": {},
   "cell_type": "markdown",
   "source": "## GSA with Monte-Carlo methods and Sobol indices",
   "id": "ff8f533fb966d070"
  },
  {
   "metadata": {},
   "cell_type": "markdown",
   "source": [
    "Similar to OAT matrix, we compute Sobol indices. they represent the ratio between the variance due to a given parameter and the total variance.\n",
    "\n",
    "for easier comparison, we translate those relative sobol indices into \"deviation / mean\" importance :\n",
    "\n",
    "$$RelativeDeviation = \\frac{\\sqrt{sobol(param) \\times totalVariance(impact))}}{mean(impact)}$$\n"
   ],
   "id": "d761e2a703a2b276"
  },
  {
   "metadata": {},
   "cell_type": "code",
   "source": [
    "# Show sobol indices \n",
    "agb.incer_stochastic_matrix(\n",
    "    total_inventory, \n",
    "    impacts, \n",
    "    functional_unit=functional_value)"
   ],
   "id": "8ad8bae7df41c933",
   "outputs": [],
   "execution_count": null
  },
  {
   "metadata": {},
   "cell_type": "markdown",
   "source": "We provide a dashboard showing **violin graphs** : the exact probabilistic distribution for each impact. Together with medians of the impacts.",
   "id": "12c28f83af895d4f"
  },
  {
   "metadata": {},
   "cell_type": "markdown",
   "source": "We provide a dashboard showing **violin graphs** : the exact probabilistic distribution for each impact. Together with medians of the impacts.",
   "id": "a689b7b486312abe"
  },
  {
   "metadata": {},
   "cell_type": "code",
   "source": [
    "agb.incer_stochastic_violin(\n",
    "    total_inventory, impacts,\n",
    "    functional_unit=functional_value,\n",
    "    \n",
    "    # Optionnal layout parameters\n",
    "    figspace=(0.5,0.5),\n",
    "    figsize=(15, 15),\n",
    "    sharex=True, \n",
    "    nb_cols=3)"
   ],
   "id": "22e5233987ce7612",
   "outputs": [],
   "execution_count": null
  },
  {
   "metadata": {},
   "cell_type": "code",
   "source": [
    "# Alternatively, graphs can be shown horizontally, together with a box of statistical outcomes\n",
    "agb.distrib(\n",
    "    total_inventory, impacts,\n",
    "    functional_unit=functional_value,\n",
    "    \n",
    "    # Optionnal layout parameters\n",
    "    height=7, width=15,\n",
    "    nb_cols=2,\n",
    "    percentiles=[5, 95])"
   ],
   "id": "19ba6c92aaeacef6",
   "outputs": [],
   "execution_count": null
  },
  {
   "metadata": {},
   "cell_type": "code",
   "source": [
    "# Full dashboard, including total variation of impacts \n",
    "agb.incer_stochastic_dashboard(\n",
    "    model=total_inventory, \n",
    "    methods=impacts,\n",
    "    functional_unit=functional_value)"
   ],
   "id": "44552fd3e7b06b2a",
   "outputs": [],
   "execution_count": null
  },
  {
   "metadata": {},
   "cell_type": "markdown",
   "source": "# Simplified model\n",
   "id": "70ec14e13fa1ecfd"
  },
  {
   "metadata": {},
   "cell_type": "code",
   "source": [
    "# First, let's look at the full expression defining our model\n",
    "expr, _ = agb.actToExpression(total_inventory)\n",
    "expr"
   ],
   "id": "46518722fb5c7b73",
   "outputs": [],
   "execution_count": null
  },
  {
   "metadata": {},
   "cell_type": "markdown",
   "source": [
    "We provide some method to automatically select a subset of parameters, based on the **sobol indices**, and then compute simplified models for it.\n",
    "\n",
    "We also round numerical expression to 3 digits, and we remove terms in sums that are less than 1% of total."
   ],
   "id": "2cf9fee39e765bae"
  },
  {
   "metadata": {},
   "cell_type": "code",
   "source": [
    "simplified = agb.sobol_simplify_model(\n",
    "    total_inventory, # The model\n",
    "    impacts, # Impacts to consider\n",
    "    functional_unit=functional_value,\n",
    "    \n",
    "    n=10000, # For large model, you may test other value and ensure ST and sum(S1) are close to 1.0 \n",
    "    fixed_mode = agb.FixedParamMode.MEDIAN, # We replace minor parameters by median by default,\n",
    "    min_ratio=0.8, # Min ratio of variability to explain\n",
    "    num_digits=3)"
   ],
   "id": "26e8ca1861c1c46b",
   "outputs": [],
   "execution_count": null
  },
  {
   "metadata": {},
   "cell_type": "code",
   "source": [
    "# Let's look at the expression for first impact again \n",
    "# much simpler ! \n",
    "simplified[0].expr"
   ],
   "id": "d9460a62d7462d42",
   "outputs": [],
   "execution_count": null
  },
  {
   "metadata": {},
   "cell_type": "markdown",
   "source": "Finally, we can compare the distribution of those simplified model against the full model. We provide a function for graphical display of it, and compuation of de R-Square score.\n",
   "id": "fe72a1dd466f602b"
  },
  {
   "metadata": {},
   "cell_type": "code",
   "source": [
    "agb.compare_simplified(\n",
    "    total_inventory, \n",
    "    impacts, \n",
    "    simplified,\n",
    "    functional_unit=functional_value)"
   ],
   "id": "efbec970f3a6169c",
   "outputs": [],
   "execution_count": null
  },
  {
   "metadata": {},
   "cell_type": "code",
   "source": "",
   "id": "10ee6eff77845a53",
   "outputs": [],
   "execution_count": null
  },
  {
   "metadata": {},
   "cell_type": "code",
   "source": "",
   "id": "e5d5c30def4fb085",
   "outputs": [],
   "execution_count": null
  },
  {
   "metadata": {},
   "cell_type": "markdown",
   "source": "### Mining techniques",
   "id": "c59bc54f8eba3ad8"
  },
  {
   "metadata": {},
   "cell_type": "code",
   "source": [
    "mining_shares = {'open_pit':.161/.935,\n",
    "                'underground':.200/.935,\n",
    "                'ISL':0.574/.935}"
   ],
   "id": "4abcf775ec591482",
   "outputs": [],
   "execution_count": null
  },
  {
   "metadata": {},
   "cell_type": "markdown",
   "source": "### Mining energy mix",
   "id": "73cec7293dc9488e"
  },
  {
   "metadata": {},
   "cell_type": "code",
   "source": [
    "mining_energy_shares = {'diesel':0.3,\n",
    "                        'electricity':0.7}"
   ],
   "id": "956e1d0448a7a635",
   "outputs": [],
   "execution_count": null
  },
  {
   "metadata": {},
   "cell_type": "code",
   "source": [
    "# Total energy for extraction : where does that come from ???\n",
    "\n",
    "a_op = 274\n",
    "b_op = -0.482\n",
    "\n",
    "a_ug = 317\n",
    "b_ug = -0.176\n",
    "\n",
    "a_is = 220\n",
    "b_is = -0.0485\n",
    "\n",
    "extraction_energy_open_pit = a_op * exp(b_op * ore_grade) / recovery_rate\n",
    "extraction_energy_underground = a_ug * exp(b_ug * ore_grade) / recovery_rate\n",
    "extraction_energy_ISL = a_is * exp(b_is * ore_grade) / recovery_rate"
   ],
   "id": "69ae61103c372219",
   "outputs": [],
   "execution_count": null
  },
  {
   "metadata": {},
   "cell_type": "code",
   "source": [
    "mining_electricity_switch = newEnumParam(\n",
    "    'mining_electricity_switch', \n",
    "    label='Mining electricity, grid or diesel',\n",
    "    values=['dieselgenerator',\n",
    "            'grid'], # You can provide a statistical weight for each value, by using a dict\n",
    "    default='dieselgenerator', \n",
    "    description=\"Choice of electricity source for mining\",\n",
    "    dbname=USER_DB)"
   ],
   "id": "7c04b8e77bc5ea7b",
   "outputs": [],
   "execution_count": null
  },
  {
   "metadata": {},
   "cell_type": "markdown",
   "source": "### Emissions",
   "id": "10dd66cb6c4ba1b2"
  },
  {
   "metadata": {},
   "cell_type": "code",
   "source": [
    "# Emissions of radon-222 from tailings\n",
    "tailings_Rn222 = newFloatParam(\n",
    "    'tailings_Rn222', \n",
    "    default=0.01951, min=0.01, max=1,\n",
    "    distrib=DistributionType.TRIANGLE, # Distribution type, linear by default\n",
    "    description=\"Rn222 from tailings, in Bq/s\",\n",
    "    label=\"Rn222 from tailings, in Bq/s\",\n",
    "    unit='Bq/s',\n",
    "    dbname=USER_DB)"
   ],
   "id": "c6eff713e09136ef",
   "outputs": [],
   "execution_count": null
  },
  {
   "metadata": {},
   "cell_type": "code",
   "source": "",
   "id": "166df7ba71fe579e",
   "outputs": [],
   "execution_count": null
  },
  {
   "metadata": {},
   "cell_type": "code",
   "source": "",
   "id": "2528debf435e4b03",
   "outputs": [],
   "execution_count": null
  },
  {
   "metadata": {},
   "cell_type": "markdown",
   "source": "## Concentration phase ",
   "id": "eb6de3ac8cad23c8"
  },
  {
   "metadata": {},
   "cell_type": "markdown",
   "source": [
    "The following parameters are included:\n",
    "\n",
    "- xxx\n"
   ],
   "id": "1e39968a31c4931d"
  },
  {
   "metadata": {},
   "cell_type": "code",
   "source": [
    "# Conversion phase, heat consumption\n",
    "conversion_heat = newFloatParam(\n",
    "    'conversion_heat', \n",
    "    default=26, min=26, max=665,\n",
    "    distrib=DistributionType.TRIANGLE,\n",
    "    label='Conversion heat input',\n",
    "    unit='kWh/kg U in UF6',\n",
    "    description=\"Heat required to convert 1 kg of UF6\",\n",
    "    dbname=USER_DB)"
   ],
   "id": "86681730cfabd0bc",
   "outputs": [],
   "execution_count": null
  },
  {
   "metadata": {},
   "cell_type": "markdown",
   "source": "## Refining stage ",
   "id": "c5405eced32a31df"
  },
  {
   "metadata": {},
   "cell_type": "markdown",
   "source": "### List of all parameters ",
   "id": "ca35e5532d521216"
  },
  {
   "metadata": {},
   "cell_type": "code",
   "source": "list_parameters() # recap of all parameters declared in the model ",
   "id": "f2d9b5e49fbb293d",
   "outputs": [],
   "execution_count": null
  },
  {
   "metadata": {},
   "cell_type": "code",
   "source": [
    "# And because a figure is worth 1000 words\n",
    "utils._plot_params([p for p in params._param_registry().all() if p.distrib in ['linear', 'triangle', 'lognormal']], columns=5, size=2000, figsize=(16,9))\n",
    "plt.savefig('output/parameters.svg')"
   ],
   "id": "92601dfe84662349",
   "outputs": [],
   "execution_count": null
  },
  {
   "metadata": {},
   "cell_type": "code",
   "source": "",
   "id": "f5835014d99ea32d",
   "outputs": [],
   "execution_count": null
  },
  {
   "metadata": {},
   "cell_type": "code",
   "source": "",
   "id": "7532d822d846316a",
   "outputs": [],
   "execution_count": null
  },
  {
   "metadata": {},
   "cell_type": "markdown",
   "source": "# Transforming and updating parametrized inventories",
   "id": "336133cbdc012a96"
  },
  {
   "metadata": {},
   "cell_type": "code",
   "source": [
    "# Mining and milling\n",
    "tailings         = findActivity('Tailing, from uranium milling, WNA', loc='EUR', db_name='UNEP_IRP_EUR')\n",
    "open_pit         = findActivity('Uranium mine operation, open cast, WNA', loc='GLO', db_name='UNEP_IRP_EUR')\n",
    "underground      = findActivity('Uranium mine operation, underground, WNA', loc='GLO', db_name='UNEP_IRP_EUR')\n",
    "ISL              = findActivity('Uranium mine operation, in-situ leaching, WNA', loc='GLO', db_name='UNEP_IRP_EUR')"
   ],
   "id": "b10df82c9df9d2a8",
   "outputs": [],
   "execution_count": null
  },
  {
   "metadata": {},
   "cell_type": "code",
   "source": [
    "# Copy to preserve the non-parametrized inventories \n",
    "open_pit_p = copyActivity(\n",
    "    USER_DB,\n",
    "    open_pit,\n",
    "    'Uranium mine operation, open cast, parameterized')"
   ],
   "id": "17dd71fbd6ecd39",
   "outputs": [],
   "execution_count": null
  },
  {
   "metadata": {},
   "cell_type": "code",
   "source": [
    "# We replace fixed values by parameters in the LCI \n",
    "# Mining techniques, 3 activities\n",
    "open_pit_p.updateExchanges({\n",
    "    # This is electricity\n",
    "    'market for diesel, burned in diesel-electric generating set, 10MW*': dict(amount=mining_energy_shares['electricity'] * extraction_energy_open_pit,\n",
    "                                                                              input=mining_elec_mix),\n",
    "    # This is diesel used as fuel\n",
    "    'market for diesel, burned in building machine*': mining_energy_shares['diesel'] * extraction_energy_open_pit\n",
    "}\n",
    ")"
   ],
   "id": "55ba1f46b2733f40",
   "outputs": [],
   "execution_count": null
  },
  {
   "metadata": {},
   "cell_type": "code",
   "source": "# Update inventories ",
   "id": "5b0257521f00f73a",
   "outputs": [],
   "execution_count": null
  },
  {
   "metadata": {},
   "cell_type": "code",
   "source": "",
   "id": "b40c0e70b181c818",
   "outputs": [],
   "execution_count": null
  },
  {
   "metadata": {},
   "cell_type": "code",
   "source": "",
   "id": "515b57f2375aeb4b",
   "outputs": [],
   "execution_count": null
  },
  {
   "metadata": {},
   "cell_type": "code",
   "source": "",
   "id": "949d4ccf2fc52a5b",
   "outputs": [],
   "execution_count": null
  },
  {
   "metadata": {},
   "cell_type": "code",
   "source": "",
   "id": "8fcd21a6b6d15b06",
   "outputs": [],
   "execution_count": null
  }
 ],
 "metadata": {
  "kernelspec": {
   "display_name": "Python 3",
   "language": "python",
   "name": "python3"
  },
  "language_info": {
   "codemirror_mode": {
    "name": "ipython",
    "version": 2
   },
   "file_extension": ".py",
   "mimetype": "text/x-python",
   "name": "python",
   "nbconvert_exporter": "python",
   "pygments_lexer": "ipython2",
   "version": "2.7.6"
  }
 },
 "nbformat": 4,
 "nbformat_minor": 5
}
