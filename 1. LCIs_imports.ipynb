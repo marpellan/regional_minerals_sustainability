{
 "cells": [
  {
   "cell_type": "code",
   "id": "a66d0b29-bf63-40cc-b06b-37ccd2ffea0a",
   "metadata": {
    "ExecuteTime": {
     "end_time": "2024-10-29T14:35:30.922276Z",
     "start_time": "2024-10-29T14:35:30.906661Z"
    }
   },
   "source": [
    "# Let's get comfortable first\n",
    "from IPython.display import display, HTML\n",
    "display(HTML(\"<style>.container { width:80% !important; }</style>\"))"
   ],
   "outputs": [
    {
     "data": {
      "text/plain": [
       "<IPython.core.display.HTML object>"
      ],
      "text/html": [
       "<style>.container { width:80% !important; }</style>"
      ]
     },
     "metadata": {},
     "output_type": "display_data"
    }
   ],
   "execution_count": 1
  },
  {
   "cell_type": "code",
   "id": "4ad8050c-5b7a-4aa6-bd09-8640f90a5da7",
   "metadata": {
    "ExecuteTime": {
     "end_time": "2024-10-29T14:35:36.659992Z",
     "start_time": "2024-10-29T14:35:31.204204Z"
    }
   },
   "source": [
    "# Brightway imports\n",
    "import bw2analyzer as ba\n",
    "import bw2calc as bc\n",
    "import bw2data as bd\n",
    "import bw2io as bi"
   ],
   "outputs": [],
   "execution_count": 2
  },
  {
   "cell_type": "code",
   "id": "6fcfefbe-8716-45c3-ad36-1684e33c18a3",
   "metadata": {
    "ExecuteTime": {
     "end_time": "2024-10-29T14:35:36.675932Z",
     "start_time": "2024-10-29T14:35:36.659992Z"
    }
   },
   "source": [
    "import pandas as pd\n",
    "import openpyxl"
   ],
   "outputs": [],
   "execution_count": 3
  },
  {
   "cell_type": "code",
   "id": "d566cfbf-e0c4-46e9-9f96-f214b1258db6",
   "metadata": {
    "ExecuteTime": {
     "end_time": "2024-10-29T14:35:36.707610Z",
     "start_time": "2024-10-29T14:35:36.691683Z"
    }
   },
   "source": [
    "from pathlib import Path\n",
    "import os "
   ],
   "outputs": [],
   "execution_count": 4
  },
  {
   "metadata": {},
   "cell_type": "code",
   "outputs": [],
   "execution_count": null,
   "source": "",
   "id": "166786eedccebe1c"
  },
  {
   "cell_type": "code",
   "id": "5c84891c-d54c-43a3-972c-17ae29e74219",
   "metadata": {
    "ExecuteTime": {
     "end_time": "2024-10-29T14:35:36.739240Z",
     "start_time": "2024-10-29T14:35:36.723244Z"
    }
   },
   "source": [
    "# Define paths as constants\n",
    "BASE_DIR = Path(\"C:/Users/mp_ma/OneDrive - polymtlus/Desktop/POST_DOC\")\n",
    "LCI_DIR = Path(\"C:/Users/mp_ma/OneDrive - polymtlus/Desktop/POST_DOC/Data/LCI\")\n",
    "EI_DIR = Path(\"C:/Users/mp_ma/AppData/Local/pylca/EcoinventInterface/cache/ecoinvent 3.10_cutoff_ecoSpold02/datasets\")"
   ],
   "outputs": [],
   "execution_count": 5
  },
  {
   "cell_type": "markdown",
   "id": "2979b225-f4a9-4cb7-9eae-9829d0942337",
   "metadata": {},
   "source": [
    "# Setting project and databases"
   ]
  },
  {
   "cell_type": "code",
   "id": "1a336156-49d5-4aaa-9057-a2910d8272de",
   "metadata": {
    "ExecuteTime": {
     "end_time": "2024-10-29T14:35:36.786881Z",
     "start_time": "2024-10-29T14:35:36.770876Z"
    }
   },
   "source": [
    "ei_name = \"ecoinvent-3.10-cutoff\""
   ],
   "outputs": [],
   "execution_count": 6
  },
  {
   "cell_type": "code",
   "id": "91b7cf58-cc77-4cdc-82d1-119fa5d36359",
   "metadata": {
    "ExecuteTime": {
     "end_time": "2024-10-29T14:38:37.714105Z",
     "start_time": "2024-10-29T14:38:37.682481Z"
    }
   },
   "source": [
    "bd.projects\n",
    "#sorted(bd.projects)"
   ],
   "outputs": [
    {
     "data": {
      "text/plain": [
       "Brightway2 projects manager with 4 objects:\n",
       "\tdefault\n",
       "\tlib_rm\n",
       "\tpremise-elec\n",
       "\tregioinvent\n",
       "Use `projects.report()` to get a report on all projects."
      ]
     },
     "execution_count": 8,
     "metadata": {},
     "output_type": "execute_result"
    }
   ],
   "execution_count": 8
  },
  {
   "cell_type": "code",
   "execution_count": 8,
   "id": "48d2d883-82ad-422c-8d63-71f0e1d335bb",
   "metadata": {},
   "outputs": [],
   "source": [
    "bd.projects.set_current(\"premise-elec\")\n",
    "#bd.projects.delete_project(name='excel importer', delete_dir=True)\n",
    "#bd.projects.rename(\"<new_project_name>\")"
   ]
  },
  {
   "cell_type": "code",
   "execution_count": 9,
   "id": "bd3f0014-ec80-4acf-bcd5-79002b6c0f97",
   "metadata": {},
   "outputs": [
    {
     "data": {
      "text/plain": [
       "Databases dictionary with 5 object(s):\n",
       "\tbiosphere3\n",
       "\tcobalt\n",
       "\tecoinvent-3.10-cutoff\n",
       "\tgraphite\n",
       "\tlithium"
      ]
     },
     "execution_count": 9,
     "metadata": {},
     "output_type": "execute_result"
    }
   ],
   "source": [
    "bd.databases"
   ]
  },
  {
   "cell_type": "code",
   "execution_count": 10,
   "id": "d8f7afba-6bb3-4f1a-a8e4-4b0141193e8c",
   "metadata": {},
   "outputs": [
    {
     "name": "stdout",
     "output_type": "stream",
     "text": [
      "Biosphere database already present!!! No setup is needed\n"
     ]
    }
   ],
   "source": [
    "bi.bw2setup()"
   ]
  },
  {
   "cell_type": "code",
   "execution_count": 12,
   "id": "f8ffdcae-60bf-4cec-a598-210c5d463418",
   "metadata": {},
   "outputs": [
    {
     "name": "stdout",
     "output_type": "stream",
     "text": [
      "Database has already been imported.\n"
     ]
    }
   ],
   "source": [
    "# When we execute this cell, we will check if it's already been imported, and if not (else) we import it.\n",
    "\n",
    "if ei_name in bd.databases:\n",
    "    print(\"Database has already been imported.\")\n",
    "else:\n",
    "# Go ahead and import:\n",
    "    ei_importer = bi.SingleOutputEcospold2Importer(ei_path, ei_name)\n",
    "    # Apply stragegies \n",
    "    ei_importer.apply_strategies()\n",
    "    # We can get some statistics\n",
    "    ei_importer.statistics()\n",
    "    # Now we will write the database into our project. \n",
    "    ei_importer.write_database()"
   ]
  },
  {
   "metadata": {},
   "cell_type": "markdown",
   "source": "# Existing LCI from EI",
   "id": "b77fab9ce5067d2e"
  },
  {
   "metadata": {},
   "cell_type": "code",
   "outputs": [],
   "execution_count": null,
   "source": "",
   "id": "3182816ef35e83a5"
  },
  {
   "metadata": {},
   "cell_type": "code",
   "outputs": [],
   "execution_count": null,
   "source": "",
   "id": "487b6c30de7b5421"
  },
  {
   "metadata": {},
   "cell_type": "code",
   "outputs": [],
   "execution_count": null,
   "source": "",
   "id": "1f8b07d036b10d64"
  },
  {
   "cell_type": "markdown",
   "id": "88b62f49-5d19-44ef-aa90-0d6dfe590515",
   "metadata": {},
   "source": [
    "# Importing LCI from Excel file"
   ]
  },
  {
   "cell_type": "markdown",
   "id": "02542fdd-5cfb-4db0-83a5-196e912e3678",
   "metadata": {},
   "source": [
    "## Lithium"
   ]
  },
  {
   "cell_type": "code",
   "execution_count": 13,
   "id": "5820582c-79bc-411c-8eda-8666bba0ba77",
   "metadata": {},
   "outputs": [
    {
     "name": "stdout",
     "output_type": "stream",
     "text": [
      "Extracted 7 worksheets in 0.08 seconds\n",
      "Applying strategy: csv_restore_tuples\n",
      "Applying strategy: csv_restore_booleans\n",
      "Applying strategy: csv_numerize\n",
      "Applying strategy: csv_drop_unknown\n",
      "Applying strategy: csv_add_missing_exchanges_section\n",
      "Applying strategy: normalize_units\n",
      "Applying strategy: normalize_biosphere_categories\n",
      "Applying strategy: normalize_biosphere_names\n",
      "Applying strategy: strip_biosphere_exc_locations\n",
      "Applying strategy: set_code_by_activity_hash\n",
      "Applying strategy: link_iterable_by_fields\n",
      "Applying strategy: assign_only_product_as_production\n",
      "Applying strategy: link_technosphere_by_activity_hash\n",
      "Applying strategy: drop_falsey_uncertainty_fields_but_keep_zeros\n",
      "Applying strategy: convert_uncertainty_types_to_integers\n",
      "Applying strategy: convert_activity_parameters_to_list\n",
      "Applied 16 strategies in 7.49 seconds\n"
     ]
    }
   ],
   "source": [
    "# LCI from Schenker et al (2022) \n",
    "lithium = LCI_DIR / 'from_premise' / 'lci-lithium.xlsx'\n",
    "lithium = bi.ExcelImporter(lithium)\n",
    "# Apply the necessary strategies\n",
    "lithium.apply_strategies()"
   ]
  },
  {
   "cell_type": "code",
   "execution_count": 14,
   "id": "0289c06b-b25a-4f94-a744-be56945ebd26",
   "metadata": {},
   "outputs": [
    {
     "name": "stdout",
     "output_type": "stream",
     "text": [
      "40 datasets\n",
      "263 exchanges\n",
      "126 unlinked exchanges\n",
      "  Type biosphere: 4 unique unlinked exchanges\n",
      "  Type technosphere: 20 unique unlinked exchanges\n"
     ]
    },
    {
     "data": {
      "text/plain": [
       "(40, 263, 126)"
      ]
     },
     "execution_count": 14,
     "metadata": {},
     "output_type": "execute_result"
    }
   ],
   "source": [
    "# we match based on the name, reference product and location\n",
    "lithium.statistics()"
   ]
  },
  {
   "cell_type": "code",
   "execution_count": 15,
   "id": "1be5cd08-f3cc-4635-850e-a13e4fb380ac",
   "metadata": {},
   "outputs": [
    {
     "name": "stdout",
     "output_type": "stream",
     "text": [
      "market for transport, freight, sea, bulk carrier for dry goods GLO None\n",
      "market for electricity, high voltage CL None\n",
      "market for kerosene RoW None\n",
      "Lithium, in ground None ('natural resource', 'in ground')\n",
      "machine operation, diesel, >= 74.57 kW, high load factor GLO None\n",
      "transport, freight, lorry >32 metric ton, EURO3 RoW None\n",
      "heat production, natural gas, at industrial furnace >100kW RoW None\n",
      "market for hydrochloric acid, without water, in 30% solution state RoW None\n",
      "market for neutralising agent, sodium hydroxide-equivalent GLO None\n",
      "market for soda ash, light, crystalline, heptahydrate GLO None\n",
      "market for quicklime, milled, packed RoW None\n",
      "market for electricity, high voltage AR None\n",
      "heat and power co-generation, natural gas, 1MW electrical, lean burn RoW None\n",
      "heat and power co-generation, natural gas, 1MW electrical, lean burn RoW None\n",
      "market for sodium hydroxide, without water, in 50% solution state GLO None\n",
      "Sodium None ('water',)\n",
      "market for calcium chloride RoW None\n",
      "electricity, high voltage, production mix CN-QH None\n",
      "market for ammonium chloride GLO None\n",
      "market for calcium carbonate, precipitated RoW None\n",
      "market group for electricity, medium voltage GLO None\n",
      "market for diesel, burned in diesel-electric generating set, 18.5kW GLO None\n",
      "Particulates, > 2.5 um, and < 10um None ('air',)\n",
      "Particulates, < 2.5 um None ('air',)\n"
     ]
    }
   ],
   "source": [
    "# We have some unlinked exchanges, let's see which ones\n",
    "for u in list(lithium.unlinked):\n",
    "    print(u[\"name\"], u.get(\"location\"), u.get(\"categories\"))"
   ]
  },
  {
   "cell_type": "code",
   "execution_count": 16,
   "id": "65976f43-b44e-4637-8bcc-a6b7dd79049f",
   "metadata": {},
   "outputs": [
    {
     "name": "stdout",
     "output_type": "stream",
     "text": [
      "Applying strategy: link_iterable_by_fields\n",
      "Applying strategy: link_iterable_by_fields\n",
      "40 datasets\n",
      "263 exchanges\n",
      "33 unlinked exchanges\n",
      "  Type biosphere: 4 unique unlinked exchanges\n",
      "  Type technosphere: 4 unique unlinked exchanges\n"
     ]
    },
    {
     "data": {
      "text/plain": [
       "(40, 263, 33)"
      ]
     },
     "execution_count": 16,
     "metadata": {},
     "output_type": "execute_result"
    }
   ],
   "source": [
    "# Let's try to link them with EI and biosphere\n",
    "lithium.match_database(\"ecoinvent-3.10-cutoff\", fields=('name', 'reference product', 'unit', 'location'))\n",
    "lithium.match_database(\"biosphere3\", fields=('name', 'unit', 'categories'))\n",
    "lithium.statistics()"
   ]
  },
  {
   "cell_type": "code",
   "execution_count": 17,
   "id": "49e4cded-c8b7-489b-b34a-6ced58bef3eb",
   "metadata": {},
   "outputs": [
    {
     "data": {
      "text/plain": [
       "[{'name': 'market for neutralising agent, sodium hydroxide-equivalent',\n",
       "  'reference product': 'neutralising agent, sodium hydroxide-equivalent',\n",
       "  'location': 'GLO',\n",
       "  'amount': 0.0148,\n",
       "  'unit': 'kilogram',\n",
       "  'database': 'ecoinvent 3.8 cutoff',\n",
       "  'type': 'technosphere',\n",
       "  'uncertainty type': 5,\n",
       "  'loc': 0.0148,\n",
       "  'minimum': 0.0074,\n",
       "  'maximum': 0.0222},\n",
       " {'name': 'market for soda ash, light, crystalline, heptahydrate',\n",
       "  'reference product': 'soda ash, light, crystalline, heptahydrate',\n",
       "  'location': 'GLO',\n",
       "  'amount': 0.01319382605060973,\n",
       "  'unit': 'kilogram',\n",
       "  'database': 'ecoinvent 3.8 cutoff',\n",
       "  'type': 'technosphere',\n",
       "  'uncertainty type': 5,\n",
       "  'loc': 0.01319382605060973,\n",
       "  'minimum': 0.011874443445548758,\n",
       "  'maximum': 0.014513208655670705},\n",
       " {'name': 'market for sodium hydroxide, without water, in 50% solution state',\n",
       "  'reference product': 'sodium hydroxide, without water, in 50% solution state',\n",
       "  'location': 'GLO',\n",
       "  'amount': 0.0008726557490875913,\n",
       "  'unit': 'kilogram',\n",
       "  'database': 'ecoinvent 3.8 cutoff',\n",
       "  'type': 'technosphere'},\n",
       " {'name': 'electricity, high voltage, production mix',\n",
       "  'reference product': 'electricity, high voltage',\n",
       "  'location': 'CN-QH',\n",
       "  'amount': 0.003603,\n",
       "  'unit': 'kilowatt hour',\n",
       "  'database': 'ecoinvent 3.8 cutoff',\n",
       "  'type': 'technosphere',\n",
       "  'uncertainty type': 2,\n",
       "  'loc': -5.625988447216181,\n",
       "  'scale': 0.5226943987482665}]"
      ]
     },
     "execution_count": 17,
     "metadata": {},
     "output_type": "execute_result"
    }
   ],
   "source": [
    "[u for u in lithium.unlinked if u[\"type\"] == \"technosphere\"]"
   ]
  },
  {
   "cell_type": "code",
   "execution_count": 18,
   "id": "1200ef56-56e4-4d54-840d-f7e1da0b64e7",
   "metadata": {},
   "outputs": [
    {
     "data": {
      "text/plain": [
       "[{'name': 'Lithium, in ground',\n",
       "  'amount': 0.1055414191739782,\n",
       "  'unit': 'kilogram',\n",
       "  'database': 'biosphere3',\n",
       "  'type': 'biosphere',\n",
       "  'categories': ('natural resource', 'in ground'),\n",
       "  'uncertainty type': 5,\n",
       "  'loc': 0.1055414191739782,\n",
       "  'minimum': 0.07387899342178474,\n",
       "  'maximum': 0.13720384492617166},\n",
       " {'name': 'Sodium',\n",
       "  'amount': 0.0005090491869677618,\n",
       "  'unit': 'kilogram',\n",
       "  'database': 'biosphere3',\n",
       "  'type': 'biosphere',\n",
       "  'categories': ('water',)},\n",
       " {'name': 'Particulates, > 2.5 um, and < 10um',\n",
       "  'amount': 0.0001,\n",
       "  'unit': 'kilogram',\n",
       "  'database': 'biosphere3',\n",
       "  'type': 'biosphere',\n",
       "  'categories': ('air',)},\n",
       " {'name': 'Particulates, < 2.5 um',\n",
       "  'amount': 5e-05,\n",
       "  'unit': 'kilogram',\n",
       "  'database': 'biosphere3',\n",
       "  'type': 'biosphere',\n",
       "  'categories': ('air',)}]"
      ]
     },
     "execution_count": 18,
     "metadata": {},
     "output_type": "execute_result"
    }
   ],
   "source": [
    "[u for u in lithium.unlinked if u[\"type\"] == \"biosphere\"]"
   ]
  },
  {
   "cell_type": "markdown",
   "id": "8f3a09c5-8920-4344-8793-8b9ccc190358",
   "metadata": {},
   "source": [
    "3 ways to deal with this \n",
    "1. manually fix this (i.e., modify the exchange name in the Excel file),\n",
    "2. go over imp.data(list), iterate through the exchanges and find Argon-40 and replace it with Argon\n",
    "3. create a migration file for translating ecoinvent 3.9 flows to 3.10"
   ]
  },
  {
   "cell_type": "markdown",
   "id": "d0de0cd2-a144-44cb-b319-23bb01ee1786",
   "metadata": {},
   "source": [
    "### Migration from ei 3.8 to 3.10"
   ]
  },
  {
   "cell_type": "markdown",
   "id": "9d898f73-0a76-4264-832a-69c6be74c144",
   "metadata": {},
   "source": [
    "The data is from ecoinvent 3.8 and we have 3.10. We create a mapping dictionary, and use it to create a `Migration` object."
   ]
  },
  {
   "cell_type": "code",
   "execution_count": 19,
   "id": "dac5e8d1-3b8c-4464-881c-f25eeeaf6041",
   "metadata": {},
   "outputs": [],
   "source": [
    "migration_38 = {\n",
    "    \"fields\": [\"name\", \"reference product\", \"location\", \"categories\"],\n",
    "    \"data\": [\n",
    "        (\n",
    "            (\"market for neutralising agent, sodium hydroxide-equivalent\", \n",
    "             \"neutralising agent, sodium hydroxide-equivalent\", \n",
    "             \"GLO\"),\n",
    "            {\"location\": \"RER\"}\n",
    "        ),\n",
    "\n",
    "        (\n",
    "            (\"market for soda ash, light, crystalline, heptahydrate\", \n",
    "             \"soda ash, light, crystalline, heptahydrate\", \n",
    "             \"GLO\", \"\"),\n",
    "            {\"name\": \"market for soda ash, light\", \n",
    "             \"reference product\": \"soda ash, light\", \n",
    "             \"location\": \"RER\"}\n",
    "        ),\n",
    "\n",
    "        (\n",
    "            (\"market for sodium hydroxide, without water, in 50% solution state\", \n",
    "             \"sodium hydroxide, without water, in 50% solution state\", \n",
    "             \"GLO\"),\n",
    "            {\"location\": \"RER\"}\n",
    "        ),\n",
    "\n",
    "         (\n",
    "            (\"electricity, high voltage, production mix\", \n",
    "             \"electricity, high voltage\", \n",
    "             \"CN-QH\"),\n",
    "            {\"location\": \"CN-CCG\"}\n",
    "        ), \n",
    "\n",
    "        (\n",
    "            (\"Lithium, in ground\", \"\", \"\", (\"natural resource', 'in ground\",)),\n",
    "            {\n",
    "                \"name\": \"Lithium\",\n",
    "            },\n",
    "        ), \n",
    "\n",
    "        (\n",
    "            (\"Sodium\", \"\", \"\", (\"water\",)),\n",
    "            {\n",
    "                \"name\": \"Sodium I\",\n",
    "            },\n",
    "        ), \n",
    "\n",
    "\n",
    "        (\n",
    "            (\"Particulates, > 2.5 um, and < 10um\", \"\", \"\", (\"air\",)),\n",
    "            {\n",
    "                \"name\": \"Particulate Matter, > 2.5 um, and < 10um\",\n",
    "            },\n",
    "        ), \n",
    "\n",
    "        (\n",
    "            (\"Particulates, < 2.5 um\", \"\", \"\", (\"air\",)),\n",
    "            {\n",
    "                \"name\": \"Particulate Matter, < 2.5 um\",\n",
    "            },\n",
    "        )\n",
    "        \n",
    "    ],\n",
    "}"
   ]
  },
  {
   "cell_type": "code",
   "execution_count": 20,
   "id": "d93c0b0e-a694-445b-b53b-6d5dc239bc10",
   "metadata": {},
   "outputs": [],
   "source": [
    "bi.Migration(name=\"ei3.8-3.10\").write(data=migration_38, description=\"ei 3.8 to 3.10\")"
   ]
  },
  {
   "cell_type": "code",
   "execution_count": 21,
   "id": "0b852c66-d6b3-45b2-a3d4-e776b4ad82b6",
   "metadata": {},
   "outputs": [
    {
     "data": {
      "text/plain": [
       "True"
      ]
     },
     "execution_count": 21,
     "metadata": {},
     "output_type": "execute_result"
    }
   ],
   "source": [
    "\"ei3.8-3.10\" in bi.migrations"
   ]
  },
  {
   "cell_type": "code",
   "execution_count": 22,
   "id": "42f15a95-cba1-40fb-ba21-b61b68fc637c",
   "metadata": {},
   "outputs": [
    {
     "data": {
      "text/plain": [
       "Brightway2 Migration: ei3.8-3.10"
      ]
     },
     "execution_count": 22,
     "metadata": {},
     "output_type": "execute_result"
    }
   ],
   "source": [
    "bi.Migration(\"ei3.8-3.10\")"
   ]
  },
  {
   "cell_type": "markdown",
   "id": "acfd6439-4e86-438c-a8f6-2f53247058ce",
   "metadata": {},
   "source": [
    "We apply the migration on our imported data."
   ]
  },
  {
   "cell_type": "code",
   "execution_count": 23,
   "id": "c1bc421a-9ba3-48ad-b4f9-a93a25287dfa",
   "metadata": {},
   "outputs": [],
   "source": [
    "lithium.data = bi.strategies.migrate_exchanges(\n",
    "    db=lithium.data,\n",
    "    migration=\"ei3.8-3.10\"\n",
    ")"
   ]
  },
  {
   "cell_type": "code",
   "execution_count": 24,
   "id": "a195db81-f4e4-4b0e-883b-5c29124dbbd0",
   "metadata": {},
   "outputs": [
    {
     "name": "stdout",
     "output_type": "stream",
     "text": [
      "Applying strategy: link_iterable_by_fields\n",
      "Applying strategy: link_iterable_by_fields\n",
      "40 datasets\n",
      "263 exchanges\n",
      "0 unlinked exchanges\n",
      "  \n"
     ]
    },
    {
     "data": {
      "text/plain": [
       "(40, 263, 0)"
      ]
     },
     "execution_count": 24,
     "metadata": {},
     "output_type": "execute_result"
    }
   ],
   "source": [
    "lithium.match_database(\"ecoinvent-3.10-cutoff\", fields=('name', 'reference product', 'unit', 'location'))\n",
    "lithium.match_database(\"biosphere3\", fields=('name', 'unit', 'categories'))\n",
    "lithium.statistics()"
   ]
  },
  {
   "cell_type": "code",
   "execution_count": 26,
   "id": "c42e3c51-a997-46cd-9ac9-78c1cd5e6af2",
   "metadata": {},
   "outputs": [
    {
     "name": "stderr",
     "output_type": "stream",
     "text": [
      "Writing activities to SQLite3 database:\n",
      "0% [##############################] 100% | ETA: 00:00:00\n",
      "Total time elapsed: 00:00:00\n"
     ]
    },
    {
     "name": "stdout",
     "output_type": "stream",
     "text": [
      "Title: Writing activities to SQLite3 database:\n",
      "  Started: 10/28/2024 16:30:47\n",
      "  Finished: 10/28/2024 16:30:47\n",
      "  Total time elapsed: 00:00:00\n",
      "  CPU %: 66.50\n",
      "  Memory %: 0.85\n"
     ]
    },
    {
     "ename": "OperationalError",
     "evalue": "database is locked",
     "output_type": "error",
     "traceback": [
      "\u001B[1;31m---------------------------------------------------------------------------\u001B[0m",
      "\u001B[1;31mOperationalError\u001B[0m                          Traceback (most recent call last)",
      "File \u001B[1;32m~\\anaconda3\\envs\\lca\\lib\\site-packages\\peewee.py:3844\u001B[0m, in \u001B[0;36mSqliteDatabase.commit\u001B[1;34m(self)\u001B[0m\n\u001B[0;32m   3843\u001B[0m \u001B[38;5;28;01mwith\u001B[39;00m __exception_wrapper__:\n\u001B[1;32m-> 3844\u001B[0m     \u001B[38;5;28;01mreturn\u001B[39;00m \u001B[38;5;28;43mself\u001B[39;49m\u001B[38;5;241;43m.\u001B[39;49m\u001B[43m_state\u001B[49m\u001B[38;5;241;43m.\u001B[39;49m\u001B[43mconn\u001B[49m\u001B[38;5;241;43m.\u001B[39;49m\u001B[43mcommit\u001B[49m\u001B[43m(\u001B[49m\u001B[43m)\u001B[49m\n",
      "\u001B[1;31mOperationalError\u001B[0m: database is locked",
      "\nDuring handling of the above exception, another exception occurred:\n",
      "\u001B[1;31mOperationalError\u001B[0m                          Traceback (most recent call last)",
      "File \u001B[1;32m~\\anaconda3\\envs\\lca\\lib\\site-packages\\bw2data\\backends\\peewee\\database.py:260\u001B[0m, in \u001B[0;36mSQLiteBackend.write\u001B[1;34m(self, data, process)\u001B[0m\n\u001B[0;32m    259\u001B[0m \u001B[38;5;28;01mtry\u001B[39;00m:\n\u001B[1;32m--> 260\u001B[0m     \u001B[38;5;28;43mself\u001B[39;49m\u001B[38;5;241;43m.\u001B[39;49m\u001B[43m_efficient_write_many_data\u001B[49m\u001B[43m(\u001B[49m\u001B[43mdata\u001B[49m\u001B[43m)\u001B[49m\n\u001B[0;32m    261\u001B[0m \u001B[38;5;28;01mexcept\u001B[39;00m:\n\u001B[0;32m    262\u001B[0m     \u001B[38;5;66;03m# Purge all data from database, then reraise\u001B[39;00m\n",
      "File \u001B[1;32m~\\anaconda3\\envs\\lca\\lib\\site-packages\\bw2data\\backends\\peewee\\database.py:216\u001B[0m, in \u001B[0;36mSQLiteBackend._efficient_write_many_data\u001B[1;34m(self, data, indices)\u001B[0m\n\u001B[0;32m    215\u001B[0m         ExchangeDataset\u001B[38;5;241m.\u001B[39minsert_many(exchanges)\u001B[38;5;241m.\u001B[39mexecute()\n\u001B[1;32m--> 216\u001B[0m     \u001B[43msqlite3_lci_db\u001B[49m\u001B[38;5;241;43m.\u001B[39;49m\u001B[43mdb\u001B[49m\u001B[38;5;241;43m.\u001B[39;49m\u001B[43mcommit\u001B[49m\u001B[43m(\u001B[49m\u001B[43m)\u001B[49m\n\u001B[0;32m    217\u001B[0m \u001B[38;5;28;01mexcept\u001B[39;00m:\n",
      "File \u001B[1;32m~\\anaconda3\\envs\\lca\\lib\\site-packages\\peewee.py:3843\u001B[0m, in \u001B[0;36mSqliteDatabase.commit\u001B[1;34m(self)\u001B[0m\n\u001B[0;32m   3842\u001B[0m \u001B[38;5;28;01mdef\u001B[39;00m \u001B[38;5;21mcommit\u001B[39m(\u001B[38;5;28mself\u001B[39m):\n\u001B[1;32m-> 3843\u001B[0m     \u001B[38;5;28;01mwith\u001B[39;00m __exception_wrapper__:\n\u001B[0;32m   3844\u001B[0m         \u001B[38;5;28;01mreturn\u001B[39;00m \u001B[38;5;28mself\u001B[39m\u001B[38;5;241m.\u001B[39m_state\u001B[38;5;241m.\u001B[39mconn\u001B[38;5;241m.\u001B[39mcommit()\n",
      "File \u001B[1;32m~\\anaconda3\\envs\\lca\\lib\\site-packages\\peewee.py:3088\u001B[0m, in \u001B[0;36mExceptionWrapper.__exit__\u001B[1;34m(self, exc_type, exc_value, traceback)\u001B[0m\n\u001B[0;32m   3087\u001B[0m exc_args \u001B[38;5;241m=\u001B[39m exc_value\u001B[38;5;241m.\u001B[39margs\n\u001B[1;32m-> 3088\u001B[0m \u001B[43mreraise\u001B[49m\u001B[43m(\u001B[49m\u001B[43mnew_type\u001B[49m\u001B[43m,\u001B[49m\u001B[43m \u001B[49m\u001B[43mnew_type\u001B[49m\u001B[43m(\u001B[49m\u001B[43mexc_value\u001B[49m\u001B[43m,\u001B[49m\u001B[43m \u001B[49m\u001B[38;5;241;43m*\u001B[39;49m\u001B[43mexc_args\u001B[49m\u001B[43m)\u001B[49m\u001B[43m,\u001B[49m\u001B[43m \u001B[49m\u001B[43mtraceback\u001B[49m\u001B[43m)\u001B[49m\n",
      "File \u001B[1;32m~\\anaconda3\\envs\\lca\\lib\\site-packages\\peewee.py:196\u001B[0m, in \u001B[0;36mreraise\u001B[1;34m(tp, value, tb)\u001B[0m\n\u001B[0;32m    195\u001B[0m \u001B[38;5;28;01mif\u001B[39;00m value\u001B[38;5;241m.\u001B[39m__traceback__ \u001B[38;5;129;01mis\u001B[39;00m \u001B[38;5;129;01mnot\u001B[39;00m tb:\n\u001B[1;32m--> 196\u001B[0m     \u001B[38;5;28;01mraise\u001B[39;00m value\u001B[38;5;241m.\u001B[39mwith_traceback(tb)\n\u001B[0;32m    197\u001B[0m \u001B[38;5;28;01mraise\u001B[39;00m value\n",
      "File \u001B[1;32m~\\anaconda3\\envs\\lca\\lib\\site-packages\\peewee.py:3844\u001B[0m, in \u001B[0;36mSqliteDatabase.commit\u001B[1;34m(self)\u001B[0m\n\u001B[0;32m   3843\u001B[0m \u001B[38;5;28;01mwith\u001B[39;00m __exception_wrapper__:\n\u001B[1;32m-> 3844\u001B[0m     \u001B[38;5;28;01mreturn\u001B[39;00m \u001B[38;5;28;43mself\u001B[39;49m\u001B[38;5;241;43m.\u001B[39;49m\u001B[43m_state\u001B[49m\u001B[38;5;241;43m.\u001B[39;49m\u001B[43mconn\u001B[49m\u001B[38;5;241;43m.\u001B[39;49m\u001B[43mcommit\u001B[49m\u001B[43m(\u001B[49m\u001B[43m)\u001B[49m\n",
      "\u001B[1;31mOperationalError\u001B[0m: database is locked",
      "\nDuring handling of the above exception, another exception occurred:\n",
      "\u001B[1;31mOperationalError\u001B[0m                          Traceback (most recent call last)",
      "File \u001B[1;32m~\\anaconda3\\envs\\lca\\lib\\site-packages\\peewee.py:3322\u001B[0m, in \u001B[0;36mDatabase.execute_sql\u001B[1;34m(self, sql, params, commit)\u001B[0m\n\u001B[0;32m   3321\u001B[0m     cursor \u001B[38;5;241m=\u001B[39m \u001B[38;5;28mself\u001B[39m\u001B[38;5;241m.\u001B[39mcursor()\n\u001B[1;32m-> 3322\u001B[0m     \u001B[43mcursor\u001B[49m\u001B[38;5;241;43m.\u001B[39;49m\u001B[43mexecute\u001B[49m\u001B[43m(\u001B[49m\u001B[43msql\u001B[49m\u001B[43m,\u001B[49m\u001B[43m \u001B[49m\u001B[43mparams\u001B[49m\u001B[43m \u001B[49m\u001B[38;5;129;43;01mor\u001B[39;49;00m\u001B[43m \u001B[49m\u001B[43m(\u001B[49m\u001B[43m)\u001B[49m\u001B[43m)\u001B[49m\n\u001B[0;32m   3323\u001B[0m \u001B[38;5;28;01mreturn\u001B[39;00m cursor\n",
      "\u001B[1;31mOperationalError\u001B[0m: database is locked",
      "\nDuring handling of the above exception, another exception occurred:\n",
      "\u001B[1;31mOperationalError\u001B[0m                          Traceback (most recent call last)",
      "Cell \u001B[1;32mIn[26], line 2\u001B[0m\n\u001B[0;32m      1\u001B[0m \u001B[38;5;28;01mif\u001B[39;00m \u001B[38;5;28mlen\u001B[39m(\u001B[38;5;28mlist\u001B[39m(lithium\u001B[38;5;241m.\u001B[39munlinked)) \u001B[38;5;241m==\u001B[39m \u001B[38;5;241m0\u001B[39m:\n\u001B[1;32m----> 2\u001B[0m     \u001B[43mlithium\u001B[49m\u001B[38;5;241;43m.\u001B[39;49m\u001B[43mwrite_database\u001B[49m\u001B[43m(\u001B[49m\u001B[43m)\u001B[49m\n",
      "File \u001B[1;32m~\\anaconda3\\envs\\lca\\lib\\site-packages\\bw2io\\importers\\excel.py:284\u001B[0m, in \u001B[0;36mExcelImporter.write_database\u001B[1;34m(self, **kwargs)\u001B[0m\n\u001B[0;32m    282\u001B[0m \u001B[38;5;250m\u001B[39m\u001B[38;5;124;03m\"\"\"Same as base ``write_database`` method, but ``activate_parameters`` is True by default.\"\"\"\u001B[39;00m\n\u001B[0;32m    283\u001B[0m kwargs[\u001B[38;5;124m\"\u001B[39m\u001B[38;5;124mactivate_parameters\u001B[39m\u001B[38;5;124m\"\u001B[39m] \u001B[38;5;241m=\u001B[39m kwargs\u001B[38;5;241m.\u001B[39mget(\u001B[38;5;124m\"\u001B[39m\u001B[38;5;124mactivate_parameters\u001B[39m\u001B[38;5;124m\"\u001B[39m, \u001B[38;5;28;01mTrue\u001B[39;00m)\n\u001B[1;32m--> 284\u001B[0m \u001B[38;5;28msuper\u001B[39m(ExcelImporter, \u001B[38;5;28mself\u001B[39m)\u001B[38;5;241m.\u001B[39mwrite_database(\u001B[38;5;241m*\u001B[39m\u001B[38;5;241m*\u001B[39mkwargs)\n",
      "File \u001B[1;32m~\\anaconda3\\envs\\lca\\lib\\site-packages\\bw2io\\importers\\base_lci.py:273\u001B[0m, in \u001B[0;36mLCIImporter.write_database\u001B[1;34m(self, data, delete_existing, backend, activate_parameters, **kwargs)\u001B[0m\n\u001B[0;32m    270\u001B[0m \u001B[38;5;28mself\u001B[39m\u001B[38;5;241m.\u001B[39mwrite_database_parameters(activate_parameters, delete_existing)\n\u001B[0;32m    272\u001B[0m existing\u001B[38;5;241m.\u001B[39mupdate(data)\n\u001B[1;32m--> 273\u001B[0m \u001B[43mdb\u001B[49m\u001B[38;5;241;43m.\u001B[39;49m\u001B[43mwrite\u001B[49m\u001B[43m(\u001B[49m\u001B[43mexisting\u001B[49m\u001B[43m)\u001B[49m\n\u001B[0;32m    275\u001B[0m \u001B[38;5;28;01mif\u001B[39;00m activate_parameters:\n\u001B[0;32m    276\u001B[0m     \u001B[38;5;28mself\u001B[39m\u001B[38;5;241m.\u001B[39m_write_activity_parameters(activity_parameters)\n",
      "File \u001B[1;32m~\\anaconda3\\envs\\lca\\lib\\site-packages\\bw2data\\project.py:358\u001B[0m, in \u001B[0;36mwritable_project\u001B[1;34m(wrapped, instance, args, kwargs)\u001B[0m\n\u001B[0;32m    356\u001B[0m \u001B[38;5;28;01mif\u001B[39;00m projects\u001B[38;5;241m.\u001B[39mread_only:\n\u001B[0;32m    357\u001B[0m     \u001B[38;5;28;01mraise\u001B[39;00m ReadOnlyProject(READ_ONLY_PROJECT)\n\u001B[1;32m--> 358\u001B[0m \u001B[38;5;28;01mreturn\u001B[39;00m wrapped(\u001B[38;5;241m*\u001B[39margs, \u001B[38;5;241m*\u001B[39m\u001B[38;5;241m*\u001B[39mkwargs)\n",
      "File \u001B[1;32m~\\anaconda3\\envs\\lca\\lib\\site-packages\\bw2data\\backends\\peewee\\database.py:263\u001B[0m, in \u001B[0;36mSQLiteBackend.write\u001B[1;34m(self, data, process)\u001B[0m\n\u001B[0;32m    260\u001B[0m         \u001B[38;5;28mself\u001B[39m\u001B[38;5;241m.\u001B[39m_efficient_write_many_data(data)\n\u001B[0;32m    261\u001B[0m     \u001B[38;5;28;01mexcept\u001B[39;00m:\n\u001B[0;32m    262\u001B[0m         \u001B[38;5;66;03m# Purge all data from database, then reraise\u001B[39;00m\n\u001B[1;32m--> 263\u001B[0m         \u001B[38;5;28;43mself\u001B[39;49m\u001B[38;5;241;43m.\u001B[39;49m\u001B[43mdelete\u001B[49m\u001B[43m(\u001B[49m\u001B[43mwarn\u001B[49m\u001B[38;5;241;43m=\u001B[39;49m\u001B[38;5;28;43;01mFalse\u001B[39;49;00m\u001B[43m)\u001B[49m\n\u001B[0;32m    264\u001B[0m         \u001B[38;5;28;01mraise\u001B[39;00m\n\u001B[0;32m    266\u001B[0m \u001B[38;5;28mself\u001B[39m\u001B[38;5;241m.\u001B[39mmake_searchable(reset\u001B[38;5;241m=\u001B[39m\u001B[38;5;28;01mTrue\u001B[39;00m)\n",
      "File \u001B[1;32m~\\anaconda3\\envs\\lca\\lib\\site-packages\\bw2data\\project.py:358\u001B[0m, in \u001B[0;36mwritable_project\u001B[1;34m(wrapped, instance, args, kwargs)\u001B[0m\n\u001B[0;32m    356\u001B[0m \u001B[38;5;28;01mif\u001B[39;00m projects\u001B[38;5;241m.\u001B[39mread_only:\n\u001B[0;32m    357\u001B[0m     \u001B[38;5;28;01mraise\u001B[39;00m ReadOnlyProject(READ_ONLY_PROJECT)\n\u001B[1;32m--> 358\u001B[0m \u001B[38;5;28;01mreturn\u001B[39;00m wrapped(\u001B[38;5;241m*\u001B[39margs, \u001B[38;5;241m*\u001B[39m\u001B[38;5;241m*\u001B[39mkwargs)\n",
      "File \u001B[1;32m~\\anaconda3\\envs\\lca\\lib\\site-packages\\bw2data\\backends\\peewee\\database.py:332\u001B[0m, in \u001B[0;36mSQLiteBackend.delete\u001B[1;34m(self, keep_params, warn)\u001B[0m\n\u001B[0;32m    328\u001B[0m     warnings\u001B[38;5;241m.\u001B[39mwarn(MESSAGE\u001B[38;5;241m.\u001B[39mformat(\u001B[38;5;28mself\u001B[39m\u001B[38;5;241m.\u001B[39mname), \u001B[38;5;167;01mUserWarning\u001B[39;00m)\n\u001B[0;32m    330\u001B[0m vacuum_needed \u001B[38;5;241m=\u001B[39m \u001B[38;5;28mlen\u001B[39m(\u001B[38;5;28mself\u001B[39m) \u001B[38;5;241m>\u001B[39m \u001B[38;5;241m500\u001B[39m\n\u001B[1;32m--> 332\u001B[0m \u001B[43mActivityDataset\u001B[49m\u001B[38;5;241;43m.\u001B[39;49m\u001B[43mdelete\u001B[49m\u001B[43m(\u001B[49m\u001B[43m)\u001B[49m\u001B[38;5;241;43m.\u001B[39;49m\u001B[43mwhere\u001B[49m\u001B[43m(\u001B[49m\u001B[43mActivityDataset\u001B[49m\u001B[38;5;241;43m.\u001B[39;49m\u001B[43mdatabase\u001B[49m\u001B[38;5;241;43m==\u001B[39;49m\u001B[43m \u001B[49m\u001B[38;5;28;43mself\u001B[39;49m\u001B[38;5;241;43m.\u001B[39;49m\u001B[43mname\u001B[49m\u001B[43m)\u001B[49m\u001B[38;5;241;43m.\u001B[39;49m\u001B[43mexecute\u001B[49m\u001B[43m(\u001B[49m\u001B[43m)\u001B[49m\n\u001B[0;32m    333\u001B[0m ExchangeDataset\u001B[38;5;241m.\u001B[39mdelete()\u001B[38;5;241m.\u001B[39mwhere(ExchangeDataset\u001B[38;5;241m.\u001B[39moutput_database\u001B[38;5;241m==\u001B[39m \u001B[38;5;28mself\u001B[39m\u001B[38;5;241m.\u001B[39mname)\u001B[38;5;241m.\u001B[39mexecute()\n\u001B[0;32m    334\u001B[0m IndexManager(\u001B[38;5;28mself\u001B[39m\u001B[38;5;241m.\u001B[39mfilename)\u001B[38;5;241m.\u001B[39mdelete_database()\n",
      "File \u001B[1;32m~\\anaconda3\\envs\\lca\\lib\\site-packages\\peewee.py:2036\u001B[0m, in \u001B[0;36mdatabase_required.<locals>.inner\u001B[1;34m(self, database, *args, **kwargs)\u001B[0m\n\u001B[0;32m   2033\u001B[0m \u001B[38;5;28;01mif\u001B[39;00m \u001B[38;5;129;01mnot\u001B[39;00m database:\n\u001B[0;32m   2034\u001B[0m     \u001B[38;5;28;01mraise\u001B[39;00m InterfaceError(\u001B[38;5;124m'\u001B[39m\u001B[38;5;124mQuery must be bound to a database in order \u001B[39m\u001B[38;5;124m'\u001B[39m\n\u001B[0;32m   2035\u001B[0m                          \u001B[38;5;124m'\u001B[39m\u001B[38;5;124mto call \u001B[39m\u001B[38;5;124m\"\u001B[39m\u001B[38;5;132;01m%s\u001B[39;00m\u001B[38;5;124m\"\u001B[39m\u001B[38;5;124m.\u001B[39m\u001B[38;5;124m'\u001B[39m \u001B[38;5;241m%\u001B[39m method\u001B[38;5;241m.\u001B[39m\u001B[38;5;18m__name__\u001B[39m)\n\u001B[1;32m-> 2036\u001B[0m \u001B[38;5;28;01mreturn\u001B[39;00m method(\u001B[38;5;28mself\u001B[39m, database, \u001B[38;5;241m*\u001B[39margs, \u001B[38;5;241m*\u001B[39m\u001B[38;5;241m*\u001B[39mkwargs)\n",
      "File \u001B[1;32m~\\anaconda3\\envs\\lca\\lib\\site-packages\\peewee.py:2107\u001B[0m, in \u001B[0;36mBaseQuery.execute\u001B[1;34m(self, database)\u001B[0m\n\u001B[0;32m   2105\u001B[0m \u001B[38;5;129m@database_required\u001B[39m\n\u001B[0;32m   2106\u001B[0m \u001B[38;5;28;01mdef\u001B[39;00m \u001B[38;5;21mexecute\u001B[39m(\u001B[38;5;28mself\u001B[39m, database):\n\u001B[1;32m-> 2107\u001B[0m     \u001B[38;5;28;01mreturn\u001B[39;00m \u001B[38;5;28;43mself\u001B[39;49m\u001B[38;5;241;43m.\u001B[39;49m\u001B[43m_execute\u001B[49m\u001B[43m(\u001B[49m\u001B[43mdatabase\u001B[49m\u001B[43m)\u001B[49m\n",
      "File \u001B[1;32m~\\anaconda3\\envs\\lca\\lib\\site-packages\\peewee.py:2625\u001B[0m, in \u001B[0;36m_WriteQuery._execute\u001B[1;34m(self, database)\u001B[0m\n\u001B[0;32m   2623\u001B[0m     cursor \u001B[38;5;241m=\u001B[39m \u001B[38;5;28mself\u001B[39m\u001B[38;5;241m.\u001B[39mexecute_returning(database)\n\u001B[0;32m   2624\u001B[0m \u001B[38;5;28;01melse\u001B[39;00m:\n\u001B[1;32m-> 2625\u001B[0m     cursor \u001B[38;5;241m=\u001B[39m \u001B[43mdatabase\u001B[49m\u001B[38;5;241;43m.\u001B[39;49m\u001B[43mexecute\u001B[49m\u001B[43m(\u001B[49m\u001B[38;5;28;43mself\u001B[39;49m\u001B[43m)\u001B[49m\n\u001B[0;32m   2626\u001B[0m \u001B[38;5;28;01mreturn\u001B[39;00m \u001B[38;5;28mself\u001B[39m\u001B[38;5;241m.\u001B[39mhandle_result(database, cursor)\n",
      "File \u001B[1;32m~\\anaconda3\\envs\\lca\\lib\\site-packages\\peewee.py:3330\u001B[0m, in \u001B[0;36mDatabase.execute\u001B[1;34m(self, query, commit, **context_options)\u001B[0m\n\u001B[0;32m   3328\u001B[0m ctx \u001B[38;5;241m=\u001B[39m \u001B[38;5;28mself\u001B[39m\u001B[38;5;241m.\u001B[39mget_sql_context(\u001B[38;5;241m*\u001B[39m\u001B[38;5;241m*\u001B[39mcontext_options)\n\u001B[0;32m   3329\u001B[0m sql, params \u001B[38;5;241m=\u001B[39m ctx\u001B[38;5;241m.\u001B[39msql(query)\u001B[38;5;241m.\u001B[39mquery()\n\u001B[1;32m-> 3330\u001B[0m \u001B[38;5;28;01mreturn\u001B[39;00m \u001B[38;5;28;43mself\u001B[39;49m\u001B[38;5;241;43m.\u001B[39;49m\u001B[43mexecute_sql\u001B[49m\u001B[43m(\u001B[49m\u001B[43msql\u001B[49m\u001B[43m,\u001B[49m\u001B[43m \u001B[49m\u001B[43mparams\u001B[49m\u001B[43m)\u001B[49m\n",
      "File \u001B[1;32m~\\anaconda3\\envs\\lca\\lib\\site-packages\\peewee.py:3320\u001B[0m, in \u001B[0;36mDatabase.execute_sql\u001B[1;34m(self, sql, params, commit)\u001B[0m\n\u001B[0;32m   3318\u001B[0m     __deprecated__(\u001B[38;5;124m'\u001B[39m\u001B[38;5;124m\"\u001B[39m\u001B[38;5;124mcommit\u001B[39m\u001B[38;5;124m\"\u001B[39m\u001B[38;5;124m has been deprecated and is a no-op.\u001B[39m\u001B[38;5;124m'\u001B[39m)\n\u001B[0;32m   3319\u001B[0m logger\u001B[38;5;241m.\u001B[39mdebug((sql, params))\n\u001B[1;32m-> 3320\u001B[0m \u001B[38;5;28;01mwith\u001B[39;00m __exception_wrapper__:\n\u001B[0;32m   3321\u001B[0m     cursor \u001B[38;5;241m=\u001B[39m \u001B[38;5;28mself\u001B[39m\u001B[38;5;241m.\u001B[39mcursor()\n\u001B[0;32m   3322\u001B[0m     cursor\u001B[38;5;241m.\u001B[39mexecute(sql, params \u001B[38;5;129;01mor\u001B[39;00m ())\n",
      "File \u001B[1;32m~\\anaconda3\\envs\\lca\\lib\\site-packages\\peewee.py:3088\u001B[0m, in \u001B[0;36mExceptionWrapper.__exit__\u001B[1;34m(self, exc_type, exc_value, traceback)\u001B[0m\n\u001B[0;32m   3086\u001B[0m new_type \u001B[38;5;241m=\u001B[39m \u001B[38;5;28mself\u001B[39m\u001B[38;5;241m.\u001B[39mexceptions[exc_type\u001B[38;5;241m.\u001B[39m\u001B[38;5;18m__name__\u001B[39m]\n\u001B[0;32m   3087\u001B[0m exc_args \u001B[38;5;241m=\u001B[39m exc_value\u001B[38;5;241m.\u001B[39margs\n\u001B[1;32m-> 3088\u001B[0m \u001B[43mreraise\u001B[49m\u001B[43m(\u001B[49m\u001B[43mnew_type\u001B[49m\u001B[43m,\u001B[49m\u001B[43m \u001B[49m\u001B[43mnew_type\u001B[49m\u001B[43m(\u001B[49m\u001B[43mexc_value\u001B[49m\u001B[43m,\u001B[49m\u001B[43m \u001B[49m\u001B[38;5;241;43m*\u001B[39;49m\u001B[43mexc_args\u001B[49m\u001B[43m)\u001B[49m\u001B[43m,\u001B[49m\u001B[43m \u001B[49m\u001B[43mtraceback\u001B[49m\u001B[43m)\u001B[49m\n",
      "File \u001B[1;32m~\\anaconda3\\envs\\lca\\lib\\site-packages\\peewee.py:196\u001B[0m, in \u001B[0;36mreraise\u001B[1;34m(tp, value, tb)\u001B[0m\n\u001B[0;32m    194\u001B[0m \u001B[38;5;28;01mdef\u001B[39;00m \u001B[38;5;21mreraise\u001B[39m(tp, value, tb\u001B[38;5;241m=\u001B[39m\u001B[38;5;28;01mNone\u001B[39;00m):\n\u001B[0;32m    195\u001B[0m     \u001B[38;5;28;01mif\u001B[39;00m value\u001B[38;5;241m.\u001B[39m__traceback__ \u001B[38;5;129;01mis\u001B[39;00m \u001B[38;5;129;01mnot\u001B[39;00m tb:\n\u001B[1;32m--> 196\u001B[0m         \u001B[38;5;28;01mraise\u001B[39;00m value\u001B[38;5;241m.\u001B[39mwith_traceback(tb)\n\u001B[0;32m    197\u001B[0m     \u001B[38;5;28;01mraise\u001B[39;00m value\n",
      "File \u001B[1;32m~\\anaconda3\\envs\\lca\\lib\\site-packages\\peewee.py:3322\u001B[0m, in \u001B[0;36mDatabase.execute_sql\u001B[1;34m(self, sql, params, commit)\u001B[0m\n\u001B[0;32m   3320\u001B[0m \u001B[38;5;28;01mwith\u001B[39;00m __exception_wrapper__:\n\u001B[0;32m   3321\u001B[0m     cursor \u001B[38;5;241m=\u001B[39m \u001B[38;5;28mself\u001B[39m\u001B[38;5;241m.\u001B[39mcursor()\n\u001B[1;32m-> 3322\u001B[0m     \u001B[43mcursor\u001B[49m\u001B[38;5;241;43m.\u001B[39;49m\u001B[43mexecute\u001B[49m\u001B[43m(\u001B[49m\u001B[43msql\u001B[49m\u001B[43m,\u001B[49m\u001B[43m \u001B[49m\u001B[43mparams\u001B[49m\u001B[43m \u001B[49m\u001B[38;5;129;43;01mor\u001B[39;49;00m\u001B[43m \u001B[49m\u001B[43m(\u001B[49m\u001B[43m)\u001B[49m\u001B[43m)\u001B[49m\n\u001B[0;32m   3323\u001B[0m \u001B[38;5;28;01mreturn\u001B[39;00m cursor\n",
      "\u001B[1;31mOperationalError\u001B[0m: database is locked"
     ]
    }
   ],
   "source": [
    "if len(list(lithium.unlinked)) == 0:\n",
    "    lithium.write_database()"
   ]
  },
  {
   "cell_type": "code",
   "execution_count": 27,
   "id": "37408b4e-d8c9-4068-86ee-2da7e002a35c",
   "metadata": {},
   "outputs": [
    {
     "data": {
      "text/plain": [
       "Databases dictionary with 3 object(s):\n",
       "\tbiosphere3\n",
       "\tecoinvent-3.10-cutoff\n",
       "\tlithium"
      ]
     },
     "execution_count": 27,
     "metadata": {},
     "output_type": "execute_result"
    }
   ],
   "source": [
    "bd.databases"
   ]
  },
  {
   "cell_type": "markdown",
   "id": "af9448c6-04ce-47e2-a20a-96b73d14a4a1",
   "metadata": {},
   "source": [
    "## Cobalt"
   ]
  },
  {
   "cell_type": "code",
   "execution_count": 64,
   "id": "ece255db-198d-440c-84ba-fa20ab3de45d",
   "metadata": {},
   "outputs": [],
   "source": [
    "# LCI from ??\n",
    "cobalt = LCI_DIR / 'from_premise' / 'lci-cobalt.xlsx'\n",
    "cobalt = bi.ExcelImporter(cobalt)\n",
    "# Apply the necessary strategies\n",
    "cobalt.apply_strategies()"
   ]
  },
  {
   "cell_type": "code",
   "execution_count": 68,
   "id": "cb3c64bb-645d-4b0d-8bfa-a73279a3b910",
   "metadata": {},
   "outputs": [
    {
     "name": "stdout",
     "output_type": "stream",
     "text": [
      "Applying strategy: link_iterable_by_fields\n"
     ]
    }
   ],
   "source": [
    "# we match based on the name, reference product and location\n",
    "cobalt.match_database(fields=('name', 'reference product', 'unit', 'location')) \n",
    "cobalt.statistics()"
   ]
  },
  {
   "cell_type": "code",
   "execution_count": 70,
   "id": "10b65905-a000-4b4f-b20c-9426c5e7adca",
   "metadata": {},
   "outputs": [
    {
     "name": "stdout",
     "output_type": "stream",
     "text": [
      "Applying strategy: link_iterable_by_fields\n",
      "10 datasets\n",
      "131 exchanges\n",
      "16 unlinked exchanges\n",
      "  Type biosphere: 5 unique unlinked exchanges\n",
      "  Type technosphere: 1 unique unlinked exchanges\n"
     ]
    },
    {
     "data": {
      "text/plain": [
       "(10, 131, 16)"
      ]
     },
     "execution_count": 70,
     "metadata": {},
     "output_type": "execute_result"
    }
   ],
   "source": [
    "# Let's try to link them with EI\n",
    "cobalt.match_database(\"ecoinvent-3.10-cutoff\", fields=('name', 'reference product', 'unit', 'location'))\n",
    "cobalt.match_database(\"biosphere3\", fields=('name', 'unit', 'categories'))\n",
    "cobalt.statistics()"
   ]
  },
  {
   "cell_type": "code",
   "execution_count": 71,
   "id": "5ff82982-ce38-42a0-bfc3-946eb7df7085",
   "metadata": {},
   "outputs": [
    {
     "data": {
      "text/plain": [
       "[{'name': 'market for sodium hydroxide, without water, in 50% solution state',\n",
       "  'amount': 0.442985917833257,\n",
       "  'unit': 'kilogram',\n",
       "  'location': 'GLO',\n",
       "  'type': 'technosphere',\n",
       "  'reference product': 'sodium hydroxide, without water, in 50% solution state'}]"
      ]
     },
     "execution_count": 71,
     "metadata": {},
     "output_type": "execute_result"
    }
   ],
   "source": [
    "[u for u in cobalt.unlinked if u[\"type\"] == \"technosphere\"]"
   ]
  },
  {
   "cell_type": "code",
   "execution_count": 72,
   "id": "899a58c4-d17d-40ae-85c8-16f17e9900a4",
   "metadata": {},
   "outputs": [
    {
     "data": {
      "text/plain": [
       "[{'name': 'Sodium',\n",
       "  'amount': 0.00134036749331893,\n",
       "  'unit': 'kilogram',\n",
       "  'categories': ('water',),\n",
       "  'type': 'biosphere'},\n",
       " {'name': 'Cobalt, in ground',\n",
       "  'amount': 0.0047,\n",
       "  'unit': 'kilogram',\n",
       "  'categories': ('natural resource', 'in ground'),\n",
       "  'type': 'biosphere'},\n",
       " {'name': 'Copper, in ground',\n",
       "  'amount': 0.024,\n",
       "  'unit': 'kilogram',\n",
       "  'categories': ('natural resource', 'in ground'),\n",
       "  'type': 'biosphere'},\n",
       " {'name': 'Particulates, > 2.5 um, and < 10um',\n",
       "  'amount': 0.0008628824000000001,\n",
       "  'unit': 'kilogram',\n",
       "  'categories': ('air',),\n",
       "  'type': 'biosphere'},\n",
       " {'name': 'Particulates, < 2.5 um',\n",
       "  'amount': 8.906030000000001e-05,\n",
       "  'unit': 'kilogram',\n",
       "  'categories': ('air',),\n",
       "  'type': 'biosphere'}]"
      ]
     },
     "execution_count": 72,
     "metadata": {},
     "output_type": "execute_result"
    }
   ],
   "source": [
    "[u for u in cobalt.unlinked if u[\"type\"] == \"biosphere\"]"
   ]
  },
  {
   "cell_type": "markdown",
   "id": "d097ab5b-52a5-472a-b55b-3117656368fd",
   "metadata": {},
   "source": [
    "### Migration from ei ? to 3.10"
   ]
  },
  {
   "cell_type": "code",
   "execution_count": 76,
   "id": "65ff3f7b-b164-4ca0-96d3-e807eb03afd4",
   "metadata": {},
   "outputs": [],
   "source": [
    "migration_3 = {\n",
    "    \"fields\": [\"name\", \"reference product\", \"location\", \"categories\"],\n",
    "    \"data\": [\n",
    "        (\n",
    "            (\"market for sodium hydroxide, without water, in 50% solution state\", \n",
    "             \"sodium hydroxide, without water, in 50% solution state\", \n",
    "             \"GLO\"),\n",
    "            {\"location\": \"RER\"}\n",
    "        ),\n",
    "\n",
    "        (\n",
    "            (\"Sodium\", \"\", \"\", (\"water\",)),\n",
    "            {\n",
    "                \"name\": \"Sodium I\",\n",
    "            },\n",
    "        ), \n",
    "\n",
    "        (\n",
    "            (\"Cobalt, in ground\", \"\", \"\", (\"'natural resource', 'in ground'\",)),\n",
    "            {\n",
    "                \"name\": \"Cobalt\",\n",
    "            },\n",
    "        ), \n",
    "\n",
    "        (\n",
    "            (\"Copper, in ground\", \"\", \"\", (\"'natural resource', 'in ground'\",)),\n",
    "            {\n",
    "                \"name\": \"Copper\",\n",
    "            },\n",
    "        ), \n",
    "\n",
    "        (\n",
    "            (\"Particulates, > 2.5 um, and < 10um\", \"\", \"\", (\"air\",)),\n",
    "            {\n",
    "                \"name\": \"Particulate Matter, > 2.5 um, and < 10um\",\n",
    "            },\n",
    "        ), \n",
    "\n",
    "        (\n",
    "            (\"Particulates, < 2.5 um\", \"\", \"\", (\"air\",)),\n",
    "            {\n",
    "                \"name\": \"Particulate Matter, < 2.5 um\",\n",
    "            },\n",
    "        )\n",
    "        \n",
    "    ],\n",
    "}"
   ]
  },
  {
   "cell_type": "code",
   "execution_count": 77,
   "id": "565094c6-cc57-45da-be86-b0b366b41e42",
   "metadata": {},
   "outputs": [],
   "source": [
    "bi.Migration(name=\"ei3.?-3.10\").write(data=migration_3, description=\"ei 3.? to 3.10\")"
   ]
  },
  {
   "cell_type": "code",
   "execution_count": 78,
   "id": "b2790c79-6ac1-4f75-9ae3-7eefa1da2b2b",
   "metadata": {},
   "outputs": [],
   "source": [
    "cobalt.data = bi.strategies.migrate_exchanges(\n",
    "    db=cobalt.data,\n",
    "    migration=\"ei3.?-3.10\"\n",
    ")"
   ]
  },
  {
   "cell_type": "code",
   "execution_count": 79,
   "id": "1b0c0658-dde0-4313-a777-47cbfde1c362",
   "metadata": {},
   "outputs": [
    {
     "name": "stdout",
     "output_type": "stream",
     "text": [
      "Applying strategy: link_iterable_by_fields\n",
      "Applying strategy: link_iterable_by_fields\n",
      "10 datasets\n",
      "131 exchanges\n",
      "0 unlinked exchanges\n",
      "  \n"
     ]
    },
    {
     "data": {
      "text/plain": [
       "(10, 131, 0)"
      ]
     },
     "execution_count": 79,
     "metadata": {},
     "output_type": "execute_result"
    }
   ],
   "source": [
    "cobalt.match_database(\"ecoinvent-3.10-cutoff\", fields=('name', 'reference product', 'unit', 'location'))\n",
    "cobalt.match_database(\"biosphere3\", fields=('name', 'unit', 'categories'))\n",
    "cobalt.statistics()"
   ]
  },
  {
   "cell_type": "code",
   "execution_count": 80,
   "id": "1aebb8dd-5a42-4026-ba9a-60ef22f5f77e",
   "metadata": {},
   "outputs": [
    {
     "name": "stderr",
     "output_type": "stream",
     "text": [
      "Writing activities to SQLite3 database:\n",
      "0% [##########] 100% | ETA: 00:00:00\n",
      "Total time elapsed: 00:00:00\n"
     ]
    },
    {
     "name": "stdout",
     "output_type": "stream",
     "text": [
      "Title: Writing activities to SQLite3 database:\n",
      "  Started: 10/25/2024 13:47:06\n",
      "  Finished: 10/25/2024 13:47:06\n",
      "  Total time elapsed: 00:00:00\n",
      "  CPU %: 0.00\n",
      "  Memory %: 0.85\n",
      "Created database: cobalt\n"
     ]
    }
   ],
   "source": [
    "if len(list(cobalt.unlinked)) == 0:\n",
    "    cobalt.write_database()"
   ]
  },
  {
   "cell_type": "markdown",
   "id": "1a1044f6-d928-4f9c-b8bf-b2e6ed21e767",
   "metadata": {},
   "source": [
    "## Graphite "
   ]
  },
  {
   "cell_type": "code",
   "execution_count": 100,
   "id": "d04d8540-fc7f-4d80-8107-ab35ac2eedc5",
   "metadata": {},
   "outputs": [
    {
     "name": "stdout",
     "output_type": "stream",
     "text": [
      "Extracted 1 worksheets in 0.03 seconds\n",
      "Applying strategy: csv_restore_tuples\n",
      "Applying strategy: csv_restore_booleans\n",
      "Applying strategy: csv_numerize\n",
      "Applying strategy: csv_drop_unknown\n",
      "Applying strategy: csv_add_missing_exchanges_section\n",
      "Applying strategy: normalize_units\n",
      "Applying strategy: normalize_biosphere_categories\n",
      "Applying strategy: normalize_biosphere_names\n",
      "Applying strategy: strip_biosphere_exc_locations\n",
      "Applying strategy: set_code_by_activity_hash\n",
      "Applying strategy: link_iterable_by_fields\n",
      "Applying strategy: assign_only_product_as_production\n",
      "Applying strategy: link_technosphere_by_activity_hash\n",
      "Applying strategy: drop_falsey_uncertainty_fields_but_keep_zeros\n",
      "Applying strategy: convert_uncertainty_types_to_integers\n",
      "Applying strategy: convert_activity_parameters_to_list\n",
      "Applied 16 strategies in 10.19 seconds\n"
     ]
    }
   ],
   "source": [
    "# LCI from multiple sources\n",
    "graphite = LCI_DIR / 'from_premise' / 'lci-graphite.xlsx'\n",
    "graphite = bi.ExcelImporter(graphite)\n",
    "graphite.apply_strategies()"
   ]
  },
  {
   "cell_type": "code",
   "execution_count": 101,
   "id": "c1b52a3b-9b2f-4244-b169-3dfcaf66f81c",
   "metadata": {},
   "outputs": [
    {
     "name": "stdout",
     "output_type": "stream",
     "text": [
      "Applying strategy: link_iterable_by_fields\n",
      "11 datasets\n",
      "84 exchanges\n",
      "44 unlinked exchanges\n",
      "  Type biosphere: 2 unique unlinked exchanges\n",
      "  Type technosphere: 21 unique unlinked exchanges\n"
     ]
    },
    {
     "data": {
      "text/plain": [
       "(11, 84, 44)"
      ]
     },
     "execution_count": 101,
     "metadata": {},
     "output_type": "execute_result"
    }
   ],
   "source": [
    "graphite.match_database(fields=('name', 'reference product', 'unit', 'location')) \n",
    "graphite.statistics()"
   ]
  },
  {
   "cell_type": "code",
   "execution_count": 102,
   "id": "1fa54988-b75f-4503-851d-88c3a02f1b65",
   "metadata": {},
   "outputs": [
    {
     "name": "stdout",
     "output_type": "stream",
     "text": [
      "Applying strategy: link_iterable_by_fields\n",
      "Applying strategy: link_iterable_by_fields\n",
      "11 datasets\n",
      "84 exchanges\n",
      "3 unlinked exchanges\n",
      "  Type biosphere: 2 unique unlinked exchanges\n",
      "  Type technosphere: 1 unique unlinked exchanges\n"
     ]
    },
    {
     "data": {
      "text/plain": [
       "(11, 84, 3)"
      ]
     },
     "execution_count": 102,
     "metadata": {},
     "output_type": "execute_result"
    }
   ],
   "source": [
    "# Let's try to link them with EI\n",
    "graphite.match_database(\"ecoinvent-3.10-cutoff\", fields=('name', 'reference product', 'unit', 'location'))\n",
    "graphite.match_database(\"biosphere3\", fields=('name', 'unit', 'categories'))\n",
    "graphite.statistics()"
   ]
  },
  {
   "cell_type": "code",
   "execution_count": 103,
   "id": "b7c8ca15-3651-4298-9bc4-b4eb24518cc6",
   "metadata": {},
   "outputs": [
    {
     "data": {
      "text/plain": [
       "[{'name': 'coking',\n",
       "  'amount': 169.75,\n",
       "  'unit': 'megajoule',\n",
       "  'location': 'RoW',\n",
       "  'type': 'technosphere',\n",
       "  'reference product': 'coal gas'}]"
      ]
     },
     "execution_count": 103,
     "metadata": {},
     "output_type": "execute_result"
    }
   ],
   "source": [
    "[u for u in graphite.unlinked if u[\"type\"] == \"technosphere\"]"
   ]
  },
  {
   "cell_type": "code",
   "execution_count": 104,
   "id": "798cfb8d-1534-40cb-9ad9-05b2d26b9e21",
   "metadata": {},
   "outputs": [
    {
     "data": {
      "text/plain": [
       "[{'name': 'Particulates, > 10 um',\n",
       "  'amount': 0.005,\n",
       "  'unit': 'kilogram',\n",
       "  'categories': ('air',),\n",
       "  'type': 'biosphere',\n",
       "  'comment': 'Originally, it says \"Graphite dust\"'},\n",
       " {'name': 'Oil, crude, in ground',\n",
       "  'amount': 1,\n",
       "  'unit': 'kilogram',\n",
       "  'categories': ('natural resource', 'in ground'),\n",
       "  'type': 'biosphere'}]"
      ]
     },
     "execution_count": 104,
     "metadata": {},
     "output_type": "execute_result"
    }
   ],
   "source": [
    "[u for u in graphite.unlinked if u[\"type\"] == \"biosphere\"]"
   ]
  },
  {
   "cell_type": "markdown",
   "id": "1f208742-a972-4af3-be9b-44211ab7394b",
   "metadata": {},
   "source": [
    "## Migration from ei 3.? to 3.10"
   ]
  },
  {
   "cell_type": "code",
   "execution_count": 105,
   "id": "1d94cbc2-d7d1-4d13-9a1b-47f2af0a7153",
   "metadata": {},
   "outputs": [],
   "source": [
    "migration_graphite = {\n",
    "    \"fields\": [\"name\", \"reference product\", \"location\", \"categories\"],\n",
    "    \"data\": [\n",
    "        (\n",
    "            (\"coking\", \n",
    "             \"coal gas\", \n",
    "             \"ROW\"),\n",
    "            {\"name\": \"coke production\"}\n",
    "        ),\n",
    "        (\n",
    "            (\"Particulates, > 10 um\", \"\", \"\", (\"air\",)),\n",
    "            {\n",
    "                \"name\": \"Particulate Matter, > 10 um\",\n",
    "            },\n",
    "        ),\n",
    "\n",
    "        (\n",
    "            (\"Oil, crude, in ground\", \"\", \"\", (\"'natural resource', 'in ground'\",)),\n",
    "            {\n",
    "                \"name\": \"Oil, crude\",\n",
    "            },\n",
    "        ), \n",
    "        \n",
    "    ],\n",
    "}"
   ]
  },
  {
   "cell_type": "code",
   "execution_count": 106,
   "id": "21ff41f7-859e-4e44-b4ee-c92c07db6521",
   "metadata": {},
   "outputs": [],
   "source": [
    "bi.Migration(name=\"graphite\").write(data=migration_graphite, description=\"graphite\")"
   ]
  },
  {
   "cell_type": "code",
   "execution_count": 107,
   "id": "a0c00687-35ab-48d5-9a62-f78bc494ac98",
   "metadata": {},
   "outputs": [],
   "source": [
    "graphite.data = bi.strategies.migrate_exchanges(\n",
    "    db=graphite.data,\n",
    "    migration=\"graphite\"\n",
    ")"
   ]
  },
  {
   "cell_type": "code",
   "execution_count": 108,
   "id": "4389a4b0-1aab-44a1-8d16-89cea294d917",
   "metadata": {},
   "outputs": [
    {
     "name": "stdout",
     "output_type": "stream",
     "text": [
      "Applying strategy: link_iterable_by_fields\n",
      "Applying strategy: link_iterable_by_fields\n",
      "11 datasets\n",
      "84 exchanges\n",
      "0 unlinked exchanges\n",
      "  \n"
     ]
    },
    {
     "data": {
      "text/plain": [
       "(11, 84, 0)"
      ]
     },
     "execution_count": 108,
     "metadata": {},
     "output_type": "execute_result"
    }
   ],
   "source": [
    "graphite.match_database(\"ecoinvent-3.10-cutoff\", fields=('name', 'reference product', 'unit', 'location'))\n",
    "graphite.match_database(\"biosphere3\", fields=('name', 'unit', 'categories'))\n",
    "graphite.statistics()"
   ]
  },
  {
   "cell_type": "code",
   "execution_count": 109,
   "id": "2fbf9673-71c6-495d-b853-eed8f6093354",
   "metadata": {},
   "outputs": [
    {
     "name": "stderr",
     "output_type": "stream",
     "text": [
      "Writing activities to SQLite3 database:\n",
      "0% [###########] 100% | ETA: 00:00:00\n",
      "Total time elapsed: 00:00:00\n"
     ]
    },
    {
     "name": "stdout",
     "output_type": "stream",
     "text": [
      "Title: Writing activities to SQLite3 database:\n",
      "  Started: 10/25/2024 14:10:37\n",
      "  Finished: 10/25/2024 14:10:37\n",
      "  Total time elapsed: 00:00:00\n",
      "  CPU %: 0.00\n",
      "  Memory %: 0.99\n",
      "Created database: graphite\n"
     ]
    }
   ],
   "source": [
    "if len(list(graphite.unlinked)) == 0:\n",
    "    graphite.write_database()"
   ]
  },
  {
   "cell_type": "markdown",
   "id": "e095a21a-ac89-4f8e-99b3-8ac44b9b1383",
   "metadata": {},
   "source": [
    "# First LCA and contribution analysis "
   ]
  },
  {
   "cell_type": "code",
   "execution_count": null,
   "id": "d6aa08ab-1956-4939-866b-e22477a71908",
   "metadata": {},
   "outputs": [],
   "source": []
  },
  {
   "cell_type": "code",
   "execution_count": null,
   "id": "e6882521-bd39-49bc-ad74-8926ae85af44",
   "metadata": {},
   "outputs": [],
   "source": []
  },
  {
   "cell_type": "code",
   "execution_count": 28,
   "id": "cbb31280-97d1-46f9-88e5-d496029914ed",
   "metadata": {},
   "outputs": [],
   "source": [
    "db = bd.Database(\"lithium\")"
   ]
  },
  {
   "cell_type": "code",
   "execution_count": 29,
   "id": "46cb4a2b-8930-4055-98db-583c11940e97",
   "metadata": {},
   "outputs": [
    {
     "data": {
      "text/plain": [
       "['lithium brine filtering, via ion exchanger',\n",
       " 'lithium carbonate precipitation 2',\n",
       " 'lithium carbonate precipitation 2, from Salar de Olaroz',\n",
       " 'lithium brine production, sulfate removal, from Salar de Cauchari-Olaroz',\n",
       " 'market for lithium carbonate, battery grade',\n",
       " 'lithium brine production, from evaporation pond, from Salar de Cauchari-Olaroz',\n",
       " 'lithium carbonate precipitation 2',\n",
       " 'dearomatized hydrocarbon fluid production',\n",
       " 'lithium brine purifying, via membrane separation',\n",
       " 'lithium carbonate production, from Salar de Cauchari-Olaroz',\n",
       " 'lithium brine production, manganese removal, from Salar del Hombre Muerto',\n",
       " 'lithium carbonate precipitation 1, from Salar de Olaroz',\n",
       " 'lithium carbonate precipitation 2, from Salar de Cauchari-Olaroz',\n",
       " 'market for lithium hydroxide, battery grade',\n",
       " 'filtering, through water ion exchanger',\n",
       " 'lithium brine production, from evaporation pond',\n",
       " 'lithium brine production, boron removal, from Salar de Cauchari-Olaroz',\n",
       " 'lithium brine production, manganese removal',\n",
       " 'lithium carbonate precipitation 1',\n",
       " 'water, pure, via reverse osmosis',\n",
       " 'lithium carbonate production, from Salar de Atacama',\n",
       " 'lithium carbonate production, from Salar del Hombre Muerto',\n",
       " 'lithium carbonate production, from Salar de Olaroz',\n",
       " 'lithium carbonate precipitation 1, from Salar de Cauchari-Olaroz',\n",
       " 'lithium carbonate production, from Chaerhan salt lake',\n",
       " 'lithium carbonate precipitation 1, from Salar del Hombre Muerto',\n",
       " 'lithium hydroxide production, battery grade',\n",
       " 'lithium brine production, from evaporation pond, from Salar de Olaroz',\n",
       " 'lithium carbonate precipitation 2, from Salar del Hombre Muerto',\n",
       " 'lithium brine production, boron removal, from Salar del Hombre Muerto',\n",
       " 'lithium brine production, from Li-ion selective adsorption',\n",
       " 'water, pure, via reverse osmosis',\n",
       " 'lithium brine production, boron removal',\n",
       " 'water, pure, via reverse osmosis',\n",
       " 'lithium brine production, manganese removal, from Salar de Cauchari-Olaroz',\n",
       " 'lithium brine production, from evaporation pond, from Salar del Hombre Muerto',\n",
       " 'lithium brine production, lime removal, from Salar de Cauchari-Olaroz',\n",
       " 'lithium carbonate precipitation 1',\n",
       " 'lithium brine production, lime removal',\n",
       " 'lithium carbonate washing']"
      ]
     },
     "execution_count": 29,
     "metadata": {},
     "output_type": "execute_result"
    }
   ],
   "source": [
    "[a[\"name\"] for a in db]"
   ]
  },
  {
   "cell_type": "code",
   "execution_count": 30,
   "id": "3f48e3db-b613-4857-a329-d7dc0f4b157c",
   "metadata": {},
   "outputs": [
    {
     "data": {
      "text/plain": [
       "'lithium carbonate production, from Salar de Olaroz' (kilogram, AR, None)"
      ]
     },
     "execution_count": 30,
     "metadata": {},
     "output_type": "execute_result"
    }
   ],
   "source": [
    "activity = db.search('lithium carbonate production, from Salar de Olaroz')[0]\n",
    "activity"
   ]
  },
  {
   "cell_type": "code",
   "execution_count": 31,
   "id": "2f9b4df7-5b61-45b7-9d4a-8f544f47c323",
   "metadata": {},
   "outputs": [],
   "source": [
    "method = ('IPCC 2021', 'climate change', 'global warming potential (GWP100)')"
   ]
  },
  {
   "cell_type": "code",
   "execution_count": 32,
   "id": "30fd67c2-b074-44a2-a3fd-173390953838",
   "metadata": {},
   "outputs": [
    {
     "data": {
      "text/plain": [
       "7.173828041002922"
      ]
     },
     "execution_count": 32,
     "metadata": {},
     "output_type": "execute_result"
    }
   ],
   "source": [
    "lca = bc.LCA({activity:1}, method)\n",
    "lca.lci()\n",
    "lca.lcia()\n",
    "lca.score"
   ]
  },
  {
   "cell_type": "code",
   "execution_count": 33,
   "id": "c1436d37-8d55-4178-b735-4ec957df676a",
   "metadata": {},
   "outputs": [],
   "source": [
    "rev_prod, rev_act, rev_bio = lca.reverse_dict()"
   ]
  },
  {
   "cell_type": "code",
   "execution_count": 34,
   "id": "100517e5-3e91-4e87-b765-9aa9669d0179",
   "metadata": {},
   "outputs": [],
   "source": [
    "results_by_activity = (lca.characterized_inventory.sum(axis=0)).A1"
   ]
  },
  {
   "cell_type": "code",
   "execution_count": 35,
   "id": "18b59a07-636b-4e39-97d1-3018d92c6ae6",
   "metadata": {},
   "outputs": [],
   "source": [
    "# Create a list of names in columns\n",
    "list_of_names_in_columns = [\n",
    "    bd.get_activity(rev_prod[col])['name'] \n",
    "    for col in range((lca.characterized_inventory.sum(axis=0)).shape[1])\n",
    "]"
   ]
  },
  {
   "cell_type": "code",
   "execution_count": 36,
   "id": "4c27da22-2eb5-4857-aaf0-39cb985587ec",
   "metadata": {},
   "outputs": [
    {
     "data": {
      "text/plain": [
       "quicklime production, in pieces, loose                                  4.358338\n",
       "heat and power co-generation, natural gas, 1MW electrical, lean burn    0.426493\n",
       "heat and power co-generation, natural gas, 1MW electrical, lean burn    0.334404\n",
       "natural gas venting from petroleum/natural gas production               0.267388\n",
       "machine operation, diesel, >= 74.57 kW, high load factor                0.179278\n",
       "heat production, at hard coal industrial furnace 1-10MW                 0.158810\n",
       "electricity production, natural gas, combined cycle power plant         0.140191\n",
       "sweet gas, burned in gas turbine                                        0.088294\n",
       "heat production, heavy fuel oil, at industrial furnace 1MW              0.055987\n",
       "electricity production, natural gas, conventional power plant           0.054553\n",
       "dtype: float64"
      ]
     },
     "execution_count": 36,
     "metadata": {},
     "output_type": "execute_result"
    }
   ],
   "source": [
    "pd.Series(index=list_of_names_in_columns, data=results_by_activity).sort_values(ascending=False).head(10)"
   ]
  },
  {
   "cell_type": "code",
   "execution_count": 37,
   "id": "3b3af6b0-4228-42bd-88e8-9f79df122c5a",
   "metadata": {},
   "outputs": [],
   "source": [
    "# Same analysis but streamlined with bw2analyzer\n",
    "import bw2analyzer as ba"
   ]
  },
  {
   "cell_type": "code",
   "execution_count": 38,
   "id": "5afed7a5-a8d1-4716-b8ac-c786537d523b",
   "metadata": {},
   "outputs": [
    {
     "data": {
      "text/html": [
       "<div>\n",
       "<style scoped>\n",
       "    .dataframe tbody tr th:only-of-type {\n",
       "        vertical-align: middle;\n",
       "    }\n",
       "\n",
       "    .dataframe tbody tr th {\n",
       "        vertical-align: top;\n",
       "    }\n",
       "\n",
       "    .dataframe thead th {\n",
       "        text-align: right;\n",
       "    }\n",
       "</style>\n",
       "<table border=\"1\" class=\"dataframe\">\n",
       "  <thead>\n",
       "    <tr style=\"text-align: right;\">\n",
       "      <th></th>\n",
       "      <th>score</th>\n",
       "      <th>quantity</th>\n",
       "      <th>name</th>\n",
       "    </tr>\n",
       "  </thead>\n",
       "  <tbody>\n",
       "    <tr>\n",
       "      <th>0</th>\n",
       "      <td>4.358338</td>\n",
       "      <td>4.038992</td>\n",
       "      <td>quicklime production, in pieces, loose</td>\n",
       "    </tr>\n",
       "    <tr>\n",
       "      <th>1</th>\n",
       "      <td>0.426493</td>\n",
       "      <td>19.194086</td>\n",
       "      <td>heat and power co-generation, natural gas, 1MW...</td>\n",
       "    </tr>\n",
       "    <tr>\n",
       "      <th>2</th>\n",
       "      <td>0.334404</td>\n",
       "      <td>0.709332</td>\n",
       "      <td>heat and power co-generation, natural gas, 1MW...</td>\n",
       "    </tr>\n",
       "    <tr>\n",
       "      <th>3</th>\n",
       "      <td>0.267388</td>\n",
       "      <td>0.015326</td>\n",
       "      <td>natural gas venting from petroleum/natural gas...</td>\n",
       "    </tr>\n",
       "    <tr>\n",
       "      <th>4</th>\n",
       "      <td>0.179278</td>\n",
       "      <td>0.001489</td>\n",
       "      <td>machine operation, diesel, &gt;= 74.57 kW, high l...</td>\n",
       "    </tr>\n",
       "    <tr>\n",
       "      <th>5</th>\n",
       "      <td>0.158810</td>\n",
       "      <td>1.379878</td>\n",
       "      <td>heat production, at hard coal industrial furna...</td>\n",
       "    </tr>\n",
       "    <tr>\n",
       "      <th>6</th>\n",
       "      <td>0.140191</td>\n",
       "      <td>0.369140</td>\n",
       "      <td>electricity production, natural gas, combined ...</td>\n",
       "    </tr>\n",
       "    <tr>\n",
       "      <th>7</th>\n",
       "      <td>0.088294</td>\n",
       "      <td>1.318448</td>\n",
       "      <td>sweet gas, burned in gas turbine</td>\n",
       "    </tr>\n",
       "    <tr>\n",
       "      <th>8</th>\n",
       "      <td>0.055987</td>\n",
       "      <td>0.670654</td>\n",
       "      <td>heat production, heavy fuel oil, at industrial...</td>\n",
       "    </tr>\n",
       "    <tr>\n",
       "      <th>9</th>\n",
       "      <td>0.054553</td>\n",
       "      <td>0.098830</td>\n",
       "      <td>electricity production, natural gas, conventio...</td>\n",
       "    </tr>\n",
       "    <tr>\n",
       "      <th>10</th>\n",
       "      <td>0.039495</td>\n",
       "      <td>0.579955</td>\n",
       "      <td>treatment of waste natural gas, sweet, burned ...</td>\n",
       "    </tr>\n",
       "    <tr>\n",
       "      <th>11</th>\n",
       "      <td>0.034392</td>\n",
       "      <td>0.084980</td>\n",
       "      <td>hard coal mine operation and hard coal prepara...</td>\n",
       "    </tr>\n",
       "    <tr>\n",
       "      <th>12</th>\n",
       "      <td>0.031281</td>\n",
       "      <td>0.034211</td>\n",
       "      <td>electricity production, oil</td>\n",
       "    </tr>\n",
       "    <tr>\n",
       "      <th>13</th>\n",
       "      <td>0.031255</td>\n",
       "      <td>0.423076</td>\n",
       "      <td>diesel, burned in building machine</td>\n",
       "    </tr>\n",
       "    <tr>\n",
       "      <th>14</th>\n",
       "      <td>0.028098</td>\n",
       "      <td>0.299741</td>\n",
       "      <td>heavy fuel oil production, petroleum refinery ...</td>\n",
       "    </tr>\n",
       "    <tr>\n",
       "      <th>15</th>\n",
       "      <td>0.024049</td>\n",
       "      <td>0.208960</td>\n",
       "      <td>heat production, at hard coal industrial furna...</td>\n",
       "    </tr>\n",
       "    <tr>\n",
       "      <th>16</th>\n",
       "      <td>0.022367</td>\n",
       "      <td>0.010498</td>\n",
       "      <td>treatment of waste graphical paper, unsanitary...</td>\n",
       "    </tr>\n",
       "    <tr>\n",
       "      <th>17</th>\n",
       "      <td>0.018354</td>\n",
       "      <td>0.021617</td>\n",
       "      <td>pig iron production</td>\n",
       "    </tr>\n",
       "    <tr>\n",
       "      <th>18</th>\n",
       "      <td>0.017629</td>\n",
       "      <td>0.014186</td>\n",
       "      <td>transport, freight, light commercial vehicle</td>\n",
       "    </tr>\n",
       "    <tr>\n",
       "      <th>19</th>\n",
       "      <td>0.015862</td>\n",
       "      <td>0.011732</td>\n",
       "      <td>electricity production, hard coal</td>\n",
       "    </tr>\n",
       "    <tr>\n",
       "      <th>20</th>\n",
       "      <td>0.013830</td>\n",
       "      <td>2.528845</td>\n",
       "      <td>transport, freight, sea, bulk carrier for dry ...</td>\n",
       "    </tr>\n",
       "    <tr>\n",
       "      <th>21</th>\n",
       "      <td>0.013430</td>\n",
       "      <td>0.179941</td>\n",
       "      <td>diesel, burned in diesel-electric generating s...</td>\n",
       "    </tr>\n",
       "    <tr>\n",
       "      <th>22</th>\n",
       "      <td>0.012037</td>\n",
       "      <td>0.012629</td>\n",
       "      <td>electricity production, hard coal</td>\n",
       "    </tr>\n",
       "    <tr>\n",
       "      <th>23</th>\n",
       "      <td>0.011420</td>\n",
       "      <td>0.836646</td>\n",
       "      <td>market for electricity, high voltage</td>\n",
       "    </tr>\n",
       "    <tr>\n",
       "      <th>24</th>\n",
       "      <td>0.011156</td>\n",
       "      <td>0.056955</td>\n",
       "      <td>diesel production, petroleum refinery operation</td>\n",
       "    </tr>\n",
       "  </tbody>\n",
       "</table>\n",
       "</div>"
      ],
      "text/plain": [
       "       score   quantity                                               name\n",
       "0   4.358338   4.038992             quicklime production, in pieces, loose\n",
       "1   0.426493  19.194086  heat and power co-generation, natural gas, 1MW...\n",
       "2   0.334404   0.709332  heat and power co-generation, natural gas, 1MW...\n",
       "3   0.267388   0.015326  natural gas venting from petroleum/natural gas...\n",
       "4   0.179278   0.001489  machine operation, diesel, >= 74.57 kW, high l...\n",
       "5   0.158810   1.379878  heat production, at hard coal industrial furna...\n",
       "6   0.140191   0.369140  electricity production, natural gas, combined ...\n",
       "7   0.088294   1.318448                   sweet gas, burned in gas turbine\n",
       "8   0.055987   0.670654  heat production, heavy fuel oil, at industrial...\n",
       "9   0.054553   0.098830  electricity production, natural gas, conventio...\n",
       "10  0.039495   0.579955  treatment of waste natural gas, sweet, burned ...\n",
       "11  0.034392   0.084980  hard coal mine operation and hard coal prepara...\n",
       "12  0.031281   0.034211                        electricity production, oil\n",
       "13  0.031255   0.423076                 diesel, burned in building machine\n",
       "14  0.028098   0.299741  heavy fuel oil production, petroleum refinery ...\n",
       "15  0.024049   0.208960  heat production, at hard coal industrial furna...\n",
       "16  0.022367   0.010498  treatment of waste graphical paper, unsanitary...\n",
       "17  0.018354   0.021617                                pig iron production\n",
       "18  0.017629   0.014186       transport, freight, light commercial vehicle\n",
       "19  0.015862   0.011732                  electricity production, hard coal\n",
       "20  0.013830   2.528845  transport, freight, sea, bulk carrier for dry ...\n",
       "21  0.013430   0.179941  diesel, burned in diesel-electric generating s...\n",
       "22  0.012037   0.012629                  electricity production, hard coal\n",
       "23  0.011420   0.836646               market for electricity, high voltage\n",
       "24  0.011156   0.056955    diesel production, petroleum refinery operation"
      ]
     },
     "execution_count": 38,
     "metadata": {},
     "output_type": "execute_result"
    }
   ],
   "source": [
    "pd.DataFrame(\n",
    "    [(x, y, z[\"name\"]) for x, y, z in ba.ContributionAnalysis().annotated_top_processes(lca=lca)],\n",
    "    columns=[\"score\", \"quantity\", \"name\"]\n",
    ")"
   ]
  },
  {
   "cell_type": "code",
   "execution_count": 1,
   "id": "157356c7-6784-4653-8eae-e181e20bdc0c",
   "metadata": {},
   "outputs": [
    {
     "ename": "NameError",
     "evalue": "name 'pd' is not defined",
     "output_type": "error",
     "traceback": [
      "\u001B[1;31m---------------------------------------------------------------------------\u001B[0m",
      "\u001B[1;31mNameError\u001B[0m                                 Traceback (most recent call last)",
      "Cell \u001B[1;32mIn[1], line 1\u001B[0m\n\u001B[1;32m----> 1\u001B[0m \u001B[43mpd\u001B[49m\u001B[38;5;241m.\u001B[39mDataFrame(\n\u001B[0;32m      2\u001B[0m     [(x, y, z[\u001B[38;5;124m\"\u001B[39m\u001B[38;5;124mname\u001B[39m\u001B[38;5;124m\"\u001B[39m]) \u001B[38;5;28;01mfor\u001B[39;00m x, y, z \u001B[38;5;129;01min\u001B[39;00m ba\u001B[38;5;241m.\u001B[39mContributionAnalysis()\u001B[38;5;241m.\u001B[39mannotated_top_emissions(lca\u001B[38;5;241m=\u001B[39mlca)],\n\u001B[0;32m      3\u001B[0m     columns\u001B[38;5;241m=\u001B[39m[\u001B[38;5;124m\"\u001B[39m\u001B[38;5;124mscore\u001B[39m\u001B[38;5;124m\"\u001B[39m, \u001B[38;5;124m\"\u001B[39m\u001B[38;5;124mquantity\u001B[39m\u001B[38;5;124m\"\u001B[39m, \u001B[38;5;124m\"\u001B[39m\u001B[38;5;124mname\u001B[39m\u001B[38;5;124m\"\u001B[39m]\n\u001B[0;32m      4\u001B[0m )\n",
      "\u001B[1;31mNameError\u001B[0m: name 'pd' is not defined"
     ]
    }
   ],
   "source": [
    "pd.DataFrame(\n",
    "    [(x, y, z[\"name\"]) for x, y, z in ba.ContributionAnalysis().annotated_top_emissions(lca=lca)],\n",
    "    columns=[\"score\", \"quantity\", \"name\"]\n",
    ")"
   ]
  },
  {
   "cell_type": "code",
   "execution_count": null,
   "id": "cdf9f1d2-7c5f-48dc-8995-0a4ffc1fb8b9",
   "metadata": {},
   "outputs": [],
   "source": []
  }
 ],
 "metadata": {
  "kernelspec": {
   "display_name": "Python 3 (ipykernel)",
   "language": "python",
   "name": "python3"
  },
  "language_info": {
   "codemirror_mode": {
    "name": "ipython",
    "version": 3
   },
   "file_extension": ".py",
   "mimetype": "text/x-python",
   "name": "python",
   "nbconvert_exporter": "python",
   "pygments_lexer": "ipython3",
   "version": "3.10.15"
  }
 },
 "nbformat": 4,
 "nbformat_minor": 5
}
