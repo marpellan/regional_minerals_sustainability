{
 "cells": [
  {
   "cell_type": "code",
   "id": "initial_id",
   "metadata": {
    "collapsed": true,
    "ExecuteTime": {
     "end_time": "2024-10-31T13:21:55.314376Z",
     "start_time": "2024-10-31T13:21:43.326280Z"
    }
   },
   "source": [
    "# Brightway imports\n",
    "import bw2analyzer as ba\n",
    "import bw2calc as bc\n",
    "import bw2data as bd\n",
    "import bw2io as bi\n",
    "import brightway2 as bw\n",
    "from bw2data import parameters\n",
    "from sympy.physics.units import years"
   ],
   "outputs": [],
   "execution_count": 1
  },
  {
   "metadata": {
    "ExecuteTime": {
     "end_time": "2024-10-31T13:21:55.346295Z",
     "start_time": "2024-10-31T13:21:55.331466Z"
    }
   },
   "cell_type": "code",
   "source": [
    "import pandas as pd\n",
    "import numpy as np\n",
    "import datetime\n",
    "import os"
   ],
   "id": "e6c3ad7bb6895a47",
   "outputs": [],
   "execution_count": 2
  },
  {
   "metadata": {},
   "cell_type": "code",
   "outputs": [],
   "execution_count": null,
   "source": [
    "BW_PROJECT = 'lib_rm' # insert your project name here\n",
    "bd.projects.set_current(BW_PROJECT)\n",
    "\n",
    "EI_DB = 'ecoinvent-3.10-cutoff' # name of ecoinvent database in your project\n",
    "LIB_RM_DB = \"LIB raw materials\""
   ],
   "id": "3a63a1ecc7f25302"
  },
  {
   "metadata": {},
   "cell_type": "code",
   "outputs": [],
   "execution_count": null,
   "source": [
    "USER_DB = ''\n",
    "BG_DB = 'ecoinvent 3.8 cutoff'"
   ],
   "id": "2375cec97b3edb24"
  },
  {
   "metadata": {
    "ExecuteTime": {
     "end_time": "2024-10-31T13:22:11.793221Z",
     "start_time": "2024-10-31T13:22:10.400262Z"
    }
   },
   "cell_type": "code",
   "source": [
    "# Custom utils defined for the parameterization\n",
    "from lca_algebraic import *\n",
    "from lca_algebraic.stats import * "
   ],
   "id": "5b7142754dbb6a95",
   "outputs": [],
   "execution_count": 3
  },
  {
   "metadata": {},
   "cell_type": "code",
   "outputs": [],
   "execution_count": null,
   "source": "",
   "id": "c2e3766ac93ecff7"
  },
  {
   "metadata": {},
   "cell_type": "code",
   "outputs": [],
   "execution_count": null,
   "source": "",
   "id": "7aad021e264acb19"
  },
  {
   "metadata": {},
   "cell_type": "code",
   "outputs": [],
   "execution_count": null,
   "source": [
    "# Recommendations from lca_algebraic\n",
    "\n",
    "# This is better to cleanup the whole foreground model each time, and redefine it in the notebook\n",
    "# instead of relying on a state or previous run.\n",
    "# Any persistent state is prone to errors.\n",
    "resetDb(USER_DB)\n",
    "\n",
    "# Parameters are stored at project level : \n",
    "# Reset them also\n",
    "# You may remove this line if you import a project and parameters from an external source (see loadParam(..))\n",
    "resetParams()"
   ],
   "id": "f07f810a91ba4352"
  },
  {
   "metadata": {},
   "cell_type": "code",
   "outputs": [],
   "execution_count": null,
   "source": "",
   "id": "fe3e38442ed524af"
  },
  {
   "metadata": {},
   "cell_type": "markdown",
   "source": "# Defining input parameters",
   "id": "42a2b269d077abf0"
  },
  {
   "metadata": {},
   "cell_type": "markdown",
   "source": "## Mining phases",
   "id": "f22d649a86c55f0d"
  },
  {
   "metadata": {},
   "cell_type": "markdown",
   "source": [
    "The following parameters are included:\n",
    "\n",
    "- ore grade,\n",
    "- mining technique mix (open cast, underground, ISL),\n",
    "- tailings emissions,\n",
    "- mining energy mix (diesel or electricity)."
   ],
   "id": "f117736b1f292200"
  },
  {
   "metadata": {},
   "cell_type": "markdown",
   "source": "",
   "id": "1f9b98037d7d6971"
  },
  {
   "metadata": {},
   "cell_type": "markdown",
   "source": "### Ore grade",
   "id": "23bf3a6a9776bf53"
  },
  {
   "metadata": {},
   "cell_type": "markdown",
   "source": [
    "Ore grade decline are observed for copper, zinc, lead and nickel in Van der Voet et al (2019). 10.1111/jiec.12722, who takes information from various sources (Mudd et al. (2017), Crowson (2012), Mudd & Jowit (2013), Northey et al. (2014) and Mudd et al. (2013)). The energy ore grade relation developed above defines how energy inputs change as a function of the\n",
    "ore grade. Instead of developing a function for each individual input and output, we\n",
    "assume that the energy change can serve as a proxy for the change of other inputs\n",
    "and outputs. Thus, we model the effects of ore grade decline on the mining process\n",
    "by applying the percentage energy change to all other input and output values. The only process affected by an ore grade decline is the metal mine operation."
   ],
   "id": "2bb48932e2e56b8e"
  },
  {
   "metadata": {},
   "cell_type": "markdown",
   "source": [
    "1 - Definition of future ore grades G(t) and G(t0) for base years\n",
    "2 - Definition of energy requirements E(G) based on the energy-ore relation from literature\n",
    "3 - Calculate a percentage change p(t) between the base year and the future years\n",
    "4 - Calculate modelling factor, which is applied to outflows of mining processes in ecoivent to model how inputs and outputs of mining processes change"
   ],
   "id": "ca979a9c5781cefb"
  },
  {
   "metadata": {},
   "cell_type": "markdown",
   "source": [
    "1 - We first use a distribution to generate a set of possible ore grades. This distribution reflects uncertainty in the ore grade parameters\n",
    "2 - We calculate the energy requirement for each sample based on the ore grade - energy requirement for each sample"
   ],
   "id": "243228d6da025d2d"
  },
  {
   "metadata": {},
   "cell_type": "code",
   "outputs": [],
   "execution_count": null,
   "source": [
    "# Ore grade (TRIANGULAR distribution)\n",
    "ore_grade = newFloatParam(\n",
    "    'ore_grade', \n",
    "    default=0.0015,\n",
    "    min=    0.00001,\n",
    "    max=    0.020,\n",
    "    unit='dimensionless',\n",
    "    distrib=DistributionType.TRIANGLE, # can be changed to LOGNORMAL or other \n",
    "    description=\"Uranium ore (U3O8) grade as commonly reported, from 0.02% to 20%, however we use 10 ppm – 20000 ppm (2%) as a conservative range\",\n",
    "    label=\"Uranium ore grade\",\n",
    "    dbname=USER_DB)\n",
    "\n",
    "# We will be using the values from Table 4 above\n",
    "# These are the official values from the IAEA's UDEPO database\n",
    "og_avg = 0.001544\n",
    "og_std = 0.001299\n",
    "\n",
    "# Ore grade (LOGNORMAL distribution)\n",
    "ore_grade = newFloatParam(\n",
    "    'ore_grade', \n",
    "    default=og_avg,\n",
    "    std=    np.log(1+(og_std/og_avg)**2)**.5, # careful, std for a lognormal distribution is actually the lognormal of the std\n",
    "    min=    0.00001,\n",
    "    max=    0.020,\n",
    "    unit='dimensionless',\n",
    "    distrib=DistributionType.LOGNORMAL,\n",
    "    description=\"Uranium ore (U3O8) grade as commonly reported, from 0.02% to 20%, however we use 10 ppm – 20000 ppm (2%) as a conservative range\",\n",
    "    label=\"Uranium ore grade\",\n",
    "    dbname=USER_DB)\n",
    "\n",
    "ore_grade.mean = np.log(og_avg/(1+(og_std/og_avg)**2)**.5)\n",
    "ore_grade.sigma = og_std"
   ],
   "id": "492681123f347bb0"
  },
  {
   "metadata": {},
   "cell_type": "markdown",
   "source": "### Mining techniques",
   "id": "c59bc54f8eba3ad8"
  },
  {
   "metadata": {},
   "cell_type": "code",
   "outputs": [],
   "execution_count": null,
   "source": [
    "mining_shares = {'open_pit':.161/.935,\n",
    "                'underground':.200/.935,\n",
    "                'ISL':0.574/.935}"
   ],
   "id": "4abcf775ec591482"
  },
  {
   "metadata": {},
   "cell_type": "markdown",
   "source": "### Mining energy mix",
   "id": "73cec7293dc9488e"
  },
  {
   "metadata": {},
   "cell_type": "code",
   "outputs": [],
   "execution_count": null,
   "source": [
    "mining_energy_shares = {'diesel':0.3,\n",
    "                        'electricity':0.7}"
   ],
   "id": "956e1d0448a7a635"
  },
  {
   "metadata": {},
   "cell_type": "code",
   "outputs": [],
   "execution_count": null,
   "source": [
    "# Total energy for extraction : where does that come from ???\n",
    "\n",
    "a_op = 274\n",
    "b_op = -0.482\n",
    "\n",
    "a_ug = 317\n",
    "b_ug = -0.176\n",
    "\n",
    "a_is = 220\n",
    "b_is = -0.0485\n",
    "\n",
    "extraction_energy_open_pit = a_op * exp(b_op * ore_grade) / recovery_rate\n",
    "extraction_energy_underground = a_ug * exp(b_ug * ore_grade) / recovery_rate\n",
    "extraction_energy_ISL = a_is * exp(b_is * ore_grade) / recovery_rate"
   ],
   "id": "69ae61103c372219"
  },
  {
   "metadata": {},
   "cell_type": "code",
   "outputs": [],
   "execution_count": null,
   "source": [
    "mining_electricity_switch = newEnumParam(\n",
    "    'mining_electricity_switch', \n",
    "    label='Mining electricity, grid or diesel',\n",
    "    values=['dieselgenerator',\n",
    "            'grid'], # You can provide a statistical weight for each value, by using a dict\n",
    "    default='dieselgenerator', \n",
    "    description=\"Choice of electricity source for mining\",\n",
    "    dbname=USER_DB)"
   ],
   "id": "7c04b8e77bc5ea7b"
  },
  {
   "metadata": {},
   "cell_type": "markdown",
   "source": "### Emissions",
   "id": "10dd66cb6c4ba1b2"
  },
  {
   "metadata": {
    "ExecuteTime": {
     "end_time": "2024-10-31T16:06:19.016888Z",
     "start_time": "2024-10-31T16:06:17.836745Z"
    }
   },
   "cell_type": "code",
   "source": [
    "# Emissions of radon-222 from tailings\n",
    "tailings_Rn222 = newFloatParam(\n",
    "    'tailings_Rn222', \n",
    "    default=0.01951, min=0.01, max=1,\n",
    "    distrib=DistributionType.TRIANGLE, # Distribution type, linear by default\n",
    "    description=\"Rn222 from tailings, in Bq/s\",\n",
    "    label=\"Rn222 from tailings, in Bq/s\",\n",
    "    unit='Bq/s',\n",
    "    dbname=USER_DB)"
   ],
   "id": "c6eff713e09136ef",
   "outputs": [
    {
     "ename": "NameError",
     "evalue": "name 'USER_DB' is not defined",
     "output_type": "error",
     "traceback": [
      "\u001B[1;31m---------------------------------------------------------------------------\u001B[0m",
      "\u001B[1;31mNameError\u001B[0m                                 Traceback (most recent call last)",
      "Cell \u001B[1;32mIn[12], line 9\u001B[0m\n\u001B[0;32m      1\u001B[0m \u001B[38;5;66;03m# Emissions of radon-222 from tailings\u001B[39;00m\n\u001B[0;32m      2\u001B[0m tailings_Rn222 \u001B[38;5;241m=\u001B[39m newFloatParam(\n\u001B[0;32m      3\u001B[0m     \u001B[38;5;124m'\u001B[39m\u001B[38;5;124mtailings_Rn222\u001B[39m\u001B[38;5;124m'\u001B[39m, \n\u001B[0;32m      4\u001B[0m     default\u001B[38;5;241m=\u001B[39m\u001B[38;5;241m0.01951\u001B[39m, \u001B[38;5;28mmin\u001B[39m\u001B[38;5;241m=\u001B[39m\u001B[38;5;241m0.01\u001B[39m, \u001B[38;5;28mmax\u001B[39m\u001B[38;5;241m=\u001B[39m\u001B[38;5;241m1\u001B[39m,\n\u001B[0;32m      5\u001B[0m     distrib\u001B[38;5;241m=\u001B[39mDistributionType\u001B[38;5;241m.\u001B[39mTRIANGLE, \u001B[38;5;66;03m# Distribution type, linear by default\u001B[39;00m\n\u001B[0;32m      6\u001B[0m     description\u001B[38;5;241m=\u001B[39m\u001B[38;5;124m\"\u001B[39m\u001B[38;5;124mRn222 from tailings, in Bq/s\u001B[39m\u001B[38;5;124m\"\u001B[39m,\n\u001B[0;32m      7\u001B[0m     label\u001B[38;5;241m=\u001B[39m\u001B[38;5;124m\"\u001B[39m\u001B[38;5;124mRn222 from tailings, in Bq/s\u001B[39m\u001B[38;5;124m\"\u001B[39m,\n\u001B[0;32m      8\u001B[0m     unit\u001B[38;5;241m=\u001B[39m\u001B[38;5;124m'\u001B[39m\u001B[38;5;124mBq/s\u001B[39m\u001B[38;5;124m'\u001B[39m,\n\u001B[1;32m----> 9\u001B[0m     dbname\u001B[38;5;241m=\u001B[39m\u001B[43mUSER_DB\u001B[49m)\n",
      "\u001B[1;31mNameError\u001B[0m: name 'USER_DB' is not defined"
     ]
    }
   ],
   "execution_count": 12
  },
  {
   "metadata": {},
   "cell_type": "code",
   "outputs": [],
   "execution_count": null,
   "source": "",
   "id": "166df7ba71fe579e"
  },
  {
   "metadata": {},
   "cell_type": "code",
   "outputs": [],
   "execution_count": null,
   "source": "",
   "id": "2528debf435e4b03"
  },
  {
   "metadata": {},
   "cell_type": "markdown",
   "source": "## Concentration phase ",
   "id": "eb6de3ac8cad23c8"
  },
  {
   "metadata": {},
   "cell_type": "markdown",
   "source": [
    "The following parameters are included:\n",
    "\n",
    "- xxx\n"
   ],
   "id": "1e39968a31c4931d"
  },
  {
   "metadata": {},
   "cell_type": "code",
   "outputs": [],
   "execution_count": null,
   "source": [
    "# Conversion phase, heat consumption\n",
    "conversion_heat = newFloatParam(\n",
    "    'conversion_heat', \n",
    "    default=26, min=26, max=665,\n",
    "    distrib=DistributionType.TRIANGLE,\n",
    "    label='Conversion heat input',\n",
    "    unit='kWh/kg U in UF6',\n",
    "    description=\"Heat required to convert 1 kg of UF6\",\n",
    "    dbname=USER_DB)"
   ],
   "id": "86681730cfabd0bc"
  },
  {
   "metadata": {},
   "cell_type": "markdown",
   "source": "## Refining stage ",
   "id": "c5405eced32a31df"
  },
  {
   "metadata": {},
   "cell_type": "markdown",
   "source": "### List of all parameters ",
   "id": "ca35e5532d521216"
  },
  {
   "metadata": {},
   "cell_type": "code",
   "outputs": [],
   "execution_count": null,
   "source": "list_parameters() # recap of all parameters declared in the model ",
   "id": "f2d9b5e49fbb293d"
  },
  {
   "metadata": {},
   "cell_type": "code",
   "outputs": [],
   "execution_count": null,
   "source": [
    "# And because a figure is worth 1000 words\n",
    "utils._plot_params([p for p in params._param_registry().all() if p.distrib in ['linear', 'triangle', 'lognormal']], columns=5, size=2000, figsize=(16,9))\n",
    "plt.savefig('output/parameters.svg')"
   ],
   "id": "92601dfe84662349"
  },
  {
   "metadata": {},
   "cell_type": "code",
   "outputs": [],
   "execution_count": null,
   "source": "",
   "id": "f5835014d99ea32d"
  },
  {
   "metadata": {},
   "cell_type": "code",
   "outputs": [],
   "execution_count": null,
   "source": "",
   "id": "7532d822d846316a"
  },
  {
   "metadata": {},
   "cell_type": "markdown",
   "source": "# Transforming and updating parametrized inventories",
   "id": "336133cbdc012a96"
  },
  {
   "metadata": {},
   "cell_type": "code",
   "outputs": [],
   "execution_count": null,
   "source": [
    "# Mining and milling\n",
    "tailings         = findActivity('Tailing, from uranium milling, WNA', loc='EUR', db_name='UNEP_IRP_EUR')\n",
    "open_pit         = findActivity('Uranium mine operation, open cast, WNA', loc='GLO', db_name='UNEP_IRP_EUR')\n",
    "underground      = findActivity('Uranium mine operation, underground, WNA', loc='GLO', db_name='UNEP_IRP_EUR')\n",
    "ISL              = findActivity('Uranium mine operation, in-situ leaching, WNA', loc='GLO', db_name='UNEP_IRP_EUR')"
   ],
   "id": "b10df82c9df9d2a8"
  },
  {
   "metadata": {},
   "cell_type": "code",
   "outputs": [],
   "execution_count": null,
   "source": [
    "# Copy to preserve the non-parametrized inventories \n",
    "open_pit_p = copyActivity(\n",
    "    USER_DB,\n",
    "    open_pit,\n",
    "    'Uranium mine operation, open cast, parameterized')"
   ],
   "id": "17dd71fbd6ecd39"
  },
  {
   "metadata": {},
   "cell_type": "code",
   "outputs": [],
   "execution_count": null,
   "source": [
    "# We replace fixed values by parameters in the LCI \n",
    "# Mining techniques, 3 activities\n",
    "open_pit_p.updateExchanges({\n",
    "    # This is electricity\n",
    "    'market for diesel, burned in diesel-electric generating set, 10MW*': dict(amount=mining_energy_shares['electricity'] * extraction_energy_open_pit,\n",
    "                                                                              input=mining_elec_mix),\n",
    "    # This is diesel used as fuel\n",
    "    'market for diesel, burned in building machine*': mining_energy_shares['diesel'] * extraction_energy_open_pit\n",
    "}\n",
    ")"
   ],
   "id": "55ba1f46b2733f40"
  },
  {
   "metadata": {},
   "cell_type": "code",
   "outputs": [],
   "execution_count": null,
   "source": "# Update inventories ",
   "id": "5b0257521f00f73a"
  },
  {
   "metadata": {},
   "cell_type": "code",
   "outputs": [],
   "execution_count": null,
   "source": "",
   "id": "b40c0e70b181c818"
  },
  {
   "metadata": {},
   "cell_type": "code",
   "outputs": [],
   "execution_count": null,
   "source": "",
   "id": "515b57f2375aeb4b"
  },
  {
   "metadata": {},
   "cell_type": "code",
   "outputs": [],
   "execution_count": null,
   "source": "",
   "id": "949d4ccf2fc52a5b"
  },
  {
   "metadata": {},
   "cell_type": "code",
   "outputs": [],
   "execution_count": null,
   "source": "",
   "id": "8fcd21a6b6d15b06"
  }
 ],
 "metadata": {
  "kernelspec": {
   "display_name": "Python 3",
   "language": "python",
   "name": "python3"
  },
  "language_info": {
   "codemirror_mode": {
    "name": "ipython",
    "version": 2
   },
   "file_extension": ".py",
   "mimetype": "text/x-python",
   "name": "python",
   "nbconvert_exporter": "python",
   "pygments_lexer": "ipython2",
   "version": "2.7.6"
  }
 },
 "nbformat": 4,
 "nbformat_minor": 5
}
