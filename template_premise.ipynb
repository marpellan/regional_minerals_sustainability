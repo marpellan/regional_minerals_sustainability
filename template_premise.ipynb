{
 "cells": [
  {
   "cell_type": "code",
   "execution_count": 1,
   "id": "98cc1512",
   "metadata": {},
   "outputs": [],
   "source": [
    "from premise import *\n",
    "import bw2data as bd\n",
    "import bw2io as bi"
   ]
  },
  {
   "cell_type": "code",
   "execution_count": 2,
   "id": "fb3a98d5",
   "metadata": {},
   "outputs": [],
   "source": [
    "# From Romain Sacchi \n",
    "key='tUePmX_S5B8ieZkkM7WUU2CnO8SmShwmAeWK9x2rTFo='"
   ]
  },
  {
   "cell_type": "markdown",
   "id": "3a2b5b46",
   "metadata": {},
   "source": [
    "# Brightway stuff and ecoinvent 3.9.1 cutoff import "
   ]
  },
  {
   "cell_type": "code",
   "execution_count": 3,
   "id": "81ab2b87",
   "metadata": {},
   "outputs": [],
   "source": [
    "# You need to set a project. Give it a name!\n",
    "name = \"article3\"\n",
    "bd.projects.set_current(name)"
   ]
  },
  {
   "cell_type": "code",
   "execution_count": 4,
   "id": "1bd3e23e",
   "metadata": {},
   "outputs": [
    {
     "data": {
      "text/plain": [
       "Brightway2 projects manager with 6 objects:\n",
       "\tarticle3\n",
       "\tdefault\n",
       "\tei391\n",
       "\tei391cutoff\n",
       "\timage_new\n",
       "\tremind\n",
       "Use `projects.report()` to get a report on all projects."
      ]
     },
     "execution_count": 4,
     "metadata": {},
     "output_type": "execute_result"
    }
   ],
   "source": [
    "bd.projects"
   ]
  },
  {
   "cell_type": "code",
   "execution_count": 5,
   "id": "581f41b7",
   "metadata": {},
   "outputs": [
    {
     "data": {
      "text/plain": [
       "Databases dictionary with 4 object(s):\n",
       "\tbiosphere3\n",
       "\tei391cutoff\n",
       "\tsuper_db_image_elec\n",
       "\tsuper_db_remind_elec"
      ]
     },
     "execution_count": 5,
     "metadata": {},
     "output_type": "execute_result"
    }
   ],
   "source": [
    "# If this is your first time using this BW25 project, this should be an empty dictionary! \n",
    "bd.databases"
   ]
  },
  {
   "cell_type": "code",
   "execution_count": 6,
   "id": "1efbffa8",
   "metadata": {},
   "outputs": [
    {
     "name": "stdout",
     "output_type": "stream",
     "text": [
      "Biosphere database already present!!! No setup is needed\n"
     ]
    }
   ],
   "source": [
    "bi.bw2setup()"
   ]
  },
  {
   "cell_type": "markdown",
   "id": "e785329e",
   "metadata": {},
   "source": [
    "# Importing EI 391 cutoff"
   ]
  },
  {
   "cell_type": "code",
   "execution_count": 7,
   "id": "56c68a1e",
   "metadata": {},
   "outputs": [],
   "source": [
    "# Import the path where your EI database is stored. \n",
    "# Note that the EI database must be unzipped and the path should end at the datasets folder.\n",
    "ei_path = r'C:\\Users\\pellan\\AppData\\Local\\EcoInventDownLoader\\EcoInventDownLoader\\datasets'\n",
    "\n",
    "#\"/home/bolowich/Documents/dbs/ecoinvent 3.9.1_cutoff_ecoSpold02/datasets\"\n",
    "\n",
    "# You will also need to give your database a name. This name will appear when you call bd.databases.\n",
    "# Here, I am using EI v3.9.1 cutoff.\n",
    "ei_name = \"ei391cutoff\""
   ]
  },
  {
   "cell_type": "code",
   "execution_count": 8,
   "id": "9c8b79ef",
   "metadata": {},
   "outputs": [
    {
     "name": "stdout",
     "output_type": "stream",
     "text": [
      "Database has already been imported.\n"
     ]
    }
   ],
   "source": [
    "# When we execute this cell, we will check if it's already been imported, and if not (else) we import it.\n",
    "\n",
    "if ei_name in bd.databases:\n",
    "    print(\"Database has already been imported.\")\n",
    "else:\n",
    "# Go ahead and import:\n",
    "    ei_importer = bi.SingleOutputEcospold2Importer(ei_path, ei_name)\n",
    "    # Apply stragegies \n",
    "    ei_importer.apply_strategies()\n",
    "    # We can get some statistics\n",
    "    ei_importer.statistics()\n",
    "    # Now we will write the database into our project. \n",
    "    ei_importer.write_database()"
   ]
  },
  {
   "cell_type": "code",
   "execution_count": 9,
   "id": "1d0c645e",
   "metadata": {},
   "outputs": [
    {
     "data": {
      "text/plain": [
       "Databases dictionary with 4 object(s):\n",
       "\tbiosphere3\n",
       "\tei391cutoff\n",
       "\tsuper_db_image_elec\n",
       "\tsuper_db_remind_elec"
      ]
     },
     "execution_count": 9,
     "metadata": {},
     "output_type": "execute_result"
    }
   ],
   "source": [
    "bd.databases"
   ]
  },
  {
   "cell_type": "markdown",
   "id": "754cc505",
   "metadata": {},
   "source": [
    "# Premise "
   ]
  },
  {
   "cell_type": "raw",
   "id": "7f6e5210",
   "metadata": {},
   "source": [
    "# With REMIND, we have the following SSP/RCP scenarios:\n",
    "\n",
    "\"SSP1-Base\"\n",
    "\"SSP5-Base\"\n",
    "\"SSP2-Base\"\n",
    "\"SSP2-NPi\"\n",
    "\"SSP2-NDC\"\n",
    "\"SSP2-PkBudg1150\"\n",
    "\"SSP2-PkBudg500\"\n",
    "\n",
    "With IMAGE, we have the following SSP/RCP scenarios:\n",
    "\"SSP2-Base\"\n",
    "\"SSP2-RCP26\"\n",
    "\"SSP2-RCP19\""
   ]
  },
  {
   "cell_type": "code",
   "execution_count": 10,
   "id": "f452b943",
   "metadata": {
    "scrolled": true
   },
   "outputs": [
    {
     "name": "stdout",
     "output_type": "stream",
     "text": [
      "premise v.(1, 8, 2, 'dev3')\n",
      "+------------------------------------------------------------------+\n",
      "| Warning                                                          |\n",
      "+------------------------------------------------------------------+\n",
      "| Because some of the scenarios can yield LCI databases            |\n",
      "| containing net negative emission technologies (NET),             |\n",
      "| it is advised to account for biogenic CO2 flows when calculating |\n",
      "| Global Warming potential indicators.                             |\n",
      "| `premise_gwp` provides characterization factors for such flows.  |\n",
      "| It also provides factors for hydrogen emissions to air.          |\n",
      "|                                                                  |\n",
      "| Within your bw2 project:                                         |\n",
      "| from premise_gwp import add_premise_gwp                          |\n",
      "| add_premise_gwp()                                                |\n",
      "+------------------------------------------------------------------+\n",
      "+--------------------------------+----------------------------------+\n",
      "| Utils functions                | Description                      |\n",
      "+--------------------------------+----------------------------------+\n",
      "| clear_cache()                  | Clears the cache folder. Useful  |\n",
      "|                                | when updating `premise`or        |\n",
      "|                                | encountering issues with         |\n",
      "|                                | inventories.                     |\n",
      "+--------------------------------+----------------------------------+\n",
      "| get_regions_definition(model)  | Retrieves the list of countries  |\n",
      "|                                | for each region of the model.    |\n",
      "+--------------------------------+----------------------------------+\n",
      "| ndb.NewDatabase(...)           | Generates a summary of the most  |\n",
      "| ndb.generate_scenario_report() | important scenarios' variables.  |\n",
      "+--------------------------------+----------------------------------+\n",
      "Keep uncertainty data?\n",
      "NewDatabase(..., keep_uncertainty_data=True)\n",
      "\n",
      "Disable multiprocessing?\n",
      "NewDatabase(..., use_multiprocessing=False)\n",
      "\n",
      "Hide these messages?\n",
      "NewDatabase(..., quiet=True)\n",
      "\n",
      "//////////////////// EXTRACTING SOURCE DATABASE ////////////////////\n",
      "Done!\n",
      "\n",
      "////////////////// IMPORTING DEFAULT INVENTORIES ///////////////////\n",
      "Done!\n",
      "\n",
      "/////////////////////// EXTRACTING IAM DATA ////////////////////////\n",
      "Done!\n"
     ]
    }
   ],
   "source": [
    "ndb = NewDatabase(\n",
    "            scenarios=[\n",
    "                {\"model\":\"image\", \"pathway\":\"SSP2-Base\", \"year\":2020},\n",
    "                {\"model\":\"image\", \"pathway\":\"SSP2-Base\", \"year\":2030},\n",
    "                {\"model\":\"image\", \"pathway\":\"SSP2-Base\", \"year\":2040},\n",
    "                {\"model\":\"image\", \"pathway\":\"SSP2-Base\", \"year\":2050}, \n",
    "                \n",
    "                {\"model\":\"image\", \"pathway\":\"SSP2-RCP26\", \"year\":2020},\n",
    "                {\"model\":\"image\", \"pathway\":\"SSP2-RCP26\", \"year\":2030},\n",
    "                {\"model\":\"image\", \"pathway\":\"SSP2-RCP26\", \"year\":2040},\n",
    "                {\"model\":\"image\", \"pathway\":\"SSP2-RCP26\", \"year\":2050},\n",
    "                                \n",
    "                {\"model\":\"image\", \"pathway\":\"SSP2-RCP19\", \"year\":2020},\n",
    "                {\"model\":\"image\", \"pathway\":\"SSP2-RCP19\", \"year\":2030},\n",
    "                {\"model\":\"image\", \"pathway\":\"SSP2-RCP19\", \"year\":2040},\n",
    "                {\"model\":\"image\", \"pathway\":\"SSP2-RCP19\", \"year\":2050}, \n",
    "\n",
    "            ],\n",
    "        source_db=\"ei391cutoff\",\n",
    "        #source_type=\"ecospold\", # <--- this is NEW\n",
    "        #source_file_path=r\"C:\\Users\\pellan\\AppData\\Local\\EcoInventDownLoader\\EcoInventDownLoader\\cutoff38\\datasets\", # <-- this is NEW\n",
    "        source_version=\"3.9.1\",\n",
    "        key='tUePmX_S5B8ieZkkM7WUU2CnO8SmShwmAeWK9x2rTFo=' # <-- decryption key\n",
    "            # to be requested from the library maintainers if you want ot use default scenarios included in `premise`\n",
    "    )"
   ]
  },
  {
   "cell_type": "code",
   "execution_count": 11,
   "id": "800f3720",
   "metadata": {},
   "outputs": [
    {
     "data": {
      "text/plain": [
       "<premise.ecoinvent_modification.NewDatabase at 0x1f74ad8e590>"
      ]
     },
     "execution_count": 11,
     "metadata": {},
     "output_type": "execute_result"
    }
   ],
   "source": [
    "ndb"
   ]
  },
  {
   "cell_type": "markdown",
   "id": "034301e7",
   "metadata": {},
   "source": [
    "# Transformation functions\n",
    "\n",
    "These functions modify the extracted database:\n",
    "\n",
    "* **update_electricity()**: alignment of regional electricity production mixes as well as efficiencies for a number of electricity production technologies, including Carbon Capture and Storage technologies and photovoltaic panels. Also updated the natural gas extraction datasets.\n",
    "\n",
    "* **update_cement()**: adjustment of technologies for cement production (dry, semi-dry, wet, with pre-heater or not), fuel efficiency of kilns, fuel mix of kilns (including biomass and waste fuels) and clinker-to-cement ratio.\n",
    "\n",
    "* **update_steel()**: adjustment of process efficiency, fuel mix and share of secondary steel in steel markets.\n",
    "\n",
    "* **update_fuels()**: creates regional markets for liquid and gaseous fuels and relinks fuel-conusming activities to them.\n",
    "\n",
    "* **update_cars()**: creates updated inventories for fleet average passenger cars and links back to activities that consume transport.\n",
    "\n",
    "* **update_trucks()**: creates updated inventories for fleet average lorry trucks and links back to activities that consume transport.\n",
    "\n",
    "* **update_two_wheelers()**: create inventories for two-wheelers.\n",
    "\n",
    "* **update_buses()**: create inventories for buses.\n",
    "\n",
    "A look at the documentation is advised.\n",
    "\n",
    "\n",
    "These functions can be applied *separately*, *consecutively* or *altogether* (using instead **.update_all()**).\n",
    "\n",
    "They will apply to all the scenario-specific databases listed in `scenarios`."
   ]
  },
  {
   "cell_type": "code",
   "execution_count": null,
   "id": "698413b1",
   "metadata": {},
   "outputs": [
    {
     "name": "stdout",
     "output_type": "stream",
     "text": [
      "`update_all()` will skip the following steps:\n",
      "update_two_wheelers(), update_cars(), and update_buses()\n",
      "If you want to update these steps, please run them separately afterwards.\n"
     ]
    }
   ],
   "source": [
    "ndb.update_all()"
   ]
  },
  {
   "cell_type": "markdown",
   "id": "4f22abe9",
   "metadata": {},
   "source": [
    "# Export "
   ]
  },
  {
   "cell_type": "markdown",
   "id": "9257362a",
   "metadata": {},
   "source": [
    "3 options :\n",
    "* **Brightway DB**: \n",
    "\n",
    "* **Excel file**:\n",
    "\n",
    "* **Superstructure**:"
   ]
  },
  {
   "cell_type": "code",
   "execution_count": null,
   "id": "246cd71f",
   "metadata": {},
   "outputs": [],
   "source": [
    "#ndb.write_db_to_brightway()\n",
    "#ndb.write_db_to_brightway(name=[\"image_ssp2_rcp19\", \"remind_ssp2_pkbudg500\"]) if you want to put names "
   ]
  },
  {
   "cell_type": "code",
   "execution_count": null,
   "id": "cc635cb8",
   "metadata": {},
   "outputs": [],
   "source": [
    "#ndb.write_db_to_matrices(filepath=r\"C:\\Users\\pellan\\AppData\\Local\\EcoInventDownLoader\\EcoInventDownLoader\")"
   ]
  },
  {
   "cell_type": "code",
   "execution_count": null,
   "id": "41bdd2f1",
   "metadata": {},
   "outputs": [],
   "source": [
    "ndb.write_superstructure_db_to_brightway(name='super_db_image_all')"
   ]
  },
  {
   "cell_type": "code",
   "execution_count": null,
   "id": "3d63f069",
   "metadata": {},
   "outputs": [],
   "source": [
    "ndb.generate_scenario_report()"
   ]
  },
  {
   "cell_type": "code",
   "execution_count": null,
   "id": "5177d8cc-b0dc-47c9-82a3-649f31104425",
   "metadata": {},
   "outputs": [],
   "source": []
  }
 ],
 "metadata": {
  "kernelspec": {
   "display_name": "Python 3 (ipykernel)",
   "language": "python",
   "name": "python3"
  },
  "language_info": {
   "codemirror_mode": {
    "name": "ipython",
    "version": 3
   },
   "file_extension": ".py",
   "mimetype": "text/x-python",
   "name": "python",
   "nbconvert_exporter": "python",
   "pygments_lexer": "ipython3",
   "version": "3.11.10"
  }
 },
 "nbformat": 4,
 "nbformat_minor": 5
}
