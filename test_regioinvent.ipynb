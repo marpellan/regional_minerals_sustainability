{
 "cells": [
  {
   "cell_type": "code",
   "id": "c92e8bba-2d0c-429f-b341-f21e0da46995",
   "metadata": {
    "ExecuteTime": {
     "end_time": "2024-11-05T19:26:36.585573Z",
     "start_time": "2024-11-05T19:26:36.569107Z"
    }
   },
   "source": [
    "from IPython.display import display, HTML\n",
    "display(HTML(\"<style>.container { width:80% !important; }</style>\"))"
   ],
   "outputs": [
    {
     "data": {
      "text/plain": [
       "<IPython.core.display.HTML object>"
      ],
      "text/html": [
       "<style>.container { width:80% !important; }</style>"
      ]
     },
     "metadata": {},
     "output_type": "display_data"
    }
   ],
   "execution_count": 1
  },
  {
   "cell_type": "code",
   "id": "06dc908c-bc70-475f-8241-49b98d1c291b",
   "metadata": {
    "ExecuteTime": {
     "end_time": "2024-11-05T19:26:40.300828Z",
     "start_time": "2024-11-05T19:26:36.924359Z"
    }
   },
   "source": [
    "# Brightway imports\n",
    "import bw2analyzer as ba\n",
    "import bw2calc as bc\n",
    "import bw2data as bd\n",
    "import bw2io as bi\n",
    "import brightway2 as bw"
   ],
   "outputs": [],
   "execution_count": 2
  },
  {
   "cell_type": "code",
   "id": "f9681295-72c1-4a8a-9b9b-eb2e9afa1335",
   "metadata": {
    "ExecuteTime": {
     "end_time": "2024-11-05T19:26:40.316502Z",
     "start_time": "2024-11-05T19:26:40.300828Z"
    }
   },
   "source": [
    "import pandas as pd\n",
    "import numpy as np\n",
    "import datetime\n",
    "import os"
   ],
   "outputs": [],
   "execution_count": 3
  },
  {
   "metadata": {
    "ExecuteTime": {
     "end_time": "2024-11-05T19:26:40.348106Z",
     "start_time": "2024-11-05T19:26:40.332450Z"
    }
   },
   "cell_type": "code",
   "source": [
    "# Custom functions\n",
    "from useful_functions import get_inventory_dataset, init_simple_lca, multi_lcia, multi_contribution_analysis, calculate_projected_impacts\n",
    "from visualisation_functions import plot_multilca_impacts, plot_contribution_analysis, plot_impacts_with_production, plot_incremental_impacts"
   ],
   "id": "117379e07fd74b12",
   "outputs": [],
   "execution_count": 4
  },
  {
   "cell_type": "markdown",
   "id": "fd081b51-0698-4657-89d2-63f0bcf26c45",
   "metadata": {
    "ExecuteTime": {
     "end_time": "2024-10-29T14:41:40.053900Z",
     "start_time": "2024-10-29T14:41:39.840092Z"
    }
   },
   "source": [
    "# Set projects, LCI and LCIA methods"
   ]
  },
  {
   "cell_type": "code",
   "id": "a42dfc1f-3d05-4893-9727-bfadf5efaed1",
   "metadata": {
    "ExecuteTime": {
     "end_time": "2024-11-05T19:26:41.601093Z",
     "start_time": "2024-11-05T19:26:41.452057Z"
    }
   },
   "source": [
    "BW_PROJECT = 'regioinvent' # insert your project name here\n",
    "bd.projects.set_current(BW_PROJECT)\n",
    "bd.databases"
   ],
   "outputs": [
    {
     "data": {
      "text/plain": [
       "Databases dictionary with 5 object(s):\n",
       "\tRegioinvent\n",
       "\tbiosphere3\n",
       "\tbiosphere3_spatialized_flows\n",
       "\tecoinvent-3.9.1-cutoff\n",
       "\tecoinvent-3.9.1-cutoff regionalized"
      ]
     },
     "execution_count": 5,
     "metadata": {},
     "output_type": "execute_result"
    }
   ],
   "execution_count": 5
  },
  {
   "metadata": {
    "ExecuteTime": {
     "end_time": "2024-11-05T19:26:44.174972Z",
     "start_time": "2024-11-05T19:26:44.158237Z"
    }
   },
   "cell_type": "code",
   "source": "EI_DB = 'ecoinvent-3.9.1-cutoff regionalized'",
   "id": "3085b87dadd2e7f8",
   "outputs": [],
   "execution_count": 6
  },
  {
   "metadata": {
    "ExecuteTime": {
     "end_time": "2024-11-05T19:26:45.049780Z",
     "start_time": "2024-11-05T19:26:45.033654Z"
    }
   },
   "cell_type": "code",
   "source": [
    "biosphere_db = [db for db in bd.databases if 'biosphere' in db.lower()]\n",
    "biosphere_db"
   ],
   "id": "441382b42fe45504",
   "outputs": [
    {
     "data": {
      "text/plain": [
       "['biosphere3', 'biosphere3_spatialized_flows']"
      ]
     },
     "execution_count": 7,
     "metadata": {},
     "output_type": "execute_result"
    }
   ],
   "execution_count": 7
  },
  {
   "metadata": {
    "ExecuteTime": {
     "end_time": "2024-11-05T19:26:51.947592Z",
     "start_time": "2024-11-05T19:26:51.931698Z"
    }
   },
   "cell_type": "code",
   "source": [
    "# Filter and display methods that contain \"IMPACT World+\" in their names\n",
    "iw_methods = [method for method in bd.methods if \"impact world+\" in \" \".join(method).lower()]\n",
    "iw_methods"
   ],
   "id": "9702b838e61e9926",
   "outputs": [
    {
     "data": {
      "text/plain": [
       "[('IMPACT World+ Damage 2.0.1_regionalized',\n",
       "  'Ecosystem quality',\n",
       "  'Climate change, ecosystem quality, long term'),\n",
       " ('IMPACT World+ Damage 2.0.1_regionalized',\n",
       "  'Ecosystem quality',\n",
       "  'Climate change, ecosystem quality, short term'),\n",
       " ('IMPACT World+ Damage 2.0.1_regionalized',\n",
       "  'Human health',\n",
       "  'Climate change, human health, long term'),\n",
       " ('IMPACT World+ Damage 2.0.1_regionalized',\n",
       "  'Human health',\n",
       "  'Climate change, human health, short term'),\n",
       " ('IMPACT World+ Midpoint 2.0.1_regionalized',\n",
       "  'Midpoint',\n",
       "  'Climate change, long term'),\n",
       " ('IMPACT World+ Midpoint 2.0.1_regionalized',\n",
       "  'Midpoint',\n",
       "  'Climate change, short term'),\n",
       " ('IMPACT World+ Damage 2.0.1_regionalized',\n",
       "  'Ecosystem quality',\n",
       "  'Marine acidification, long term'),\n",
       " ('IMPACT World+ Damage 2.0.1_regionalized',\n",
       "  'Ecosystem quality',\n",
       "  'Marine acidification, short term'),\n",
       " ('IMPACT World+ Midpoint 2.0.1_regionalized',\n",
       "  'Midpoint',\n",
       "  'Photochemical oxidant formation'),\n",
       " ('IMPACT World+ Damage 2.0.1_regionalized',\n",
       "  'Human health',\n",
       "  'Photochemical oxidant formation'),\n",
       " ('IMPACT World+ Midpoint 2.0.1_regionalized',\n",
       "  'Midpoint',\n",
       "  'Freshwater ecotoxicity'),\n",
       " ('IMPACT World+ Damage 2.0.1_regionalized',\n",
       "  'Ecosystem quality',\n",
       "  'Freshwater ecotoxicity, short term'),\n",
       " ('IMPACT World+ Midpoint 2.0.1_regionalized',\n",
       "  'Midpoint',\n",
       "  'Human toxicity cancer'),\n",
       " ('IMPACT World+ Damage 2.0.1_regionalized',\n",
       "  'Human health',\n",
       "  'Human toxicity cancer, short term'),\n",
       " ('IMPACT World+ Midpoint 2.0.1_regionalized',\n",
       "  'Midpoint',\n",
       "  'Human toxicity non-cancer'),\n",
       " ('IMPACT World+ Damage 2.0.1_regionalized',\n",
       "  'Human health',\n",
       "  'Human toxicity non-cancer, short term'),\n",
       " ('IMPACT World+ Damage 2.0.1_regionalized',\n",
       "  'Ecosystem quality',\n",
       "  'Freshwater ecotoxicity, long term'),\n",
       " ('IMPACT World+ Damage 2.0.1_regionalized',\n",
       "  'Human health',\n",
       "  'Human toxicity cancer, long term'),\n",
       " ('IMPACT World+ Damage 2.0.1_regionalized',\n",
       "  'Human health',\n",
       "  'Human toxicity non-cancer, long term'),\n",
       " ('IMPACT World+ Midpoint 2.0.1_regionalized',\n",
       "  'Midpoint',\n",
       "  'Marine eutrophication'),\n",
       " ('IMPACT World+ Damage 2.0.1_regionalized',\n",
       "  'Ecosystem quality',\n",
       "  'Marine eutrophication'),\n",
       " ('IMPACT World+ Midpoint 2.0.1_regionalized',\n",
       "  'Midpoint',\n",
       "  'Ozone layer depletion'),\n",
       " ('IMPACT World+ Damage 2.0.1_regionalized',\n",
       "  'Human health',\n",
       "  'Ozone layer depletion'),\n",
       " ('IMPACT World+ Midpoint 2.0.1_regionalized',\n",
       "  'Midpoint',\n",
       "  'Fossil and nuclear energy use'),\n",
       " ('IMPACT World+ Midpoint 2.0.1_regionalized',\n",
       "  'Midpoint',\n",
       "  'Mineral resources use'),\n",
       " ('IMPACT World+ Midpoint 2.0.1_regionalized',\n",
       "  'Midpoint',\n",
       "  'Freshwater acidification'),\n",
       " ('IMPACT World+ Damage 2.0.1_regionalized',\n",
       "  'Ecosystem quality',\n",
       "  'Freshwater acidification'),\n",
       " ('IMPACT World+ Midpoint 2.0.1_regionalized',\n",
       "  'Midpoint',\n",
       "  'Particulate matter formation'),\n",
       " ('IMPACT World+ Damage 2.0.1_regionalized',\n",
       "  'Human health',\n",
       "  'Particulate matter formation'),\n",
       " ('IMPACT World+ Midpoint 2.0.1_regionalized',\n",
       "  'Midpoint',\n",
       "  'Terrestrial acidification'),\n",
       " ('IMPACT World+ Damage 2.0.1_regionalized',\n",
       "  'Ecosystem quality',\n",
       "  'Terrestrial acidification'),\n",
       " ('IMPACT World+ Midpoint 2.0.1_regionalized',\n",
       "  'Midpoint',\n",
       "  'Freshwater eutrophication'),\n",
       " ('IMPACT World+ Damage 2.0.1_regionalized',\n",
       "  'Ecosystem quality',\n",
       "  'Freshwater eutrophication'),\n",
       " ('IMPACT World+ Damage 2.0.1_regionalized',\n",
       "  'Ecosystem quality',\n",
       "  'Ionizing radiation, ecosystem quality'),\n",
       " ('IMPACT World+ Damage 2.0.1_regionalized',\n",
       "  'Human health',\n",
       "  'Ionizing radiation, human health'),\n",
       " ('IMPACT World+ Midpoint 2.0.1_regionalized',\n",
       "  'Midpoint',\n",
       "  'Ionizing radiations'),\n",
       " ('IMPACT World+ Midpoint 2.0.1_regionalized',\n",
       "  'Midpoint',\n",
       "  'Land occupation, biodiversity'),\n",
       " ('IMPACT World+ Damage 2.0.1_regionalized',\n",
       "  'Ecosystem quality',\n",
       "  'Land occupation, biodiversity'),\n",
       " ('IMPACT World+ Midpoint 2.0.1_regionalized',\n",
       "  'Midpoint',\n",
       "  'Land transformation, biodiversity'),\n",
       " ('IMPACT World+ Damage 2.0.1_regionalized',\n",
       "  'Ecosystem quality',\n",
       "  'Land transformation, biodiversity'),\n",
       " ('IMPACT World+ Damage 2.0.1_regionalized',\n",
       "  'Ecosystem quality',\n",
       "  'Thermally polluted water'),\n",
       " ('IMPACT World+ Damage 2.0.1_regionalized',\n",
       "  'Ecosystem quality',\n",
       "  'Water availability, freshwater ecosystem'),\n",
       " ('IMPACT World+ Damage 2.0.1_regionalized',\n",
       "  'Human health',\n",
       "  'Water availability, human health'),\n",
       " ('IMPACT World+ Midpoint 2.0.1_regionalized', 'Midpoint', 'Water scarcity'),\n",
       " ('IMPACT World+ Damage 2.0.1_regionalized',\n",
       "  'Ecosystem quality',\n",
       "  'Water availability, terrestrial ecosystem'),\n",
       " ('IMPACT World+ Damage 2.0.1_regionalized',\n",
       "  'Human health',\n",
       "  'Total human health'),\n",
       " ('IMPACT World+ Damage 2.0.1_regionalized',\n",
       "  'Ecosystem quality',\n",
       "  'Total ecosystem quality')]"
      ]
     },
     "execution_count": 8,
     "metadata": {},
     "output_type": "execute_result"
    }
   ],
   "execution_count": 8
  },
  {
   "metadata": {
    "ExecuteTime": {
     "end_time": "2024-11-05T19:29:24.308060Z",
     "start_time": "2024-11-05T19:29:24.289754Z"
    }
   },
   "cell_type": "code",
   "source": [
    "df_iw_methods = pd.DataFrame(iw_methods, columns=[\"Method\", \"Impact Category\", \"Subcategory\"])\n",
    "#df_iw_methods.to_csv(r'data/iw_methods.csv', index=False)"
   ],
   "id": "9fb31d3285be7d63",
   "outputs": [],
   "execution_count": 12
  },
  {
   "metadata": {
    "ExecuteTime": {
     "end_time": "2024-11-05T19:29:24.616713Z",
     "start_time": "2024-11-05T19:29:24.602556Z"
    }
   },
   "cell_type": "code",
   "source": [
    "INVENTORIES_EI = {\n",
    "    ## Neodymium\n",
    "    \"Neodymium\":        (\"rare earth oxides production, from rare earth carbonate concentrate\", \"neodymium oxide\", \"RoW\"),\n",
    "    \n",
    "    ## Copper\n",
    "    \"Copper concentrate, Canada\": ('copper mine operation and beneficiation, sulfide ore', 'copper concentrate, sulfide ore', 'CA'),\n",
    "    \"Market for copper, cathode\": ('market for copper, cathode', 'copper, cathode', 'GLO')\n",
    "}"
   ],
   "id": "c5d1a8d2c3778a73",
   "outputs": [],
   "execution_count": 13
  },
  {
   "cell_type": "code",
   "id": "9e404e2e-e37f-403e-b747-4da9f65eebb8",
   "metadata": {
    "ExecuteTime": {
     "end_time": "2024-11-05T19:29:25.719713Z",
     "start_time": "2024-11-05T19:29:25.714522Z"
    }
   },
   "source": [
    "# From Istrate et al (2024)\n",
    "# (name, reference product, location)\n",
    "INVENTORIES = {\n",
    "    \"Lithium hydroxide, brine\":        (\"lithium hydroxide production, Salar de Atacama\", \"lithium hydroxide, battery grade\", \"CL\"),\n",
    "    \"Lithium hydroxide, spodumene\":    (\"lithium hydroxide production, from Australian spodumene\", \"lithium hydroxide, battery grade\", \"CN\"),\n",
    "    \"Cobalt\":                (\"cobalt sulfate production, from copper-cobalt ore, economic allocation\", \"cobalt sulfate\", \"CN\"),\n",
    "    \"Nickel\":                (\"nickel sulfate production, average excluding China, economic allocation\", \"nickel sulfate\", \"GLO\"),\n",
    "    \"Graphite, natural\":     (\"natural graphite production, battery grade, from Heilongjiang\", \"natural graphite, battery grade\", \"CN\"),\n",
    "    \"Graphite, synthetic\":   (\"graphite powder coating\", \"synthetic graphite, battery grade\", \"CN\"),\n",
    "    \n",
    "    \"Lithium carbonate, brine\":        (\"lithium carbonate production, Salar de Atacama\", \"lithium carbonate, battery grade\", \"CL\"),\n",
    "    \"Lithium carbonate, spodumene\":    (\"lithium carbonate production, from Australian spodumene\", \"lithium carbonate, battery grade\", \"CN\"),\n",
    "}"
   ],
   "outputs": [],
   "execution_count": 14
  },
  {
   "metadata": {
    "ExecuteTime": {
     "end_time": "2024-11-05T19:29:31.491447Z",
     "start_time": "2024-11-05T19:29:26.406009Z"
    }
   },
   "cell_type": "code",
   "source": [
    "# Collect data from both the custom database and Ecoinvent database\n",
    "INVENTORIES_ds = {}\n",
    "#INVENTORIES_ds.update(get_inventory_dataset(INVENTORIES, LIB_RM_DB))\n",
    "INVENTORIES_ds.update(get_inventory_dataset(INVENTORIES_EI, EI_DB))"
   ],
   "id": "54206c86b5e7053f",
   "outputs": [],
   "execution_count": 15
  },
  {
   "metadata": {
    "ExecuteTime": {
     "end_time": "2024-11-05T19:29:31.522712Z",
     "start_time": "2024-11-05T19:29:31.506201Z"
    }
   },
   "cell_type": "code",
   "source": "INVENTORIES_ds",
   "id": "38f4c985d9fcf239",
   "outputs": [
    {
     "data": {
      "text/plain": [
       "{'Neodymium': 'rare earth oxides production, from rare earth carbonate concentrate' (kilogram, RoW, None),\n",
       " 'Copper concentrate, Canada': 'copper mine operation and beneficiation, sulfide ore' (kilogram, CA, None),\n",
       " 'Market for copper, cathode': 'market for copper, cathode' (kilogram, GLO, None)}"
      ]
     },
     "execution_count": 16,
     "metadata": {},
     "output_type": "execute_result"
    }
   ],
   "execution_count": 16
  },
  {
   "cell_type": "code",
   "id": "a4374a09-e735-4352-84e4-d99cda0525ef",
   "metadata": {
    "ExecuteTime": {
     "end_time": "2024-11-05T19:29:35.582250Z",
     "start_time": "2024-11-05T19:29:35.565887Z"
    }
   },
   "source": [
    "# Let's take total impacts first\n",
    "IMPACT_METHODS = {\n",
    "    \"EQ\": ('IMPACT World+ Damage 2.0.1_regionalized', 'Ecosystem quality', 'Total ecosystem quality'),\n",
    "    \"HH\": ('IMPACT World+ Damage 2.0.1_regionalized', 'Human health', 'Total human health'),\n",
    "                 }"
   ],
   "outputs": [],
   "execution_count": 17
  },
  {
   "metadata": {
    "ExecuteTime": {
     "end_time": "2024-11-05T19:29:36.126276Z",
     "start_time": "2024-11-05T19:29:36.115091Z"
    }
   },
   "cell_type": "code",
   "source": [
    "impact_categories = [\n",
    "    \"Ecosystem quality (PDF.m2.yr)\", \n",
    "    \"Human health (DALYs)\", \n",
    "]"
   ],
   "id": "4ed476db4acca0ad",
   "outputs": [],
   "execution_count": 18
  },
  {
   "cell_type": "markdown",
   "id": "568e315e-20e5-414c-9137-d130a70fe280",
   "metadata": {
    "ExecuteTime": {
     "end_time": "2024-10-29T15:19:44.789796Z",
     "start_time": "2024-10-29T15:19:44.776386Z"
    }
   },
   "source": "# Specific impacts"
  },
  {
   "cell_type": "code",
   "id": "3f754e34-efbb-4bb5-80f4-7925f0e06837",
   "metadata": {
    "ExecuteTime": {
     "end_time": "2024-11-05T19:36:16.724842Z",
     "start_time": "2024-11-05T19:29:40.992851Z"
    }
   },
   "source": [
    "# Initialize LCA object\n",
    "lca = init_simple_lca(INVENTORIES_ds[\"Neodymium\"], method=IMPACT_METHODS )"
   ],
   "outputs": [],
   "execution_count": 19
  },
  {
   "cell_type": "code",
   "id": "8406a076-d963-4d6b-a6c0-45e33947ce39",
   "metadata": {
    "ExecuteTime": {
     "end_time": "2024-11-05T19:36:35.841941Z",
     "start_time": "2024-11-05T19:36:34.624610Z"
    }
   },
   "source": [
    "specific_lca = {}\n",
    "for rm in INVENTORIES_ds:\n",
    "    impacts = multi_lcia(lca, INVENTORIES_ds[rm], IMPACT_METHODS)\n",
    "    specific_lca[rm] = impacts\n",
    "\n",
    "specific_lca = pd.DataFrame(specific_lca).T"
   ],
   "outputs": [],
   "execution_count": 20
  },
  {
   "cell_type": "code",
   "id": "26ad6994-6f8f-40c3-a130-4c8865bebff9",
   "metadata": {
    "ExecuteTime": {
     "end_time": "2024-11-05T19:36:37.028353Z",
     "start_time": "2024-11-05T19:36:36.996720Z"
    }
   },
   "source": "specific_lca",
   "outputs": [
    {
     "data": {
      "text/plain": [
       "                            EQ (PDF.m2.yr)  HH (DALY)\n",
       "Neodymium                       137.644975   0.000162\n",
       "Copper concentrate, Canada       11.498468   0.000010\n",
       "Market for copper, cathode       45.127553   0.000263"
      ],
      "text/html": [
       "<div>\n",
       "<style scoped>\n",
       "    .dataframe tbody tr th:only-of-type {\n",
       "        vertical-align: middle;\n",
       "    }\n",
       "\n",
       "    .dataframe tbody tr th {\n",
       "        vertical-align: top;\n",
       "    }\n",
       "\n",
       "    .dataframe thead th {\n",
       "        text-align: right;\n",
       "    }\n",
       "</style>\n",
       "<table border=\"1\" class=\"dataframe\">\n",
       "  <thead>\n",
       "    <tr style=\"text-align: right;\">\n",
       "      <th></th>\n",
       "      <th>EQ (PDF.m2.yr)</th>\n",
       "      <th>HH (DALY)</th>\n",
       "    </tr>\n",
       "  </thead>\n",
       "  <tbody>\n",
       "    <tr>\n",
       "      <th>Neodymium</th>\n",
       "      <td>137.644975</td>\n",
       "      <td>0.000162</td>\n",
       "    </tr>\n",
       "    <tr>\n",
       "      <th>Copper concentrate, Canada</th>\n",
       "      <td>11.498468</td>\n",
       "      <td>0.000010</td>\n",
       "    </tr>\n",
       "    <tr>\n",
       "      <th>Market for copper, cathode</th>\n",
       "      <td>45.127553</td>\n",
       "      <td>0.000263</td>\n",
       "    </tr>\n",
       "  </tbody>\n",
       "</table>\n",
       "</div>"
      ]
     },
     "execution_count": 21,
     "metadata": {},
     "output_type": "execute_result"
    }
   ],
   "execution_count": 21
  },
  {
   "metadata": {
    "ExecuteTime": {
     "end_time": "2024-11-05T19:38:51.671980Z",
     "start_time": "2024-11-05T19:38:51.075105Z"
    }
   },
   "cell_type": "code",
   "source": [
    "# Call the function\n",
    "plot_multilca_impacts(specific_lca, \n",
    "                 impact_categories =[\"EQ (PDF.m2.yr)\", \"HH (DALY)\"], \n",
    "                 colors=[\"#1f77b4\", \"#ff7f0e\"], \n",
    "                 save_path=\"results/lca_impacts_iw_reg.png\")"
   ],
   "id": "99726d10fc931d82",
   "outputs": [
    {
     "name": "stdout",
     "output_type": "stream",
     "text": [
      "Plot saved to results/lca_impacts_iw_reg.png\n"
     ]
    },
    {
     "data": {
      "text/plain": [
       "<Figure size 1400x1000 with 2 Axes>"
      ],
      "image/png": "[encoded data removed]"
     },
     "metadata": {},
     "output_type": "display_data"
    }
   ],
   "execution_count": 24
  },
  {
   "cell_type": "code",
   "id": "771f2ded-ada4-4c2c-9660-9cfbfbfdd7c2",
   "metadata": {
    "ExecuteTime": {
     "end_time": "2024-10-31T01:19:27.636177Z",
     "start_time": "2024-10-31T01:19:27.623152Z"
    }
   },
   "source": "#specific_lca.to_csv(f\"results/specific_results_{datetime.datetime.today().strftime('%d-%m-%Y')}.csv\", index_label=\"Raw material\")",
   "outputs": [],
   "execution_count": 17
  },
  {
   "metadata": {
    "ExecuteTime": {
     "end_time": "2024-11-05T19:39:29.298026Z",
     "start_time": "2024-11-05T19:39:18.936443Z"
    }
   },
   "cell_type": "code",
   "source": [
    "# Initialize a dictionary to store contribution results for each inventory\n",
    "contribution_results = {}\n",
    "\n",
    "# Loop through each inventory and perform contribution analysis\n",
    "for rm_name, rm_ds in INVENTORIES_ds.items():\n",
    "    lca = init_simple_lca(rm_ds)\n",
    "    contributions = multi_contribution_analysis(lca, IMPACT_METHODS, top_n=10, threshold=0.01)  # Set your threshold here\n",
    "    contribution_results[rm_name] = contributions\n",
    "\n",
    "# Convert the results into a more readable format for analysis\n",
    "contribution_dfs = {}\n",
    "\n",
    "for rm_name, impacts in contribution_results.items():\n",
    "    for impact_name, contributions in impacts.items():\n",
    "        df = pd.DataFrame(contributions)\n",
    "        df[\"Inventory\"] = rm_name\n",
    "        df[\"Impact Category\"] = impact_name\n",
    "        contribution_dfs[(rm_name, impact_name)] = df\n",
    "\n",
    "# Combine all individual DataFrames into one for easy viewing\n",
    "contribution_analysis_df = pd.concat(contribution_dfs.values(), ignore_index=True)\n",
    "\n",
    "# Set \"Inventory\" and \"Impact Category\" as the row indices\n",
    "contribution_analysis_df.set_index([\"Inventory\", \"Impact Category\"], inplace=True)\n"
   ],
   "id": "8537726a7e927e6b",
   "outputs": [],
   "execution_count": 25
  },
  {
   "metadata": {
    "ExecuteTime": {
     "end_time": "2024-11-05T19:39:29.340083Z",
     "start_time": "2024-11-05T19:39:29.298860Z"
    }
   },
   "cell_type": "code",
   "source": "contribution_analysis_df",
   "id": "ab83c92d12009ab5",
   "outputs": [
    {
     "data": {
      "text/plain": [
       "                                                   score     quantity  \\\n",
       "Inventory                  Impact Category                              \n",
       "Neodymium                  EQ               3.341805e+01  3528.865095   \n",
       "                           EQ               1.897885e+01     1.144535   \n",
       "                           EQ               1.149891e+01     1.205575   \n",
       "                           EQ               7.269332e+00   806.133520   \n",
       "                           EQ               5.452072e+00     0.571609   \n",
       "                           EQ               4.336698e+00     0.261528   \n",
       "                           EQ               3.130229e+00     2.234295   \n",
       "                           EQ               2.813017e+00     1.000000   \n",
       "                           EQ               2.510086e+00     0.015426   \n",
       "                           HH               1.654619e-04   806.133520   \n",
       "                           HH               7.944620e-05     1.205575   \n",
       "                           HH               3.766847e-05     0.571609   \n",
       "                           HH               2.273334e-05     2.234295   \n",
       "                           HH               1.658454e-05     4.161896   \n",
       "                           HH               1.632462e-05     1.000000   \n",
       "Copper concentrate, Canada EQ               5.589777e+00     0.034353   \n",
       "                           EQ               2.801620e+00     0.016969   \n",
       "                           EQ               1.499726e+00   158.367404   \n",
       "                           EQ               1.260518e-01    90.254200   \n",
       "                           HH               2.019135e-06     0.010450   \n",
       "                           HH               7.050246e-07     1.000108   \n",
       "                           HH               6.610788e-07     0.034353   \n",
       "                           HH               3.265527e-07     0.016969   \n",
       "                           HH               3.168971e-07     0.073909   \n",
       "                           HH               2.277498e-07     0.046554   \n",
       "                           HH               2.232875e-07     0.000855   \n",
       "                           HH               2.165953e-07     0.000838   \n",
       "                           HH               2.081297e-07     0.383445   \n",
       "                           HH               1.824467e-07     0.014074   \n",
       "Market for copper, cathode EQ               1.441268e+01     0.088576   \n",
       "                           EQ               7.345109e+00     0.044489   \n",
       "                           EQ               4.213765e+00     0.239557   \n",
       "                           EQ               3.387273e+00     0.028234   \n",
       "                           EQ               3.121228e+00     0.234890   \n",
       "                           EQ               2.624244e+00     0.015873   \n",
       "                           EQ               1.400296e+00   147.867847   \n",
       "                           EQ               5.374190e-01     3.879929   \n",
       "                           EQ               4.968756e-01     0.046643   \n",
       "                           HH               6.257580e-05     0.239557   \n",
       "                           HH               6.070033e-05     0.234890   \n",
       "                           HH               4.542084e-05     0.957740   \n",
       "                           HH               1.230009e-05     0.046643   \n",
       "                           HH               9.057976e-06     0.028234   \n",
       "                           HH               8.111455e-06     2.425297   \n",
       "                           HH               4.652100e-06     0.134229   \n",
       "                           HH               4.266504e-06     0.018023   \n",
       "                           HH               3.371692e-06     0.017451   \n",
       "\n",
       "                                            percentage  \\\n",
       "Inventory                  Impact Category               \n",
       "Neodymium                  EQ                24.278441   \n",
       "                           EQ                13.788260   \n",
       "                           EQ                 8.354036   \n",
       "                           EQ                 5.281219   \n",
       "                           EQ                 3.960967   \n",
       "                           EQ                 3.150640   \n",
       "                           EQ                 2.274132   \n",
       "                           EQ                 2.043675   \n",
       "                           EQ                 1.823594   \n",
       "                           HH               102.162799   \n",
       "                           HH                49.053274   \n",
       "                           HH                23.258028   \n",
       "                           HH                14.036476   \n",
       "                           HH                10.239962   \n",
       "                           HH                10.079473   \n",
       "Copper concentrate, Canada EQ                48.613233   \n",
       "                           EQ                24.365160   \n",
       "                           EQ                13.042832   \n",
       "                           EQ                 1.096249   \n",
       "                           HH                19.372060   \n",
       "                           HH                 6.764174   \n",
       "                           HH                 6.342547   \n",
       "                           HH                 3.133024   \n",
       "                           HH                 3.040386   \n",
       "                           HH                 2.185086   \n",
       "                           HH                 2.142273   \n",
       "                           HH                 2.078067   \n",
       "                           HH                 1.996846   \n",
       "                           HH                 1.750437   \n",
       "Market for copper, cathode EQ                31.937649   \n",
       "                           EQ                16.276330   \n",
       "                           EQ                 9.337456   \n",
       "                           EQ                 7.505997   \n",
       "                           EQ                 6.916457   \n",
       "                           EQ                 5.815170   \n",
       "                           EQ                 3.102973   \n",
       "                           EQ                 1.190889   \n",
       "                           EQ                 1.101047   \n",
       "                           HH                23.829852   \n",
       "                           HH                23.115642   \n",
       "                           HH                17.296972   \n",
       "                           HH                 4.684067   \n",
       "                           HH                 3.449420   \n",
       "                           HH                 3.088970   \n",
       "                           HH                 1.771593   \n",
       "                           HH                 1.624752   \n",
       "                           HH                 1.283994   \n",
       "\n",
       "                                                                                         name  \\\n",
       "Inventory                  Impact Category                                                      \n",
       "Neodymium                  EQ                  treatment of non-sulfidic overburden, off-site   \n",
       "                           EQ               rare earth element mine operation and benefici...   \n",
       "                           EQ                                          citric acid production   \n",
       "                           EQ                                     water production, deionised   \n",
       "                           EQ                                          citric acid production   \n",
       "                           EQ               rare earth element mine operation and benefici...   \n",
       "                           EQ                     ammonia production, steam reforming, liquid   \n",
       "                           EQ               rare earth oxides production, from rare earth ...   \n",
       "                           EQ                                                        blasting   \n",
       "                           HH                                     water production, deionised   \n",
       "                           HH                                          citric acid production   \n",
       "                           HH                                          citric acid production   \n",
       "                           HH                     ammonia production, steam reforming, liquid   \n",
       "                           HH                                        sulfuric acid production   \n",
       "                           HH               rare earth oxides production, from rare earth ...   \n",
       "Copper concentrate, Canada EQ                                                        blasting   \n",
       "                           EQ                                                        blasting   \n",
       "                           EQ                     treatment of non-sulfidic tailing, off-site   \n",
       "                           EQ               treatment of sulfidic tailings, from copper mi...   \n",
       "                           HH               treatment of electric arc furnace slag, residu...   \n",
       "                           HH               copper mine operation and beneficiation, sulfi...   \n",
       "                           HH                                                        blasting   \n",
       "                           HH                                                        blasting   \n",
       "                           HH                                 electricity production, lignite   \n",
       "                           HH                 electricity production, hard coal, conventional   \n",
       "                           HH                     smelting of copper concentrate, sulfide ore   \n",
       "                           HH                     smelting of copper concentrate, sulfide ore   \n",
       "                           HH               heat production, at hard coal industrial furna...   \n",
       "                           HH                                 electricity production, lignite   \n",
       "Market for copper, cathode EQ                                                        blasting   \n",
       "                           EQ                                                        blasting   \n",
       "                           EQ                     smelting of copper concentrate, sulfide ore   \n",
       "                           EQ                     smelting of copper concentrate, sulfide ore   \n",
       "                           EQ                     smelting of copper concentrate, sulfide ore   \n",
       "                           EQ               platinum group metal mine operation, ore with ...   \n",
       "                           EQ                     treatment of non-sulfidic tailing, off-site   \n",
       "                           EQ               heat production, at hard coal industrial furna...   \n",
       "                           EQ                     smelting of copper concentrate, sulfide ore   \n",
       "                           HH                     smelting of copper concentrate, sulfide ore   \n",
       "                           HH                     smelting of copper concentrate, sulfide ore   \n",
       "                           HH               treatment of copper slag, residual material la...   \n",
       "                           HH                     smelting of copper concentrate, sulfide ore   \n",
       "                           HH                     smelting of copper concentrate, sulfide ore   \n",
       "                           HH               electricity production, hydro, reservoir, alpi...   \n",
       "                           HH               electricity production, hydro, reservoir, alpi...   \n",
       "                           HH                     smelting of copper concentrate, sulfide ore   \n",
       "                           HH               treatment of electric arc furnace slag, residu...   \n",
       "\n",
       "                                                                            reference product  \n",
       "Inventory                  Impact Category                                                     \n",
       "Neodymium                  EQ                               non-sulfidic overburden, off-site  \n",
       "                           EQ                                rare earth carbonate concentrate  \n",
       "                           EQ                                                     citric acid  \n",
       "                           EQ                                                water, deionised  \n",
       "                           EQ                                                     citric acid  \n",
       "                           EQ                                rare earth carbonate concentrate  \n",
       "                           EQ                                      ammonia, anhydrous, liquid  \n",
       "                           EQ                                                 neodymium oxide  \n",
       "                           EQ                                                        blasting  \n",
       "                           HH                                                water, deionised  \n",
       "                           HH                                                     citric acid  \n",
       "                           HH                                                     citric acid  \n",
       "                           HH                                      ammonia, anhydrous, liquid  \n",
       "                           HH                                                   sulfuric acid  \n",
       "                           HH                                                 neodymium oxide  \n",
       "Copper concentrate, Canada EQ                                                        blasting  \n",
       "                           EQ                                                        blasting  \n",
       "                           EQ                                  non-sulfidic tailing, off-site  \n",
       "                           EQ                   sulfidic tailings, from copper mine operation  \n",
       "                           HH                                       electric arc furnace slag  \n",
       "                           HH                                 copper concentrate, sulfide ore  \n",
       "                           HH                                                        blasting  \n",
       "                           HH                                                        blasting  \n",
       "                           HH                                       electricity, high voltage  \n",
       "                           HH                                       electricity, high voltage  \n",
       "                           HH                                                   copper, anode  \n",
       "                           HH                                                   copper, anode  \n",
       "                           HH               heat, district or industrial, other than natur...  \n",
       "                           HH                                       electricity, high voltage  \n",
       "Market for copper, cathode EQ                                                        blasting  \n",
       "                           EQ                                                        blasting  \n",
       "                           EQ                                                   copper, anode  \n",
       "                           EQ                                                   copper, anode  \n",
       "                           EQ                                                   copper, anode  \n",
       "                           EQ                                                 copper, cathode  \n",
       "                           EQ                                  non-sulfidic tailing, off-site  \n",
       "                           EQ               heat, district or industrial, other than natur...  \n",
       "                           EQ                                                   copper, anode  \n",
       "                           HH                                                   copper, anode  \n",
       "                           HH                                                   copper, anode  \n",
       "                           HH                                                     copper slag  \n",
       "                           HH                                                   copper, anode  \n",
       "                           HH                                                   copper, anode  \n",
       "                           HH                                       electricity, high voltage  \n",
       "                           HH                                       electricity, high voltage  \n",
       "                           HH                                                   copper, anode  \n",
       "                           HH                                       electric arc furnace slag  "
      ],
      "text/html": [
       "<div>\n",
       "<style scoped>\n",
       "    .dataframe tbody tr th:only-of-type {\n",
       "        vertical-align: middle;\n",
       "    }\n",
       "\n",
       "    .dataframe tbody tr th {\n",
       "        vertical-align: top;\n",
       "    }\n",
       "\n",
       "    .dataframe thead th {\n",
       "        text-align: right;\n",
       "    }\n",
       "</style>\n",
       "<table border=\"1\" class=\"dataframe\">\n",
       "  <thead>\n",
       "    <tr style=\"text-align: right;\">\n",
       "      <th></th>\n",
       "      <th></th>\n",
       "      <th>score</th>\n",
       "      <th>quantity</th>\n",
       "      <th>percentage</th>\n",
       "      <th>name</th>\n",
       "      <th>reference product</th>\n",
       "    </tr>\n",
       "    <tr>\n",
       "      <th>Inventory</th>\n",
       "      <th>Impact Category</th>\n",
       "      <th></th>\n",
       "      <th></th>\n",
       "      <th></th>\n",
       "      <th></th>\n",
       "      <th></th>\n",
       "    </tr>\n",
       "  </thead>\n",
       "  <tbody>\n",
       "    <tr>\n",
       "      <th rowspan=\"15\" valign=\"top\">Neodymium</th>\n",
       "      <th>EQ</th>\n",
       "      <td>3.341805e+01</td>\n",
       "      <td>3528.865095</td>\n",
       "      <td>24.278441</td>\n",
       "      <td>treatment of non-sulfidic overburden, off-site</td>\n",
       "      <td>non-sulfidic overburden, off-site</td>\n",
       "    </tr>\n",
       "    <tr>\n",
       "      <th>EQ</th>\n",
       "      <td>1.897885e+01</td>\n",
       "      <td>1.144535</td>\n",
       "      <td>13.788260</td>\n",
       "      <td>rare earth element mine operation and benefici...</td>\n",
       "      <td>rare earth carbonate concentrate</td>\n",
       "    </tr>\n",
       "    <tr>\n",
       "      <th>EQ</th>\n",
       "      <td>1.149891e+01</td>\n",
       "      <td>1.205575</td>\n",
       "      <td>8.354036</td>\n",
       "      <td>citric acid production</td>\n",
       "      <td>citric acid</td>\n",
       "    </tr>\n",
       "    <tr>\n",
       "      <th>EQ</th>\n",
       "      <td>7.269332e+00</td>\n",
       "      <td>806.133520</td>\n",
       "      <td>5.281219</td>\n",
       "      <td>water production, deionised</td>\n",
       "      <td>water, deionised</td>\n",
       "    </tr>\n",
       "    <tr>\n",
       "      <th>EQ</th>\n",
       "      <td>5.452072e+00</td>\n",
       "      <td>0.571609</td>\n",
       "      <td>3.960967</td>\n",
       "      <td>citric acid production</td>\n",
       "      <td>citric acid</td>\n",
       "    </tr>\n",
       "    <tr>\n",
       "      <th>EQ</th>\n",
       "      <td>4.336698e+00</td>\n",
       "      <td>0.261528</td>\n",
       "      <td>3.150640</td>\n",
       "      <td>rare earth element mine operation and benefici...</td>\n",
       "      <td>rare earth carbonate concentrate</td>\n",
       "    </tr>\n",
       "    <tr>\n",
       "      <th>EQ</th>\n",
       "      <td>3.130229e+00</td>\n",
       "      <td>2.234295</td>\n",
       "      <td>2.274132</td>\n",
       "      <td>ammonia production, steam reforming, liquid</td>\n",
       "      <td>ammonia, anhydrous, liquid</td>\n",
       "    </tr>\n",
       "    <tr>\n",
       "      <th>EQ</th>\n",
       "      <td>2.813017e+00</td>\n",
       "      <td>1.000000</td>\n",
       "      <td>2.043675</td>\n",
       "      <td>rare earth oxides production, from rare earth ...</td>\n",
       "      <td>neodymium oxide</td>\n",
       "    </tr>\n",
       "    <tr>\n",
       "      <th>EQ</th>\n",
       "      <td>2.510086e+00</td>\n",
       "      <td>0.015426</td>\n",
       "      <td>1.823594</td>\n",
       "      <td>blasting</td>\n",
       "      <td>blasting</td>\n",
       "    </tr>\n",
       "    <tr>\n",
       "      <th>HH</th>\n",
       "      <td>1.654619e-04</td>\n",
       "      <td>806.133520</td>\n",
       "      <td>102.162799</td>\n",
       "      <td>water production, deionised</td>\n",
       "      <td>water, deionised</td>\n",
       "    </tr>\n",
       "    <tr>\n",
       "      <th>HH</th>\n",
       "      <td>7.944620e-05</td>\n",
       "      <td>1.205575</td>\n",
       "      <td>49.053274</td>\n",
       "      <td>citric acid production</td>\n",
       "      <td>citric acid</td>\n",
       "    </tr>\n",
       "    <tr>\n",
       "      <th>HH</th>\n",
       "      <td>3.766847e-05</td>\n",
       "      <td>0.571609</td>\n",
       "      <td>23.258028</td>\n",
       "      <td>citric acid production</td>\n",
       "      <td>citric acid</td>\n",
       "    </tr>\n",
       "    <tr>\n",
       "      <th>HH</th>\n",
       "      <td>2.273334e-05</td>\n",
       "      <td>2.234295</td>\n",
       "      <td>14.036476</td>\n",
       "      <td>ammonia production, steam reforming, liquid</td>\n",
       "      <td>ammonia, anhydrous, liquid</td>\n",
       "    </tr>\n",
       "    <tr>\n",
       "      <th>HH</th>\n",
       "      <td>1.658454e-05</td>\n",
       "      <td>4.161896</td>\n",
       "      <td>10.239962</td>\n",
       "      <td>sulfuric acid production</td>\n",
       "      <td>sulfuric acid</td>\n",
       "    </tr>\n",
       "    <tr>\n",
       "      <th>HH</th>\n",
       "      <td>1.632462e-05</td>\n",
       "      <td>1.000000</td>\n",
       "      <td>10.079473</td>\n",
       "      <td>rare earth oxides production, from rare earth ...</td>\n",
       "      <td>neodymium oxide</td>\n",
       "    </tr>\n",
       "    <tr>\n",
       "      <th rowspan=\"14\" valign=\"top\">Copper concentrate, Canada</th>\n",
       "      <th>EQ</th>\n",
       "      <td>5.589777e+00</td>\n",
       "      <td>0.034353</td>\n",
       "      <td>48.613233</td>\n",
       "      <td>blasting</td>\n",
       "      <td>blasting</td>\n",
       "    </tr>\n",
       "    <tr>\n",
       "      <th>EQ</th>\n",
       "      <td>2.801620e+00</td>\n",
       "      <td>0.016969</td>\n",
       "      <td>24.365160</td>\n",
       "      <td>blasting</td>\n",
       "      <td>blasting</td>\n",
       "    </tr>\n",
       "    <tr>\n",
       "      <th>EQ</th>\n",
       "      <td>1.499726e+00</td>\n",
       "      <td>158.367404</td>\n",
       "      <td>13.042832</td>\n",
       "      <td>treatment of non-sulfidic tailing, off-site</td>\n",
       "      <td>non-sulfidic tailing, off-site</td>\n",
       "    </tr>\n",
       "    <tr>\n",
       "      <th>EQ</th>\n",
       "      <td>1.260518e-01</td>\n",
       "      <td>90.254200</td>\n",
       "      <td>1.096249</td>\n",
       "      <td>treatment of sulfidic tailings, from copper mi...</td>\n",
       "      <td>sulfidic tailings, from copper mine operation</td>\n",
       "    </tr>\n",
       "    <tr>\n",
       "      <th>HH</th>\n",
       "      <td>2.019135e-06</td>\n",
       "      <td>0.010450</td>\n",
       "      <td>19.372060</td>\n",
       "      <td>treatment of electric arc furnace slag, residu...</td>\n",
       "      <td>electric arc furnace slag</td>\n",
       "    </tr>\n",
       "    <tr>\n",
       "      <th>HH</th>\n",
       "      <td>7.050246e-07</td>\n",
       "      <td>1.000108</td>\n",
       "      <td>6.764174</td>\n",
       "      <td>copper mine operation and beneficiation, sulfi...</td>\n",
       "      <td>copper concentrate, sulfide ore</td>\n",
       "    </tr>\n",
       "    <tr>\n",
       "      <th>HH</th>\n",
       "      <td>6.610788e-07</td>\n",
       "      <td>0.034353</td>\n",
       "      <td>6.342547</td>\n",
       "      <td>blasting</td>\n",
       "      <td>blasting</td>\n",
       "    </tr>\n",
       "    <tr>\n",
       "      <th>HH</th>\n",
       "      <td>3.265527e-07</td>\n",
       "      <td>0.016969</td>\n",
       "      <td>3.133024</td>\n",
       "      <td>blasting</td>\n",
       "      <td>blasting</td>\n",
       "    </tr>\n",
       "    <tr>\n",
       "      <th>HH</th>\n",
       "      <td>3.168971e-07</td>\n",
       "      <td>0.073909</td>\n",
       "      <td>3.040386</td>\n",
       "      <td>electricity production, lignite</td>\n",
       "      <td>electricity, high voltage</td>\n",
       "    </tr>\n",
       "    <tr>\n",
       "      <th>HH</th>\n",
       "      <td>2.277498e-07</td>\n",
       "      <td>0.046554</td>\n",
       "      <td>2.185086</td>\n",
       "      <td>electricity production, hard coal, conventional</td>\n",
       "      <td>electricity, high voltage</td>\n",
       "    </tr>\n",
       "    <tr>\n",
       "      <th>HH</th>\n",
       "      <td>2.232875e-07</td>\n",
       "      <td>0.000855</td>\n",
       "      <td>2.142273</td>\n",
       "      <td>smelting of copper concentrate, sulfide ore</td>\n",
       "      <td>copper, anode</td>\n",
       "    </tr>\n",
       "    <tr>\n",
       "      <th>HH</th>\n",
       "      <td>2.165953e-07</td>\n",
       "      <td>0.000838</td>\n",
       "      <td>2.078067</td>\n",
       "      <td>smelting of copper concentrate, sulfide ore</td>\n",
       "      <td>copper, anode</td>\n",
       "    </tr>\n",
       "    <tr>\n",
       "      <th>HH</th>\n",
       "      <td>2.081297e-07</td>\n",
       "      <td>0.383445</td>\n",
       "      <td>1.996846</td>\n",
       "      <td>heat production, at hard coal industrial furna...</td>\n",
       "      <td>heat, district or industrial, other than natur...</td>\n",
       "    </tr>\n",
       "    <tr>\n",
       "      <th>HH</th>\n",
       "      <td>1.824467e-07</td>\n",
       "      <td>0.014074</td>\n",
       "      <td>1.750437</td>\n",
       "      <td>electricity production, lignite</td>\n",
       "      <td>electricity, high voltage</td>\n",
       "    </tr>\n",
       "    <tr>\n",
       "      <th rowspan=\"18\" valign=\"top\">Market for copper, cathode</th>\n",
       "      <th>EQ</th>\n",
       "      <td>1.441268e+01</td>\n",
       "      <td>0.088576</td>\n",
       "      <td>31.937649</td>\n",
       "      <td>blasting</td>\n",
       "      <td>blasting</td>\n",
       "    </tr>\n",
       "    <tr>\n",
       "      <th>EQ</th>\n",
       "      <td>7.345109e+00</td>\n",
       "      <td>0.044489</td>\n",
       "      <td>16.276330</td>\n",
       "      <td>blasting</td>\n",
       "      <td>blasting</td>\n",
       "    </tr>\n",
       "    <tr>\n",
       "      <th>EQ</th>\n",
       "      <td>4.213765e+00</td>\n",
       "      <td>0.239557</td>\n",
       "      <td>9.337456</td>\n",
       "      <td>smelting of copper concentrate, sulfide ore</td>\n",
       "      <td>copper, anode</td>\n",
       "    </tr>\n",
       "    <tr>\n",
       "      <th>EQ</th>\n",
       "      <td>3.387273e+00</td>\n",
       "      <td>0.028234</td>\n",
       "      <td>7.505997</td>\n",
       "      <td>smelting of copper concentrate, sulfide ore</td>\n",
       "      <td>copper, anode</td>\n",
       "    </tr>\n",
       "    <tr>\n",
       "      <th>EQ</th>\n",
       "      <td>3.121228e+00</td>\n",
       "      <td>0.234890</td>\n",
       "      <td>6.916457</td>\n",
       "      <td>smelting of copper concentrate, sulfide ore</td>\n",
       "      <td>copper, anode</td>\n",
       "    </tr>\n",
       "    <tr>\n",
       "      <th>EQ</th>\n",
       "      <td>2.624244e+00</td>\n",
       "      <td>0.015873</td>\n",
       "      <td>5.815170</td>\n",
       "      <td>platinum group metal mine operation, ore with ...</td>\n",
       "      <td>copper, cathode</td>\n",
       "    </tr>\n",
       "    <tr>\n",
       "      <th>EQ</th>\n",
       "      <td>1.400296e+00</td>\n",
       "      <td>147.867847</td>\n",
       "      <td>3.102973</td>\n",
       "      <td>treatment of non-sulfidic tailing, off-site</td>\n",
       "      <td>non-sulfidic tailing, off-site</td>\n",
       "    </tr>\n",
       "    <tr>\n",
       "      <th>EQ</th>\n",
       "      <td>5.374190e-01</td>\n",
       "      <td>3.879929</td>\n",
       "      <td>1.190889</td>\n",
       "      <td>heat production, at hard coal industrial furna...</td>\n",
       "      <td>heat, district or industrial, other than natur...</td>\n",
       "    </tr>\n",
       "    <tr>\n",
       "      <th>EQ</th>\n",
       "      <td>4.968756e-01</td>\n",
       "      <td>0.046643</td>\n",
       "      <td>1.101047</td>\n",
       "      <td>smelting of copper concentrate, sulfide ore</td>\n",
       "      <td>copper, anode</td>\n",
       "    </tr>\n",
       "    <tr>\n",
       "      <th>HH</th>\n",
       "      <td>6.257580e-05</td>\n",
       "      <td>0.239557</td>\n",
       "      <td>23.829852</td>\n",
       "      <td>smelting of copper concentrate, sulfide ore</td>\n",
       "      <td>copper, anode</td>\n",
       "    </tr>\n",
       "    <tr>\n",
       "      <th>HH</th>\n",
       "      <td>6.070033e-05</td>\n",
       "      <td>0.234890</td>\n",
       "      <td>23.115642</td>\n",
       "      <td>smelting of copper concentrate, sulfide ore</td>\n",
       "      <td>copper, anode</td>\n",
       "    </tr>\n",
       "    <tr>\n",
       "      <th>HH</th>\n",
       "      <td>4.542084e-05</td>\n",
       "      <td>0.957740</td>\n",
       "      <td>17.296972</td>\n",
       "      <td>treatment of copper slag, residual material la...</td>\n",
       "      <td>copper slag</td>\n",
       "    </tr>\n",
       "    <tr>\n",
       "      <th>HH</th>\n",
       "      <td>1.230009e-05</td>\n",
       "      <td>0.046643</td>\n",
       "      <td>4.684067</td>\n",
       "      <td>smelting of copper concentrate, sulfide ore</td>\n",
       "      <td>copper, anode</td>\n",
       "    </tr>\n",
       "    <tr>\n",
       "      <th>HH</th>\n",
       "      <td>9.057976e-06</td>\n",
       "      <td>0.028234</td>\n",
       "      <td>3.449420</td>\n",
       "      <td>smelting of copper concentrate, sulfide ore</td>\n",
       "      <td>copper, anode</td>\n",
       "    </tr>\n",
       "    <tr>\n",
       "      <th>HH</th>\n",
       "      <td>8.111455e-06</td>\n",
       "      <td>2.425297</td>\n",
       "      <td>3.088970</td>\n",
       "      <td>electricity production, hydro, reservoir, alpi...</td>\n",
       "      <td>electricity, high voltage</td>\n",
       "    </tr>\n",
       "    <tr>\n",
       "      <th>HH</th>\n",
       "      <td>4.652100e-06</td>\n",
       "      <td>0.134229</td>\n",
       "      <td>1.771593</td>\n",
       "      <td>electricity production, hydro, reservoir, alpi...</td>\n",
       "      <td>electricity, high voltage</td>\n",
       "    </tr>\n",
       "    <tr>\n",
       "      <th>HH</th>\n",
       "      <td>4.266504e-06</td>\n",
       "      <td>0.018023</td>\n",
       "      <td>1.624752</td>\n",
       "      <td>smelting of copper concentrate, sulfide ore</td>\n",
       "      <td>copper, anode</td>\n",
       "    </tr>\n",
       "    <tr>\n",
       "      <th>HH</th>\n",
       "      <td>3.371692e-06</td>\n",
       "      <td>0.017451</td>\n",
       "      <td>1.283994</td>\n",
       "      <td>treatment of electric arc furnace slag, residu...</td>\n",
       "      <td>electric arc furnace slag</td>\n",
       "    </tr>\n",
       "  </tbody>\n",
       "</table>\n",
       "</div>"
      ]
     },
     "execution_count": 26,
     "metadata": {},
     "output_type": "execute_result"
    }
   ],
   "execution_count": 26
  },
  {
   "metadata": {
    "ExecuteTime": {
     "end_time": "2024-11-05T19:40:39.079700Z",
     "start_time": "2024-11-05T19:40:38.774160Z"
    }
   },
   "cell_type": "code",
   "source": [
    "# Example usage\n",
    "inventory_names = [\"Neodymium\"]\n",
    "colors = [\"#1f77b4\"]\n",
    "plot_contribution_analysis(contribution_analysis_df, inventory_names, colors, save_dir=\"results\")"
   ],
   "id": "8ed56d3c4628e046",
   "outputs": [
    {
     "name": "stdout",
     "output_type": "stream",
     "text": [
      "Plot saved to results/contribution_analysis_Neodymium.png\n"
     ]
    }
   ],
   "execution_count": 27
  },
  {
   "metadata": {
    "ExecuteTime": {
     "end_time": "2024-10-31T01:19:34.174769Z",
     "start_time": "2024-10-31T01:19:34.161602Z"
    }
   },
   "cell_type": "code",
   "source": "#contribution_analysis_df.to_csv(f\"results/contribution_analysis_{datetime.datetime.today().strftime('%d-%m-%Y')}.csv\")",
   "id": "64c15a88ae1aea8a",
   "outputs": [],
   "execution_count": 21
  },
  {
   "metadata": {},
   "cell_type": "markdown",
   "source": "# Demand-related impacts",
   "id": "53640853be6fd242"
  },
  {
   "metadata": {
    "ExecuteTime": {
     "end_time": "2024-10-31T01:19:34.296241Z",
     "start_time": "2024-10-31T01:19:34.180072Z"
    }
   },
   "cell_type": "code",
   "source": [
    "production_existing = pd.read_excel(r'data/scenarios_canadian_climate_institute.xlsx', sheet_name='Production_existing')\n",
    "production_potential = pd.read_excel(r'data/scenarios_canadian_climate_institute.xlsx', sheet_name='Production_potential')\n",
    "production_existing = production_existing[production_existing['Scenario']=='Domestic demand scenario']\n",
    "production_potential = production_potential[production_potential['Scenario']=='Domestic demand scenario']"
   ],
   "id": "6f4231a77c67d782",
   "outputs": [],
   "execution_count": 22
  },
  {
   "metadata": {
    "ExecuteTime": {
     "end_time": "2024-10-31T01:19:34.358276Z",
     "start_time": "2024-10-31T01:19:34.345353Z"
    }
   },
   "cell_type": "code",
   "source": "production_existing['Mineral'].unique()",
   "id": "c2cc7d07c99006d5",
   "outputs": [
    {
     "data": {
      "text/plain": [
       "array(['Cobalt', 'Copper', 'Lithium', 'Nickel', 'Graphite', 'Neodymium'],\n",
       "      dtype=object)"
      ]
     },
     "execution_count": 23,
     "metadata": {},
     "output_type": "execute_result"
    }
   ],
   "execution_count": 23
  },
  {
   "metadata": {
    "ExecuteTime": {
     "end_time": "2024-10-31T01:19:34.419188Z",
     "start_time": "2024-10-31T01:19:34.406191Z"
    }
   },
   "cell_type": "code",
   "source": [
    "specific_lca = specific_lca.reset_index().rename(columns={'index': 'Mineral'})\n",
    "specific_lca"
   ],
   "id": "288803d3c42165d4",
   "outputs": [
    {
     "data": {
      "text/plain": [
       "                         Mineral  Climate change (kg CO2-Eq)  \\\n",
       "0       Lithium hydroxide, brine                    7.670832   \n",
       "1   Lithium hydroxide, spodumene                   17.180445   \n",
       "2                         Cobalt                   14.927615   \n",
       "3                         Nickel                    5.460966   \n",
       "4              Graphite, natural                   10.541640   \n",
       "5            Graphite, synthetic                   43.735114   \n",
       "6       Lithium carbonate, brine                    3.610366   \n",
       "7   Lithium carbonate, spodumene                   24.024092   \n",
       "8                      Neodymium                   55.058910   \n",
       "9     Copper concentrate, Canada                    1.249726   \n",
       "10    Market for copper, cathode                    7.014152   \n",
       "\n",
       "    Ecosystem quality (PDF.m2.yr)  Human health (DALYs)  \\\n",
       "0                        0.827068              0.000006   \n",
       "1                        3.344400              0.000022   \n",
       "2                        3.351673              0.000028   \n",
       "3                        6.702595              0.000033   \n",
       "4                        2.119473              0.000009   \n",
       "5                        7.392098              0.000033   \n",
       "6                        0.517874              0.000003   \n",
       "7                        4.659097              0.000031   \n",
       "8                       72.895905              0.000079   \n",
       "9                        2.174542              0.000003   \n",
       "10                       9.459163              0.000088   \n",
       "\n",
       "    Water use (m3 world Eq deprived)  \n",
       "0                           2.078440  \n",
       "1                           2.487335  \n",
       "2                           4.524261  \n",
       "3                           1.033520  \n",
       "4                          36.364382  \n",
       "5                           4.378197  \n",
       "6                           1.869038  \n",
       "7                           3.387107  \n",
       "8                          36.117563  \n",
       "9                           2.101341  \n",
       "10                          5.603142  "
      ],
      "text/html": [
       "<div>\n",
       "<style scoped>\n",
       "    .dataframe tbody tr th:only-of-type {\n",
       "        vertical-align: middle;\n",
       "    }\n",
       "\n",
       "    .dataframe tbody tr th {\n",
       "        vertical-align: top;\n",
       "    }\n",
       "\n",
       "    .dataframe thead th {\n",
       "        text-align: right;\n",
       "    }\n",
       "</style>\n",
       "<table border=\"1\" class=\"dataframe\">\n",
       "  <thead>\n",
       "    <tr style=\"text-align: right;\">\n",
       "      <th></th>\n",
       "      <th>Mineral</th>\n",
       "      <th>Climate change (kg CO2-Eq)</th>\n",
       "      <th>Ecosystem quality (PDF.m2.yr)</th>\n",
       "      <th>Human health (DALYs)</th>\n",
       "      <th>Water use (m3 world Eq deprived)</th>\n",
       "    </tr>\n",
       "  </thead>\n",
       "  <tbody>\n",
       "    <tr>\n",
       "      <th>0</th>\n",
       "      <td>Lithium hydroxide, brine</td>\n",
       "      <td>7.670832</td>\n",
       "      <td>0.827068</td>\n",
       "      <td>0.000006</td>\n",
       "      <td>2.078440</td>\n",
       "    </tr>\n",
       "    <tr>\n",
       "      <th>1</th>\n",
       "      <td>Lithium hydroxide, spodumene</td>\n",
       "      <td>17.180445</td>\n",
       "      <td>3.344400</td>\n",
       "      <td>0.000022</td>\n",
       "      <td>2.487335</td>\n",
       "    </tr>\n",
       "    <tr>\n",
       "      <th>2</th>\n",
       "      <td>Cobalt</td>\n",
       "      <td>14.927615</td>\n",
       "      <td>3.351673</td>\n",
       "      <td>0.000028</td>\n",
       "      <td>4.524261</td>\n",
       "    </tr>\n",
       "    <tr>\n",
       "      <th>3</th>\n",
       "      <td>Nickel</td>\n",
       "      <td>5.460966</td>\n",
       "      <td>6.702595</td>\n",
       "      <td>0.000033</td>\n",
       "      <td>1.033520</td>\n",
       "    </tr>\n",
       "    <tr>\n",
       "      <th>4</th>\n",
       "      <td>Graphite, natural</td>\n",
       "      <td>10.541640</td>\n",
       "      <td>2.119473</td>\n",
       "      <td>0.000009</td>\n",
       "      <td>36.364382</td>\n",
       "    </tr>\n",
       "    <tr>\n",
       "      <th>5</th>\n",
       "      <td>Graphite, synthetic</td>\n",
       "      <td>43.735114</td>\n",
       "      <td>7.392098</td>\n",
       "      <td>0.000033</td>\n",
       "      <td>4.378197</td>\n",
       "    </tr>\n",
       "    <tr>\n",
       "      <th>6</th>\n",
       "      <td>Lithium carbonate, brine</td>\n",
       "      <td>3.610366</td>\n",
       "      <td>0.517874</td>\n",
       "      <td>0.000003</td>\n",
       "      <td>1.869038</td>\n",
       "    </tr>\n",
       "    <tr>\n",
       "      <th>7</th>\n",
       "      <td>Lithium carbonate, spodumene</td>\n",
       "      <td>24.024092</td>\n",
       "      <td>4.659097</td>\n",
       "      <td>0.000031</td>\n",
       "      <td>3.387107</td>\n",
       "    </tr>\n",
       "    <tr>\n",
       "      <th>8</th>\n",
       "      <td>Neodymium</td>\n",
       "      <td>55.058910</td>\n",
       "      <td>72.895905</td>\n",
       "      <td>0.000079</td>\n",
       "      <td>36.117563</td>\n",
       "    </tr>\n",
       "    <tr>\n",
       "      <th>9</th>\n",
       "      <td>Copper concentrate, Canada</td>\n",
       "      <td>1.249726</td>\n",
       "      <td>2.174542</td>\n",
       "      <td>0.000003</td>\n",
       "      <td>2.101341</td>\n",
       "    </tr>\n",
       "    <tr>\n",
       "      <th>10</th>\n",
       "      <td>Market for copper, cathode</td>\n",
       "      <td>7.014152</td>\n",
       "      <td>9.459163</td>\n",
       "      <td>0.000088</td>\n",
       "      <td>5.603142</td>\n",
       "    </tr>\n",
       "  </tbody>\n",
       "</table>\n",
       "</div>"
      ]
     },
     "execution_count": 24,
     "metadata": {},
     "output_type": "execute_result"
    }
   ],
   "execution_count": 24
  },
  {
   "metadata": {
    "ExecuteTime": {
     "end_time": "2024-10-31T01:19:34.558207Z",
     "start_time": "2024-10-31T01:19:34.544487Z"
    }
   },
   "cell_type": "code",
   "source": [
    "# Define a manual mapping to link the mineral in the scenario with the LCI of our choice\n",
    "mineral_to_material = {\n",
    "    \"Cobalt\": \"Cobalt\",\n",
    "    \"Copper\": \"Copper concentrate, Canada\",\n",
    "    \"Lithium\": \"Lithium carbonate, spodumene\",\n",
    "    \"Nickel\": \"Nickel\",\n",
    "    \"Graphite\": \"Graphite, natural\",\n",
    "    \"Neodymium\": \"Copper concentrate, Canada\"  \n",
    "}\n"
   ],
   "id": "a800055ad6fe1e04",
   "outputs": [],
   "execution_count": 25
  },
  {
   "metadata": {
    "ExecuteTime": {
     "end_time": "2024-10-31T01:19:34.684799Z",
     "start_time": "2024-10-31T01:19:34.640276Z"
    }
   },
   "cell_type": "code",
   "source": [
    "# Generate the projected impacts DataFrame\n",
    "projected_impacts_existing_production = calculate_projected_impacts(production_existing, specific_lca, mineral_to_material)\n",
    "projected_impacts_potential_production = calculate_projected_impacts(production_potential, specific_lca, mineral_to_material)\n"
   ],
   "id": "e4e4d3dcb95b0e0b",
   "outputs": [],
   "execution_count": 26
  },
  {
   "metadata": {
    "ExecuteTime": {
     "end_time": "2024-10-31T01:19:34.731389Z",
     "start_time": "2024-10-31T01:19:34.711167Z"
    }
   },
   "cell_type": "code",
   "source": "projected_impacts_existing_production",
   "id": "7f4f18012ca43900",
   "outputs": [
    {
     "data": {
      "text/plain": [
       "     Climate change (kg CO2-Eq)  Ecosystem quality (PDF.m2.yr)  \\\n",
       "0                  6.174211e+07                   1.386285e+07   \n",
       "1                  5.124650e+07                   1.150629e+07   \n",
       "2                  4.831060e+07                   1.084710e+07   \n",
       "3                  5.685417e+07                   1.276537e+07   \n",
       "4                  3.785857e+07                   8.500322e+06   \n",
       "..                          ...                            ...   \n",
       "133                0.000000e+00                   0.000000e+00   \n",
       "134                0.000000e+00                   0.000000e+00   \n",
       "135                0.000000e+00                   0.000000e+00   \n",
       "136                0.000000e+00                   0.000000e+00   \n",
       "137                0.000000e+00                   0.000000e+00   \n",
       "\n",
       "     Human health (DALYs)  Water use (m3 world Eq deprived)  Year    Mineral  \n",
       "0              117.461302                      1.871280e+07  2018     Cobalt  \n",
       "1               97.493931                      1.553179e+07  2019     Cobalt  \n",
       "2               91.908520                      1.464198e+07  2020     Cobalt  \n",
       "3              108.162233                      1.723136e+07  2021     Cobalt  \n",
       "4               72.024047                      1.147417e+07  2022     Cobalt  \n",
       "..                    ...                               ...   ...        ...  \n",
       "133              0.000000                      0.000000e+00  2036  Neodymium  \n",
       "134              0.000000                      0.000000e+00  2037  Neodymium  \n",
       "135              0.000000                      0.000000e+00  2038  Neodymium  \n",
       "136              0.000000                      0.000000e+00  2039  Neodymium  \n",
       "137              0.000000                      0.000000e+00  2040  Neodymium  \n",
       "\n",
       "[138 rows x 6 columns]"
      ],
      "text/html": [
       "<div>\n",
       "<style scoped>\n",
       "    .dataframe tbody tr th:only-of-type {\n",
       "        vertical-align: middle;\n",
       "    }\n",
       "\n",
       "    .dataframe tbody tr th {\n",
       "        vertical-align: top;\n",
       "    }\n",
       "\n",
       "    .dataframe thead th {\n",
       "        text-align: right;\n",
       "    }\n",
       "</style>\n",
       "<table border=\"1\" class=\"dataframe\">\n",
       "  <thead>\n",
       "    <tr style=\"text-align: right;\">\n",
       "      <th></th>\n",
       "      <th>Climate change (kg CO2-Eq)</th>\n",
       "      <th>Ecosystem quality (PDF.m2.yr)</th>\n",
       "      <th>Human health (DALYs)</th>\n",
       "      <th>Water use (m3 world Eq deprived)</th>\n",
       "      <th>Year</th>\n",
       "      <th>Mineral</th>\n",
       "    </tr>\n",
       "  </thead>\n",
       "  <tbody>\n",
       "    <tr>\n",
       "      <th>0</th>\n",
       "      <td>6.174211e+07</td>\n",
       "      <td>1.386285e+07</td>\n",
       "      <td>117.461302</td>\n",
       "      <td>1.871280e+07</td>\n",
       "      <td>2018</td>\n",
       "      <td>Cobalt</td>\n",
       "    </tr>\n",
       "    <tr>\n",
       "      <th>1</th>\n",
       "      <td>5.124650e+07</td>\n",
       "      <td>1.150629e+07</td>\n",
       "      <td>97.493931</td>\n",
       "      <td>1.553179e+07</td>\n",
       "      <td>2019</td>\n",
       "      <td>Cobalt</td>\n",
       "    </tr>\n",
       "    <tr>\n",
       "      <th>2</th>\n",
       "      <td>4.831060e+07</td>\n",
       "      <td>1.084710e+07</td>\n",
       "      <td>91.908520</td>\n",
       "      <td>1.464198e+07</td>\n",
       "      <td>2020</td>\n",
       "      <td>Cobalt</td>\n",
       "    </tr>\n",
       "    <tr>\n",
       "      <th>3</th>\n",
       "      <td>5.685417e+07</td>\n",
       "      <td>1.276537e+07</td>\n",
       "      <td>108.162233</td>\n",
       "      <td>1.723136e+07</td>\n",
       "      <td>2021</td>\n",
       "      <td>Cobalt</td>\n",
       "    </tr>\n",
       "    <tr>\n",
       "      <th>4</th>\n",
       "      <td>3.785857e+07</td>\n",
       "      <td>8.500322e+06</td>\n",
       "      <td>72.024047</td>\n",
       "      <td>1.147417e+07</td>\n",
       "      <td>2022</td>\n",
       "      <td>Cobalt</td>\n",
       "    </tr>\n",
       "    <tr>\n",
       "      <th>...</th>\n",
       "      <td>...</td>\n",
       "      <td>...</td>\n",
       "      <td>...</td>\n",
       "      <td>...</td>\n",
       "      <td>...</td>\n",
       "      <td>...</td>\n",
       "    </tr>\n",
       "    <tr>\n",
       "      <th>133</th>\n",
       "      <td>0.000000e+00</td>\n",
       "      <td>0.000000e+00</td>\n",
       "      <td>0.000000</td>\n",
       "      <td>0.000000e+00</td>\n",
       "      <td>2036</td>\n",
       "      <td>Neodymium</td>\n",
       "    </tr>\n",
       "    <tr>\n",
       "      <th>134</th>\n",
       "      <td>0.000000e+00</td>\n",
       "      <td>0.000000e+00</td>\n",
       "      <td>0.000000</td>\n",
       "      <td>0.000000e+00</td>\n",
       "      <td>2037</td>\n",
       "      <td>Neodymium</td>\n",
       "    </tr>\n",
       "    <tr>\n",
       "      <th>135</th>\n",
       "      <td>0.000000e+00</td>\n",
       "      <td>0.000000e+00</td>\n",
       "      <td>0.000000</td>\n",
       "      <td>0.000000e+00</td>\n",
       "      <td>2038</td>\n",
       "      <td>Neodymium</td>\n",
       "    </tr>\n",
       "    <tr>\n",
       "      <th>136</th>\n",
       "      <td>0.000000e+00</td>\n",
       "      <td>0.000000e+00</td>\n",
       "      <td>0.000000</td>\n",
       "      <td>0.000000e+00</td>\n",
       "      <td>2039</td>\n",
       "      <td>Neodymium</td>\n",
       "    </tr>\n",
       "    <tr>\n",
       "      <th>137</th>\n",
       "      <td>0.000000e+00</td>\n",
       "      <td>0.000000e+00</td>\n",
       "      <td>0.000000</td>\n",
       "      <td>0.000000e+00</td>\n",
       "      <td>2040</td>\n",
       "      <td>Neodymium</td>\n",
       "    </tr>\n",
       "  </tbody>\n",
       "</table>\n",
       "<p>138 rows × 6 columns</p>\n",
       "</div>"
      ]
     },
     "execution_count": 27,
     "metadata": {},
     "output_type": "execute_result"
    }
   ],
   "execution_count": 27
  },
  {
   "metadata": {
    "ExecuteTime": {
     "end_time": "2024-10-31T01:19:39.786552Z",
     "start_time": "2024-10-31T01:19:34.874299Z"
    }
   },
   "cell_type": "code",
   "source": [
    "# Plot impacts per production scenario\n",
    "plot_impacts_with_production(projected_impacts_existing_production, production_existing, impact_categories, scenario_name='existing_production')\n",
    "plot_impacts_with_production(projected_impacts_potential_production, production_potential, impact_categories, scenario_name='potential_production')\n"
   ],
   "id": "f79da374858de1b2",
   "outputs": [
    {
     "name": "stdout",
     "output_type": "stream",
     "text": [
      "Combined plot saved to results\\combined_impact_existing_production.png\n",
      "Combined plot saved to results\\combined_impact_potential_production.png\n"
     ]
    }
   ],
   "execution_count": 28
  },
  {
   "metadata": {
    "ExecuteTime": {
     "end_time": "2024-10-31T01:24:41.306957Z",
     "start_time": "2024-10-31T01:24:39.127546Z"
    }
   },
   "cell_type": "code",
   "source": [
    "# Plot incremental impacts from potential production to existing production\n",
    "plot_incremental_impacts(projected_impacts_existing_production, projected_impacts_potential_production,\n",
    "                                 production_existing, production_potential, \n",
    "                                 impact_categories, save_dir=\"results\", scenario_name=\"incremental_comparison\")\n"
   ],
   "id": "c64e63499e437e5c",
   "outputs": [
    {
     "name": "stdout",
     "output_type": "stream",
     "text": [
      "Incremental impact stacked plot saved to results\\incremental_impact_incremental_comparison_stacked.png\n"
     ]
    }
   ],
   "execution_count": 34
  },
  {
   "metadata": {},
   "cell_type": "code",
   "outputs": [],
   "execution_count": null,
   "source": "",
   "id": "315509c981310e5e"
  }
 ],
 "metadata": {
  "kernelspec": {
   "display_name": "Python 3 (ipykernel)",
   "language": "python",
   "name": "python3"
  },
  "language_info": {
   "codemirror_mode": {
    "name": "ipython",
    "version": 3
   },
   "file_extension": ".py",
   "mimetype": "text/x-python",
   "name": "python",
   "nbconvert_exporter": "python",
   "pygments_lexer": "ipython3",
   "version": "3.10.15"
  }
 },
 "nbformat": 4,
 "nbformat_minor": 5
}
